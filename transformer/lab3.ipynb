{
 "cells": [
  {
   "cell_type": "markdown",
   "id": "cab64108",
   "metadata": {
    "id": "819e7379",
    "papermill": {
     "duration": 0.026018,
     "end_time": "2024-05-10T15:22:49.647797",
     "exception": false,
     "start_time": "2024-05-10T15:22:49.621779",
     "status": "completed"
    },
    "tags": []
   },
   "source": [
    "# Transformer\n",
    "\n",
    "同学们好，在这个notebook中，我们将一步步实现self-attention算法和transformer的结构，同时复习Pytorch中的矩阵操作。\n",
    "\n",
    "到目前为止，我们已经看到了循环神经网络（RNNs），它在序列到序列的任务上表现出色，但有两个主要缺点：（1）对于长序列，它们可能会出现梯度消失的问题；（2）由于隐藏状态之间的顺序依赖关系，它们可能需要很长时间来训练，这并未充分利用现代 GPU 的并行架构。第一个问题在一定程度上可以通过使用替代的 RNN 架构（如 LSTM、GRU）来解决，但第二个问题没有得到解决。\n",
    "\n",
    "Transformer 在一定程度上解决了这些问题，它可以在训练期间并行处理输入，即使是长序列也能处理。在这个notebook中，我们将逐步实现 Transformer 模型，参考原始论文[Attention is all you need](https://arxiv.org/pdf/1706.03762.pdf)。我们还将使用一个AddSub数据集来解决一个向量到向量的问题。\n",
    "\n",
    "在序列到序列的任务中，通常我们会同时使用编码器和解码器。在这次作业中，你将学习如何逐步实现基于编码器-解码器的 Transformer。我们将在这里实现一个更简单的版本，完成一个向量到向量的任务。这基本上意味着输入和输出序列的长度是**固定的**，我们不必担心输入序列的可变长度。\n",
    "\n",
    "1. [**第一部分（准备工作）**](#第一部分：准备工作)：导入需要的包，运行项目中所需要的function\n",
    "1. [**第二部分（实现 Transformer 模块）**](#第二部分：实现Transformer构建模块)：我们将学习如何实现 Transformer 的构建模块。它将包括以下模块：\n",
    "   1. 多头注意力（MultiHeadAttention）\n",
    "   2. 前馈网络（FeedForward）\n",
    "   3. 层归一化（LayerNorm）\n",
    "   4. 编码器块（Encoder Block）\n",
    "   5. 解码器块（Decoder Block）\n",
    "1. [**第三部分（数据加载）**](#第三部分：数据加载器)：我们将预处理一个AddSub数据集，其中包含输入算术表达式和表达式的输出结果。我们将使用位置编码（Positional Embedding）模块，同时我们将会构建数据加载器（DataLoader）。\n",
    "1. [**第四部分（训练模型）**](#第四部分:在AddSub数据集上训练Transformer)：在最后一部分，我们将看看如何将实现的 Transformer 模型拟合到AddSub数据集上。\n",
    "\n",
    "你可以在 CPU 上运行所有事情直到第3部分。第4部分需要 GPU，而在切换到此部分的运行时时，你还需要运行所有之前的部分，因为第4部分依赖于之前的部分。\n",
    "\n"
   ]
  },
  {
   "cell_type": "markdown",
   "id": "727dcad7",
   "metadata": {
    "id": "3e1c7486",
    "papermill": {
     "duration": 0.026222,
     "end_time": "2024-05-10T15:22:49.699734",
     "exception": false,
     "start_time": "2024-05-10T15:22:49.673512",
     "status": "completed"
    },
    "tags": []
   },
   "source": [
    "# 第一部分：准备工作"
   ]
  },
  {
   "cell_type": "markdown",
   "id": "33101f53",
   "metadata": {
    "papermill": {
     "duration": 0.025189,
     "end_time": "2024-05-10T15:22:49.750759",
     "exception": false,
     "start_time": "2024-05-10T15:22:49.725570",
     "status": "completed"
    },
    "tags": []
   },
   "source": [
    "请同学们运行一下block，导入所需要的包以及功能函数。"
   ]
  },
  {
   "cell_type": "code",
   "execution_count": 1,
   "id": "d25094ed",
   "metadata": {
    "execution": {
     "iopub.execute_input": "2024-05-10T15:22:49.803424Z",
     "iopub.status.busy": "2024-05-10T15:22:49.802610Z",
     "iopub.status.idle": "2024-05-10T15:22:54.679784Z",
     "shell.execute_reply": "2024-05-10T15:22:54.678993Z"
    },
    "id": "2cbf5f86",
    "papermill": {
     "duration": 4.906343,
     "end_time": "2024-05-10T15:22:54.682054",
     "exception": false,
     "start_time": "2024-05-10T15:22:49.775711",
     "status": "completed"
    },
    "tags": []
   },
   "outputs": [],
   "source": [
    "# 导入所需的包\n",
    "import torch\n",
    "import torch.nn.functional as F\n",
    "from torch import Tensor\n",
    "from torch import nn, optim\n",
    "import torch.nn.functional as F\n",
    "import matplotlib.pyplot as plt\n",
    "import time\n",
    "from IPython.display import Image\n",
    "import math\n",
    "import random\n",
    "from tqdm import tqdm\n",
    "import json\n",
    "import seaborn\n",
    "import os\n",
    "\n",
    "\n",
    "# for plotting\n",
    "%matplotlib inline\n",
    "plt.rcParams[\"figure.figsize\"] = (10.0, 8.0)  # set default size of plots\n",
    "plt.rcParams[\"image.interpolation\"] = \"nearest\"\n",
    "plt.rcParams[\"image.cmap\"] = \"gray\""
   ]
  },
  {
   "cell_type": "markdown",
   "id": "9d2be1ed",
   "metadata": {
    "id": "b807888a",
    "papermill": {
     "duration": 0.037013,
     "end_time": "2024-05-10T15:22:54.750201",
     "exception": false,
     "start_time": "2024-05-10T15:22:54.713188",
     "status": "completed"
    },
    "tags": []
   },
   "source": [
    "我们将在第四部分使用GPU，前三个部分可以不开启GPU加速。\n",
    "在第四部分，我们将使用 GPU 来加速我们的计算，运行此单元格以确保你正在使用 GPU。\n",
    "\n",
    "我们将使用 `torch.float = torch.float32` 来表示数据，以及 `torch.long = torch.int64` 来表示标签。\n",
    "\n",
    "请参阅 [torch.dtype](https://pytorch.org/docs/stable/tensor_attributes.html#torch-dtype) 了解有关数据类型的更多细节。"
   ]
  },
  {
   "cell_type": "code",
   "execution_count": 2,
   "id": "1a08e302",
   "metadata": {
    "execution": {
     "iopub.execute_input": "2024-05-10T15:22:54.817890Z",
     "iopub.status.busy": "2024-05-10T15:22:54.817394Z",
     "iopub.status.idle": "2024-05-10T15:22:54.896177Z",
     "shell.execute_reply": "2024-05-10T15:22:54.895145Z"
    },
    "id": "0150e9a5",
    "papermill": {
     "duration": 0.114068,
     "end_time": "2024-05-10T15:22:54.898067",
     "exception": false,
     "start_time": "2024-05-10T15:22:54.783999",
     "status": "completed"
    },
    "tags": []
   },
   "outputs": [
    {
     "name": "stdout",
     "output_type": "stream",
     "text": [
      "Good to go!\n"
     ]
    }
   ],
   "source": [
    "to_float = torch.float\n",
    "to_long = torch.long\n",
    "\n",
    "if torch.cuda.is_available():\n",
    "    print(\"Good to go!\")\n",
    "    DEVICE = torch.device(\"cuda\")\n",
    "else:\n",
    "    print(\"Please set GPU via Edit -> Notebook Settings.\")\n",
    "    DEVICE = torch.device(\"cpu\")"
   ]
  },
  {
   "cell_type": "markdown",
   "id": "f69f60e7",
   "metadata": {
    "papermill": {
     "duration": 0.030124,
     "end_time": "2024-05-10T15:22:54.954222",
     "exception": false,
     "start_time": "2024-05-10T15:22:54.924098",
     "status": "completed"
    },
    "tags": []
   },
   "source": [
    "项目中需要用到的一些function，请运行一下。"
   ]
  },
  {
   "cell_type": "code",
   "execution_count": 3,
   "id": "c295394b",
   "metadata": {
    "execution": {
     "iopub.execute_input": "2024-05-10T15:22:55.010067Z",
     "iopub.status.busy": "2024-05-10T15:22:55.009734Z",
     "iopub.status.idle": "2024-05-10T15:22:55.016244Z",
     "shell.execute_reply": "2024-05-10T15:22:55.015372Z"
    },
    "papermill": {
     "duration": 0.035454,
     "end_time": "2024-05-10T15:22:55.018181",
     "exception": false,
     "start_time": "2024-05-10T15:22:54.982727",
     "status": "completed"
    },
    "tags": []
   },
   "outputs": [],
   "source": [
    "def reset_seed(number):\n",
    "    \"\"\"\n",
    "    重置随机种子为指定的数字\n",
    "\n",
    "    输入：\n",
    "    - number：要使用的种子数\n",
    "    \"\"\"\n",
    "    random.seed(number)\n",
    "    torch.manual_seed(number)\n",
    "    return\n",
    "\n",
    "def rel_error(x, y, eps=1e-10):\n",
    "    \"\"\"\n",
    "    这个函数用于计算两个张量 x 和 y 之间的相对误差。相对误差被定义为：\n",
    "    \n",
    "                            max_i |x_i - y_i]|\n",
    "    rel_error(x, y) = -------------------------------\n",
    "                      max_i |x_i| + max_i |y_i| + eps\n",
    "\n",
    "    输入：\n",
    "    - x，y：具有相同形状的张量\n",
    "    - eps：用于数值稳定性的小正常数\n",
    "\n",
    "    返回：\n",
    "    - rel_error：给出 x 和 y 之间相对误差的标量\n",
    "    \"\"\"\n",
    "    top = (x - y).abs().max().item()\n",
    "    bot = (x.abs() + y.abs()).clamp(min=eps).max().item()\n",
    "    return top / bot"
   ]
  },
  {
   "attachments": {
    "611236e2-803a-4a4b-808f-82de5b10bf59.png": {
     "image/png": "[encoded data removed]"
    }
   },
   "cell_type": "markdown",
   "id": "3d1e8230",
   "metadata": {
    "id": "58aed0ae",
    "papermill": {
     "duration": 0.032076,
     "end_time": "2024-05-10T15:22:55.075434",
     "exception": false,
     "start_time": "2024-05-10T15:22:55.043358",
     "status": "completed"
    },
    "tags": []
   },
   "source": [
    "# 第二部分：实现Transformer构建模块\n",
    "\n",
    "在这一部分，我们将看到如何实现用于构建 Transformer 模型的各种模块。然后我们将使用这些模块来构建 Transformer 编码器和解码器，最终实现完整的 Transformer 模型。\n",
    "每个模块都将被实现为 `nn.Module` 的子类；我们将使用 PyTorch 的自动微分来计算梯度，因此不需要手动实现反向传播。\n",
    "<img src=\"attachment:611236e2-803a-4a4b-808f-82de5b10bf59.png\" alt=\"image\" width=\"300\" height=\"200\">\n",
    "\n",
    "我们将按照原始论文的参考来实现以下模块：\n",
    "\n",
    "1. 多头注意力（MultiHeadAttention）模块\n",
    "2. 前馈网络（FeedForward）模块\n",
    "3. 层归一化（Layer Normalization）\n",
    "4. 位置编码（Positional Encoding）模块\n",
    "\n",
    "然后，我们将使用这些构建模块，结合输入嵌入层，来构建 Transformer 编码器和解码器。我们将从实现多头注意力（MultiHeadAttention）、前馈网络（FeedForward）和层归一化（Layer Normalization）开始，稍后再看位置编码和输入嵌入。 \n",
    "\n",
    "**注意：** 在实现这些模块时，所有这些模块的输入和输出张量的形状应该相同,可以通过检查检查输入和输出张量的形状判断代码补全是否正确。"
   ]
  },
  {
   "attachments": {
    "1363dc0d-1aa1-481a-af9e-2ceaf1041249.png": {
     "image/png": "[encoded data removed]"
    },
    "621c66e2-2fc2-4b37-85ce-10a9ee0c3b99.png": {
     "image/png": "[encoded data removed]"
    }
   },
   "cell_type": "markdown",
   "id": "897c21e8",
   "metadata": {
    "papermill": {
     "duration": 0.027759,
     "end_time": "2024-05-10T15:22:55.129642",
     "exception": false,
     "start_time": "2024-05-10T15:22:55.101883",
     "status": "completed"
    },
    "tags": []
   },
   "source": [
    "## 多头注意力模块\n",
    "\n",
    "Transformers是一种序列到序列的网络，它接收一个序列（例如英文句子）作为输入，输出一个序列（例如西班牙文句子）。输入序列首先被转换为嵌入向量，类似于我们在RNN部分讨论的内容，然后这些嵌入向量被传递到一个位置编码模块。接着，这些嵌入向量被转换为三个向量：查询（query）、键（key）和值（value），这个转换过程使用的是可学习的权重。然后我们使用一个Transformer编码器和解码器来得到最终的输出序列。\n",
    "\n",
    "![image.png](attachment:1363dc0d-1aa1-481a-af9e-2ceaf1041249.png)\n",
    "\n",
    "在这一部分，我们假设我们已经得到了查询、键和值向量(即我们需要处理的输入是如上图所示的$Q，K，V$)，并且我们将对它们进行处理。为了实现基本的多头注意力模块，我们首先将实现自注意力模块，然后从自注意力模块扩展到多头注意力模块。\n",
    "\n",
    "### 自注意力模块\n",
    "\n",
    "受到信息检索范式的启发，Transformers引入了查询、键和值(*query*、*key* 和*value*)的概念。在给定一个 *query* 的情况下，我们尝试从 *key*-*value* 对中提取信息。按照这些思路，我们通过对每个 *query* 计算 *key* 的加权和来数学上实现这一过程，其中权重由 *query* 和 *key* 的点积计算得到。更确切地说，对于每个 *query* ，我们计算其与所有 *key* 的点积，然后使用这些点积的标量输出作为权重，以找到 *values* 的加权和。请注意，在找到加权和之前，我们还会对权重向量应用 softmax 函数。我们将实现一个注意力模块，它接收查询、键和值向量作为输入，并返回一个张量，即值的加权和。\n",
    "\n",
    "<img src=\"attachment:621c66e2-2fc2-4b37-85ce-10a9ee0c3b99.png\" alt=\"image\" width=\"200\" height=\"100\">\n",
    "\n",
    "\n",
    "\n",
    "\n",
    "$$Attention(Q, K, V) = softmax(\\frac{QK^T}{\\sqrt{d_k}})V$$\n",
    "\n",
    "其中，$Q$、$K$ 和 $V$ 分别代表查询（Query）、键（Key）和值（Value）。这些都是通过对输入数据进行线性变换得到的。$d_k$ 是键向量的维度。\n",
    "\n",
    "这个公式的含义是：\n",
    "\n",
    "1. 计算查询和所有键的点积，得到一个得分。这个得分表示查询和每个键的匹配程度。\n",
    "\n",
    "2. 除以 $\\sqrt{d_k}$ 是进行scale操作。\n",
    "\n",
    "3. 通过 softmax 函数，将得分转换为概率分布。这个概率分布表示模型在每个位置的“注意力”。\n",
    "\n",
    "4. 最后，这个注意力分布和值向量相乘，得到最终的输出。这个输出是一个加权和，其中的权重就是注意力分布。\n",
    "\n",
    "\n",
    "\n",
    "\n",
    "在这一部分中，你需要实现`scaled_dot_product_no_loop_batch`函数，请**不要用任何loop语句**。\n",
    "\n",
    "可以参考使用:\n",
    "1. [torch.bmm](https://pytorch.org/docs/stable/generated/torch.bmm.html)\n",
    "2. [torch.softmax](https://pytorch.org/docs/stable/generated/torch.softmax.html)\n",
    "3. [转置](https://pytorch.org/docs/stable/generated/torch.transpose.html)"
   ]
  },
  {
   "cell_type": "markdown",
   "id": "78e60ae9",
   "metadata": {
    "papermill": {
     "duration": 0.024963,
     "end_time": "2024-05-10T15:22:55.179763",
     "exception": false,
     "start_time": "2024-05-10T15:22:55.154800",
     "status": "completed"
    },
    "tags": []
   },
   "source": [
    "#### 代码填空1: 实现注意力计算（10分）"
   ]
  },
  {
   "cell_type": "code",
   "execution_count": 4,
   "id": "d895d43a",
   "metadata": {
    "execution": {
     "iopub.execute_input": "2024-05-10T15:22:55.232372Z",
     "iopub.status.busy": "2024-05-10T15:22:55.232024Z",
     "iopub.status.idle": "2024-05-10T15:22:55.239440Z",
     "shell.execute_reply": "2024-05-10T15:22:55.238533Z"
    },
    "papermill": {
     "duration": 0.035549,
     "end_time": "2024-05-10T15:22:55.241335",
     "exception": false,
     "start_time": "2024-05-10T15:22:55.205786",
     "status": "completed"
    },
    "tags": []
   },
   "outputs": [],
   "source": [
    "def scaled_dot_product_no_loop_batch(\n",
    "    query: Tensor, key: Tensor, value: Tensor, mask: Tensor = None\n",
    ") -> Tensor:\n",
    "    \"\"\"\n",
    "    该函数执行注意力机制的基本块，即缩放点积。我们将输入的 query、key 和 value 映射到输出。\n",
    "    它使用矩阵-矩阵乘法来找到缩放权重，然后使用矩阵-矩阵乘法来找到最终输出。\n",
    "\n",
    "    参数：\n",
    "        query：形状为 (N,K, M) 的张量，其中 N 是批次大小，K 是序列长度，M 是序列嵌入维度\n",
    "        key：形状为 (N, K, M) 的张量，其中 N 是批次大小，K 是序列长度，M 是序列嵌入维度\n",
    "        value：形状为 (N, K, M) 的张量，其中 N 是批次大小，K 是序列长度，M 是序列嵌入维度\n",
    "        mask：形状为 (N, K, K) 的布尔张量，用于掩盖计算加权和的权重\n",
    "\n",
    "    返回：\n",
    "        y：形状为 (N, K, M) 的张量，包含值的加权和\n",
    "        weights_softmax：形状为 (N, K, K) 的张量，包含 softmax 后的权重矩阵。\n",
    "\n",
    "    \"\"\"\n",
    "    _, _, M = query.shape\n",
    "    ###############################################################################\n",
    "    # TODO: 该函数执行自注意力操作， 请不要用任何loop实现。\n",
    "    ###############################################################################\n",
    "    scores = torch.bmm(query,key.transpose(1,2))# TODO: 计算query与key的点积，张量之间的乘法请参考(1)torch.bmm (2)张量的转置操作\n",
    "    scores = scores/math.sqrt(M)\n",
    "    if mask is not None: # 将掩码应用于权重矩阵，将 -1e9 赋值给掩码值为 True 的位置，否则保持不变\n",
    "        scores = scores.masked_fill(mask, -1e9)\n",
    "    weights = torch.softmax(scores,-1)# TODO： 对权重应用softmax函数，请参考torch.softmax\n",
    "    y = torch.bmm(weights,value)# TODO: 作为权重的标量和value进行加权\n",
    "    return y, weights"
   ]
  },
  {
   "cell_type": "markdown",
   "id": "2633f4bc",
   "metadata": {
    "papermill": {
     "duration": 0.025071,
     "end_time": "2024-05-10T15:22:55.291696",
     "exception": false,
     "start_time": "2024-05-10T15:22:55.266625",
     "status": "completed"
    },
    "tags": []
   },
   "source": [
    "#### 测试代码1: 测试注意力代码"
   ]
  },
  {
   "cell_type": "code",
   "execution_count": 5,
   "id": "fb527851",
   "metadata": {
    "execution": {
     "iopub.execute_input": "2024-05-10T15:22:55.343947Z",
     "iopub.status.busy": "2024-05-10T15:22:55.343360Z",
     "iopub.status.idle": "2024-05-10T15:22:55.413969Z",
     "shell.execute_reply": "2024-05-10T15:22:55.412938Z"
    },
    "id": "b13b2d96",
    "papermill": {
     "duration": 0.098948,
     "end_time": "2024-05-10T15:22:55.415877",
     "exception": false,
     "start_time": "2024-05-10T15:22:55.316929",
     "status": "completed"
    },
    "tags": []
   },
   "outputs": [
    {
     "name": "stdout",
     "output_type": "stream",
     "text": [
      "Shapes of y and y_expected are the same\n",
      "scaled_dot_product_no_loop_batch error:  4.020571992067902e-06\n",
      "The error is less than 1e-5. Done!\n"
     ]
    }
   ],
   "source": [
    "N = 2  # 句子数量\n",
    "K = 5  # 每个句子里的单词数\n",
    "M = 4  # 每个单词embedding的特征维度\n",
    "\n",
    "query = torch.linspace(-0.4, 0.6, steps=N * K * M).reshape(N, K, M)  # **to_double_cuda\n",
    "key = torch.linspace(-0.8, 0.5, steps=N * K * M).reshape(N, K, M)  # **to_double_cuda\n",
    "value = torch.linspace(-0.3, 0.8, steps=N * K * M).reshape(N, K, M)  # *to_double_cuda\n",
    "\n",
    "\n",
    "y, _ = scaled_dot_product_no_loop_batch(query, key, value)\n",
    "\n",
    "y_expected = torch.tensor(\n",
    "    [\n",
    "        [\n",
    "            [-0.09603, -0.06782, -0.03962, -0.01141],\n",
    "            [-0.08991, -0.06170, -0.03350, -0.00529],\n",
    "            [-0.08376, -0.05556, -0.02735, 0.00085],\n",
    "            [-0.07760, -0.04939, -0.02119, 0.00702],\n",
    "            [-0.07143, -0.04322, -0.01502, 0.01319],\n",
    "        ],\n",
    "        [\n",
    "            [0.49884, 0.52705, 0.55525, 0.58346],\n",
    "            [0.50499, 0.53319, 0.56140, 0.58960],\n",
    "            [0.51111, 0.53931, 0.56752, 0.59572],\n",
    "            [0.51718, 0.54539, 0.57359, 0.60180],\n",
    "            [0.52321, 0.55141, 0.57962, 0.60782],\n",
    "        ],\n",
    "    ]\n",
    ").to(torch.float32)\n",
    "\n",
    "if y.shape == y_expected.shape:\n",
    "    print(f'Shapes of y and y_expected are the same')\n",
    "else:\n",
    "    print('Check the output shape of your funtion')\n",
    "print(\"scaled_dot_product_no_loop_batch error: \", rel_error(y_expected, y))\n",
    "if rel_error(y_expected, y) > 1e-5:\n",
    "    print('There are some problems with your code, please check!')\n",
    "else:\n",
    "    print('The error is less than 1e-5. Done!')\n",
    "\n",
    "# Error应该小于1e-5"
   ]
  },
  {
   "cell_type": "markdown",
   "id": "37408b40",
   "metadata": {
    "id": "56e21e2d",
    "papermill": {
     "duration": 0.026192,
     "end_time": "2024-05-10T15:22:55.468008",
     "exception": false,
     "start_time": "2024-05-10T15:22:55.441816",
     "status": "completed"
    },
    "tags": []
   },
   "source": [
    "### 观察时间复杂度：\n",
    "\n",
    "Transformers 时间复杂度取决于输入序列的大小。\n",
    "现在我们已经实现了 `self_attention_no_loop`，我们可以验证这一点。\n",
    "运行下面的单元格：第一个具有长度为 256 的序列，第二个具有长度为 512 的序列。您应该会发现长度为 512 的情况大约慢 4 倍，从而显示出 Transformers 的复杂度随着序列长度的增加呈二次增长。\n",
    "`%timeit` 行可能需要几秒钟才能运行。"
   ]
  },
  {
   "cell_type": "code",
   "execution_count": 6,
   "id": "56fa1b04",
   "metadata": {
    "execution": {
     "iopub.execute_input": "2024-05-10T15:22:55.520481Z",
     "iopub.status.busy": "2024-05-10T15:22:55.519859Z",
     "iopub.status.idle": "2024-05-10T15:22:57.931861Z",
     "shell.execute_reply": "2024-05-10T15:22:57.930583Z"
    },
    "id": "e7d58596",
    "papermill": {
     "duration": 2.440771,
     "end_time": "2024-05-10T15:22:57.933995",
     "exception": false,
     "start_time": "2024-05-10T15:22:55.493224",
     "status": "completed"
    },
    "tags": []
   },
   "outputs": [
    {
     "name": "stdout",
     "output_type": "stream",
     "text": [
      "221 ms ± 6.4 ms per loop (mean ± std. dev. of 2 runs, 5 loops each)\n"
     ]
    }
   ],
   "source": [
    "N = 64\n",
    "K = 256  \n",
    "M = emb_size = 2048\n",
    "dim_q = dim_k = 2048\n",
    "query = torch.linspace(-0.4, 0.6, steps=N * K * M).reshape(N, K, M)  # **to_double_cuda\n",
    "key = torch.linspace(-0.8, 0.5, steps=N * K * M).reshape(N, K, M)  # **to_double_cuda\n",
    "value = torch.linspace(-0.3, 0.8, steps=N * K * M).reshape(N, K, M)  # *to_double_cuda\n",
    "\n",
    "%timeit -n 5 -r 2  y = scaled_dot_product_no_loop_batch(query, key, value)"
   ]
  },
  {
   "cell_type": "code",
   "execution_count": 7,
   "id": "1b8d34ee",
   "metadata": {
    "execution": {
     "iopub.execute_input": "2024-05-10T15:22:57.986557Z",
     "iopub.status.busy": "2024-05-10T15:22:57.986236Z",
     "iopub.status.idle": "2024-05-10T15:23:05.953887Z",
     "shell.execute_reply": "2024-05-10T15:23:05.952710Z"
    },
    "id": "a85adf69",
    "papermill": {
     "duration": 7.996116,
     "end_time": "2024-05-10T15:23:05.955938",
     "exception": false,
     "start_time": "2024-05-10T15:22:57.959822",
     "status": "completed"
    },
    "tags": []
   },
   "outputs": [
    {
     "name": "stdout",
     "output_type": "stream",
     "text": [
      "755 ms ± 24.4 ms per loop (mean ± std. dev. of 2 runs, 5 loops each)\n"
     ]
    }
   ],
   "source": [
    "N = 64\n",
    "K = 512  \n",
    "M = emb_size = 2048\n",
    "dim_q = dim_k = 2048\n",
    "query = torch.linspace(-0.4, 0.6, steps=N * K * M).reshape(N, K, M)  # **to_double_cuda\n",
    "key = torch.linspace(-0.8, 0.5, steps=N * K * M).reshape(N, K, M)  # **to_double_cuda\n",
    "value = torch.linspace(-0.3, 0.8, steps=N * K * M).reshape(N, K, M)  # *to_double_cuda\n",
    "\n",
    "%timeit -n 5 -r 2  y = scaled_dot_product_no_loop_batch(query, key, value)"
   ]
  },
  {
   "attachments": {
    "4585b0c1-1491-4e56-a76c-69977ad94fdf.png": {
     "image/png": "[encoded data removed]"
    }
   },
   "cell_type": "markdown",
   "id": "f7b3befd",
   "metadata": {
    "id": "9d6e92b0",
    "papermill": {
     "duration": 0.025243,
     "end_time": "2024-05-10T15:23:06.007327",
     "exception": false,
     "start_time": "2024-05-10T15:23:05.982084",
     "status": "completed"
    },
    "tags": []
   },
   "source": [
    "#### 代码填空2: 自注意力层的实现（5分）\n",
    "\n",
    "现在我们已经实现了 `scaled_dot_product_no_loop_batch`，让我们实现 `SingleHeadAttention`，它将作为 `MultiHeadAttention` 块的构建模块。对于这个练习，我们创建了一个 `SingleHeadAttention` 类，它继承自 PyTorch 的 `nn.module` 类。你需要 `forward` 函数。\n",
    "\n",
    "<img src=\"attachment:4585b0c1-1491-4e56-a76c-69977ad94fdf.png\" alt=\"image\" width=\"300\" height=\"200\">\n",
    "\n",
    "自注意力层中，我们初始化的三个linear层，即为上图所示的$W^q, W^k, W^v$权重。\n"
   ]
  },
  {
   "cell_type": "code",
   "execution_count": 8,
   "id": "0d772e0b",
   "metadata": {
    "execution": {
     "iopub.execute_input": "2024-05-10T15:23:06.101687Z",
     "iopub.status.busy": "2024-05-10T15:23:06.101319Z",
     "iopub.status.idle": "2024-05-10T15:23:06.112350Z",
     "shell.execute_reply": "2024-05-10T15:23:06.111523Z"
    },
    "papermill": {
     "duration": 0.081619,
     "end_time": "2024-05-10T15:23:06.114306",
     "exception": false,
     "start_time": "2024-05-10T15:23:06.032687",
     "status": "completed"
    },
    "tags": []
   },
   "outputs": [],
   "source": [
    "class SelfAttention(nn.Module):\n",
    "    def __init__(self, dim_in: int, dim_q: int, dim_v: int):\n",
    "        super().__init__()\n",
    "\n",
    "        \"\"\"\n",
    "        该类封装了自注意力层的实现。我们使用 MLP 层映射输入的查询、键和值，\n",
    "        然后使用 scaled_dot_product_no_loop_batch 得到最终输出。\n",
    "\n",
    "        参数：\n",
    "            dim_in：输入序列嵌入维度的整数值\n",
    "            dim_q：查询和键向量输出维度的整数值\n",
    "            dim_v：值向量的输出维度的整数值\n",
    "\n",
    "        \"\"\"\n",
    "        ##########################################################################\n",
    "        # 初始化三个 nn.Linear 层，可以将输入维度为 dim_in 的输入转换为维度为 dim_q 的查询， #\n",
    "        # 维度为 dim_q 的键，和维度为 dim_v 的值。                #\n",
    "        ##########################################################################\n",
    "        # 初始化q, k, v， 由于qk要进行点积计算，其维度需要保持一致\n",
    "        self.q = nn.Linear(dim_in, dim_q)\n",
    "        self.k = nn.Linear(dim_in, dim_q)\n",
    "        self.v = nn.Linear(dim_in, dim_v)\n",
    "        self.weights_softmax = None\n",
    "        # 对于每个 Linear 层，使用以下策略初始化权重： #\n",
    "        # 如果一个 Linear 层具有输入维度 D_in 和输出维度 D_out，则将权重初始化为从 [-c, c]  #\n",
    "        # 范围内的均匀分布中抽取的值，其中 c = sqrt(6/(D_in + D_out))。   \n",
    "        self.q.weight.data.uniform_(-math.sqrt(6/(dim_in+dim_q)), math.sqrt(6/(dim_in+dim_q)))\n",
    "        self.k.weight.data.uniform_(-math.sqrt(6/(dim_in+dim_q)), math.sqrt(6/(dim_in+dim_q)))\n",
    "        self.v.weight.data.uniform_(-math.sqrt(6/(dim_in+dim_v)), math.sqrt(6/(dim_in+dim_v)))\n",
    "\n",
    "    def forward(\n",
    "        self, query: Tensor, key: Tensor, value: Tensor, mask: Tensor = None\n",
    "    ) -> Tensor:\n",
    "\n",
    "        \"\"\"\n",
    "        该函数执行自注意力层的前向传播。\n",
    "\n",
    "        参数：\n",
    "            query：形状为 (N, K, M) 的张量\n",
    "            key：形状为 (N, K, M) 的张量\n",
    "            value：形状为 (N, K, M) 的张量\n",
    "            mask：形状为 (N, K, K) 的张量\n",
    "        返回：\n",
    "            y：形状为 (N, K, dim_v) 的张量\n",
    "        \"\"\"\n",
    "        ##########################################################################\n",
    "        # TODO: 使用 init 函数中初始化的函数找到输出张量。确切地说，将输入 query、key 和 value #\n",
    "        # 传递给上面初始化的三个函数。然后，将这三个转换后的 query、key 和 value 张量传递给 #\n",
    "        # self_attention_no_loop_batch，以获得最终输出。只需将其作为 self_attention_no_loop_batch #\n",
    "        # 中的一个变量传递。将 self_attention_no_loop_batch 的输出权重矩阵值赋给变量 self.weights_softmax。#\n",
    "        ##########################################################################\n",
    "        # 应用self_attention_no_loop_batch\n",
    "        # y和self.weights_softmax为self_attention_no_loop_batch 应用后的输出\n",
    "        # TODO: 添加你的代码\n",
    "        \n",
    "        Q = self.q(query)\n",
    "        K = self.k(key)\n",
    "        V = self.v(value)\n",
    "        y, self.weights_softmax = scaled_dot_product_no_loop_batch(Q, K, V, mask)# TODO\n",
    "\n",
    "        return y\n"
   ]
  },
  {
   "cell_type": "markdown",
   "id": "f245457a",
   "metadata": {
    "papermill": {
     "duration": 0.025254,
     "end_time": "2024-05-10T15:23:06.165505",
     "exception": false,
     "start_time": "2024-05-10T15:23:06.140251",
     "status": "completed"
    },
    "tags": []
   },
   "source": [
    "#### 测试代码2: 自注意力层的实现\n"
   ]
  },
  {
   "cell_type": "code",
   "execution_count": 9,
   "id": "342a27bc",
   "metadata": {
    "execution": {
     "iopub.execute_input": "2024-05-10T15:23:06.218372Z",
     "iopub.status.busy": "2024-05-10T15:23:06.218022Z",
     "iopub.status.idle": "2024-05-10T15:23:06.316005Z",
     "shell.execute_reply": "2024-05-10T15:23:06.315140Z"
    },
    "papermill": {
     "duration": 0.127049,
     "end_time": "2024-05-10T15:23:06.318095",
     "exception": false,
     "start_time": "2024-05-10T15:23:06.191046",
     "status": "completed"
    },
    "tags": []
   },
   "outputs": [
    {
     "name": "stdout",
     "output_type": "stream",
     "text": [
      "SelfAttention error:  5.567700453666357e-07\n",
      "SelfAttention error:  2.5410489503651006e-06\n",
      "The error is less than 1e-5. Done!\n"
     ]
    }
   ],
   "source": [
    "reset_seed(0)\n",
    "N = 2\n",
    "K = 4\n",
    "M = emb_size = 4\n",
    "dim_q = dim_k = 4\n",
    "atten_single = SelfAttention(emb_size, dim_q, dim_k)\n",
    "\n",
    "for k, v in atten_single.named_parameters():\n",
    "    # print(k, v.shape) \n",
    "    v.data.copy_(torch.linspace(-1.4, 1.3, steps=v.numel()).reshape(*v.shape))\n",
    "\n",
    "query = torch.linspace(-0.4, 0.6, steps=N * K * M, requires_grad=True).reshape(\n",
    "    N, K, M\n",
    ")  \n",
    "key = torch.linspace(-0.8, 0.5, steps=N * K * M, requires_grad=True).reshape(\n",
    "    N, K, M\n",
    ")  \n",
    "value = torch.linspace(-0.3, 0.8, steps=N * K * M, requires_grad=True).reshape(\n",
    "    N, K, M\n",
    ")  \n",
    "\n",
    "query.retain_grad()\n",
    "key.retain_grad()\n",
    "value.retain_grad()\n",
    "\n",
    "y_expected = torch.tensor(\n",
    "    [\n",
    "        [\n",
    "            [-1.10382, -0.37219, 0.35944, 1.09108],\n",
    "            [-1.45792, -0.50067, 0.45658, 1.41384],\n",
    "            [-1.74349, -0.60428, 0.53493, 1.67414],\n",
    "            [-1.92584, -0.67044, 0.58495, 1.84035],\n",
    "        ],\n",
    "        [\n",
    "            [-4.59671, -1.63952, 1.31767, 4.27486],\n",
    "            [-4.65586, -1.66098, 1.33390, 4.32877],\n",
    "            [-4.69005, -1.67339, 1.34328, 4.35994],\n",
    "            [-4.71039, -1.68077, 1.34886, 4.37848],\n",
    "        ],\n",
    "    ]\n",
    ")\n",
    "\n",
    "dy_expected = torch.tensor(\n",
    "    [\n",
    "        [\n",
    "            [-0.09084, -0.08961, -0.08838, -0.08715],\n",
    "            [0.69305, 0.68366, 0.67426, 0.66487],\n",
    "            [-0.88989, -0.87783, -0.86576, -0.85370],\n",
    "            [0.25859, 0.25509, 0.25158, 0.24808],\n",
    "        ],\n",
    "        [\n",
    "            [-0.05360, -0.05287, -0.05214, -0.05142],\n",
    "            [0.11627, 0.11470, 0.11312, 0.11154],\n",
    "            [-0.01048, -0.01034, -0.01019, -0.01005],\n",
    "            [-0.03908, -0.03855, -0.03802, -0.03749],\n",
    "        ],\n",
    "    ]\n",
    ")\n",
    "\n",
    "y = atten_single(query, key, value)\n",
    "dy = torch.randn(*y.shape)  \n",
    "\n",
    "y.backward(dy)\n",
    "query_grad = query.grad\n",
    "\n",
    "print(\"SelfAttention error: \", rel_error(y_expected, y))\n",
    "print(\"SelfAttention error: \", rel_error(dy_expected, query_grad))\n",
    "if rel_error(y_expected, y) > 1e-5 and rel_error(dy_expected, query_grad) > 1e-5:\n",
    "    print('There are some problems with your code, please check!')\n",
    "else:\n",
    "    print('The error is less than 1e-5. Done!')"
   ]
  },
  {
   "attachments": {
    "6226c844-483a-4452-9e3c-1b7867a5be75.png": {
     "image/png": "[encoded data removed]"
    }
   },
   "cell_type": "markdown",
   "id": "4b058f27",
   "metadata": {
    "id": "f4b80b79",
    "papermill": {
     "duration": 0.025433,
     "end_time": "2024-05-10T15:23:06.369771",
     "exception": false,
     "start_time": "2024-05-10T15:23:06.344338",
     "status": "completed"
    },
    "tags": []
   },
   "source": [
    "#### 代码填空3: 多头注意力（10分）\n",
    "\n",
    "我们已经实现了 `SingleHeadAttention` 块，这让我们非常接近实现 `MultiHeadAttention`。现在我们将看到，通过根据 Multi-Attention 块中的头数来操作输入张量的形状，可以实现这一点。我们设计了一个网络，该网络在相同的输入上使用多个 SingleHeadAttention 块来计算输出张量，并最终将它们连接起来生成单个输出。这不是实际使用的实现方式，因为它强制你初始化多个层，但我们在这里出于简单起见，使用 `SingleHeadAttention` 块实现 `MultiHeadAttention` 块。\n",
    "\n",
    "<img src=\"attachment:6226c844-483a-4452-9e3c-1b7867a5be75.png\" alt=\"image\" width=\"300\" height=\"200\">\n",
    "\n",
    "\n",
    "\n",
    "可以参考：\n",
    "1. [nn.ModuleList](https://pytorch.org/docs/stable/generated/torch.nn.ModuleList.html)\n",
    "2. [nn.Linear](https://pytorch.org/docs/stable/generated/torch.nn.Linear.html)\n",
    "3. [torch.cat](https://pytorch.org/docs/stable/generated/torch.cat.html#torch-cat)"
   ]
  },
  {
   "cell_type": "code",
   "execution_count": 10,
   "id": "9fd34516",
   "metadata": {
    "execution": {
     "iopub.execute_input": "2024-05-10T15:23:06.423170Z",
     "iopub.status.busy": "2024-05-10T15:23:06.422827Z",
     "iopub.status.idle": "2024-05-10T15:23:06.433853Z",
     "shell.execute_reply": "2024-05-10T15:23:06.433029Z"
    },
    "id": "6da2558e",
    "papermill": {
     "duration": 0.04028,
     "end_time": "2024-05-10T15:23:06.435789",
     "exception": false,
     "start_time": "2024-05-10T15:23:06.395509",
     "status": "completed"
    },
    "tags": []
   },
   "outputs": [],
   "source": [
    "class MultiHeadAttention(nn.Module):\n",
    "    def __init__(self, num_heads: int, dim_in: int, dim_out: int):\n",
    "        super().__init__()\n",
    "\n",
    "        \"\"\"\n",
    "        \n",
    "        一个简单的 Transformer 模型中 MultiheadAttention 层的实现。\n",
    "        我们在相同的输入上并行使用多个 SelfAttention 层，然后将它们连接成单个张量。\n",
    "        然后通过 MLP 将该张量传递以生成最终输出。\n",
    "        输入形状将为 (N, K, M)，其中 N 是批量大小，K 是序列长度，M 是序列嵌入维度。\n",
    "        参数：\n",
    "            num_heads：指定头数的整数值\n",
    "            dim_in：指定查询、键和值的输入维度的整数值。这将是每个 SingleHeadAttention 块的输入维度\n",
    "            dim_out：指定完整 MultiHeadAttention 块的输出维度的整数值\n",
    "\n",
    "\n",
    "\n",
    "        注意：在这里，当我们说维度时，我们指的是嵌入的维度。\n",
    "              在 Transformers 中，输入是形状为 (N, K, M) 的张量，这里 N 是批量大小，K 是序列长度，\n",
    "              而 M 是输入嵌入的大小。由于序列长度(K)和批量数(N)通常不会改变，我们通常只转换\n",
    "              维度(M) 维度。\n",
    "        \"\"\"\n",
    "        ##########################################################################\n",
    "        # TODO: 在这里初始化两个东西：                                              #\n",
    "        # 1.) 使用 nn.ModuleList 初始化一系列 SingleHeadAttention 层模块。          #\n",
    "        #    这个列表的长度应该等于 num_heads，每个 SingleHeadAttention 层的输入维度为 dim_in， #\n",
    "        #    查询、键和值的维度均为 dim_out。                                       #\n",
    "        # 2.) 使用 nn.Linear 将 nn.Modulelist 块的输出映射回 dim_in。               #\n",
    "        ##########################################################################\n",
    "        self.heads = nn.ModuleList([SelfAttention(dim_in,dim_out,dim_out) for _ in range(num_heads)])# TODO: self.heads = nn.ModuleList('add your code here')\n",
    "        self.linear = nn.Linear(num_heads * dim_out, dim_in)# TODO: nn.Linear\n",
    "        nn.init.uniform_(self.linear.weight, -torch.sqrt(torch.tensor(6. / (num_heads * dim_out + dim_in))), torch.sqrt(torch.tensor(6. / (num_heads * dim_out + dim_in))))# 权重初始化\n",
    "        \n",
    "    def forward(\n",
    "        self, query: Tensor, key: Tensor, value: Tensor, mask: Tensor = None\n",
    "    ) -> Tensor:\n",
    "\n",
    "        \"\"\"\n",
    "        MultiHeadAttention 层的前向传播的实现。\n",
    "\n",
    "        参数：\n",
    "            query：形状为 (N, K, M) 的张量，其中 N 是批量中的序列数，\n",
    "                K 是序列长度，M 是输入嵌入维度。M 应与初始化函数中的 dim_in 相等\n",
    "\n",
    "            key：形状为 (N, K, M) 的张量，其中 N 是批量中的序列数，\n",
    "                K 是序列长度，M 是输入嵌入维度。M 应与初始化函数中的 dim_in 相等\n",
    "\n",
    "            value：形状为 (N, K, M) 的张量，其中 N 是批量中的序列数，\n",
    "                K 是序列长度，M 是输入嵌入维度。M 应与初始化函数中的 dim_in 相等\n",
    "\n",
    "            mask：形状为 (N, K, K) 的张量，其中 N 是批量中的序列数，\n",
    "                K 是序列长度，M 是输入嵌入维度。M 应与初始化函数中的 dim_in 相等\n",
    "\n",
    "        返回：\n",
    "            y：形状为 (N, K, M) 的张量\n",
    "        \"\"\"\n",
    "        y = None\n",
    "        ##########################################################################\n",
    "        # TODO: 使用初始化函数中定义的变量，通过 MultiHeadAttention 块进行前向传播。\n",
    "        # nn.ModuleList 的行为类似一个列表，你可以使用 for 循环或列表解析来提取其中的不同元素。\n",
    "        # nn.ModuleList 中的每个元素都是一个 SingleHeadAttention，它将使用相同的查询、键、值和掩码张量，\n",
    "        # 并且你将得到一个张量列表作为输出。将这个张量列表连接起来，然后通过\n",
    "        # nn.Linear 映射函数进行处理。                                        #\n",
    "        ##########################################################################\n",
    "        outputs = []\n",
    "        for head in self.heads:\n",
    "            output_head = head(query,key,value,mask)# TODO\n",
    "            outputs.append(output_head)\n",
    "        concat = torch.cat(outputs, dim=2) # torch.cat\n",
    "        y = self.linear(concat)# TODO\n",
    "        return y\n"
   ]
  },
  {
   "cell_type": "markdown",
   "id": "d00fc96f",
   "metadata": {
    "papermill": {
     "duration": 0.025452,
     "end_time": "2024-05-10T15:23:06.487016",
     "exception": false,
     "start_time": "2024-05-10T15:23:06.461564",
     "status": "completed"
    },
    "tags": []
   },
   "source": [
    "#### 测试代码3: 多头注意力"
   ]
  },
  {
   "cell_type": "code",
   "execution_count": 11,
   "id": "50213693",
   "metadata": {
    "execution": {
     "iopub.execute_input": "2024-05-10T15:23:06.539838Z",
     "iopub.status.busy": "2024-05-10T15:23:06.539035Z",
     "iopub.status.idle": "2024-05-10T15:23:06.568937Z",
     "shell.execute_reply": "2024-05-10T15:23:06.567703Z"
    },
    "id": "87bf04ff",
    "papermill": {
     "duration": 0.058564,
     "end_time": "2024-05-10T15:23:06.570949",
     "exception": false,
     "start_time": "2024-05-10T15:23:06.512385",
     "status": "completed"
    },
    "tags": []
   },
   "outputs": [
    {
     "name": "stdout",
     "output_type": "stream",
     "text": [
      "MultiHeadAttention error:  6.577880512731245e-07\n",
      "MultiHeadAttention error:  1.0631412556891023e-06\n",
      "The error is less than 1e-5. Done!\n"
     ]
    }
   ],
   "source": [
    "reset_seed(0)\n",
    "N = 2\n",
    "num_heads = 2\n",
    "K = 4\n",
    "M = inp_emb_size = 4\n",
    "out_emb_size = 8\n",
    "atten_multihead = MultiHeadAttention(num_heads, inp_emb_size, out_emb_size)\n",
    "\n",
    "for k, v in atten_multihead.named_parameters():\n",
    "#     print(f'key of parameter:{k}, shape of its value:{v.shape}') \n",
    "    v.data.copy_(torch.linspace(-1.4, 1.3, steps=v.numel()).reshape(*v.shape))\n",
    "\n",
    "query = torch.linspace(-0.4, 0.6, steps=N * K * M, requires_grad=True).reshape(\n",
    "    N, K, M\n",
    ")  \n",
    "key = torch.linspace(-0.8, 0.5, steps=N * K * M, requires_grad=True).reshape(\n",
    "    N, K, M\n",
    ")  \n",
    "value = torch.linspace(-0.3, 0.8, steps=N * K * M, requires_grad=True).reshape(\n",
    "    N, K, M\n",
    ")  \n",
    "\n",
    "query.retain_grad()\n",
    "key.retain_grad()\n",
    "value.retain_grad()\n",
    "\n",
    "y_expected = torch.tensor(\n",
    "    [\n",
    "        [\n",
    "            [-0.23104, 0.50132, 1.23367, 1.96603],\n",
    "            [0.68324, 1.17869, 1.67413, 2.16958],\n",
    "            [1.40236, 1.71147, 2.02058, 2.32969],\n",
    "            [1.77330, 1.98629, 2.19928, 2.41227],\n",
    "        ],\n",
    "        [\n",
    "            [6.74946, 5.67302, 4.59659, 3.52015],\n",
    "            [6.82813, 5.73131, 4.63449, 3.53767],\n",
    "            [6.86686, 5.76001, 4.65315, 3.54630],\n",
    "            [6.88665, 5.77466, 4.66268, 3.55070],\n",
    "        ],\n",
    "    ]\n",
    ")\n",
    "dy_expected = torch.tensor(\n",
    "    [[[ 0.56268,  0.55889,  0.55510,  0.55131],\n",
    "         [ 0.43286,  0.42994,  0.42702,  0.42411],\n",
    "         [ 2.29865,  2.28316,  2.26767,  2.25218],\n",
    "         [ 0.49172,  0.48841,  0.48509,  0.48178]],\n",
    "\n",
    "        [[ 0.25083,  0.24914,  0.24745,  0.24576],\n",
    "         [ 0.14949,  0.14849,  0.14748,  0.14647],\n",
    "         [-0.03105, -0.03084, -0.03063, -0.03043],\n",
    "         [-0.02082, -0.02068, -0.02054, -0.02040]]]\n",
    ")\n",
    "\n",
    "y = atten_multihead(query, key, value)\n",
    "dy = torch.randn(*y.shape)  \n",
    "\n",
    "y.backward(dy)\n",
    "query_grad = query.grad\n",
    "print(\"MultiHeadAttention error: \", rel_error(y_expected, y)) # error < 1e-5\n",
    "print(\"MultiHeadAttention error: \", rel_error(dy_expected, query_grad)) # error < 1e-5\n",
    "if rel_error(y_expected, y)> 1e-5 and rel_error(dy_expected, query_grad) > 1e-5:\n",
    "    print('There are some problems with your code, please check!')\n",
    "else:\n",
    "    print('The error is less than 1e-5. Done!')"
   ]
  },
  {
   "cell_type": "markdown",
   "id": "e6893871",
   "metadata": {
    "id": "9be6374e-a968-4b56-a1e4-31d745330b62",
    "papermill": {
     "duration": 0.025371,
     "end_time": "2024-05-10T15:23:06.622302",
     "exception": false,
     "start_time": "2024-05-10T15:23:06.596931",
     "status": "completed"
    },
    "tags": []
   },
   "source": [
    "## LayerNormalization"
   ]
  },
  {
   "cell_type": "markdown",
   "id": "d42e43e5",
   "metadata": {
    "id": "524ff12e",
    "papermill": {
     "duration": 0.025302,
     "end_time": "2024-05-10T15:23:06.674229",
     "exception": false,
     "start_time": "2024-05-10T15:23:06.648927",
     "status": "completed"
    },
    "tags": []
   },
   "source": [
    "我们在处理 CNN 时实现了 BatchNorm。BatchNorm 的一个问题是它依赖于完整的批次，当批次大小较小时可能会导致结果不佳。Ba 等人提出了 `LayerNormalization`，它考虑了这些问题，在序列到序列任务中已成为标准。在本节中，我们将实现 `LayerNormalization`。`LayerNormalization` 的另一个好处是，它依赖于序列的各个时间步骤或每个元素，因此可以并行化，并且测试时间的运行方式类似，因此在实现上更好。同样，您只需实现前向传播，而反向传播将由 Pytorch 自动求导来处理。在 `transformers.py` 中实现 `LayerNormalization` 类。可参考[LayerNorm](https://arxiv.org/abs/1607.06450)原理。\n",
    "\n",
    "\n",
    "可参考：\n",
    "1. [torch.mean](https://pytorch.org/docs/stable/generated/torch.mean.html#torch-mean)\n",
    "2. [torch.sqrt](https://pytorch.org/docs/stable/generated/torch.sqrt.html#torch-sqrt)"
   ]
  },
  {
   "cell_type": "markdown",
   "id": "63613b90",
   "metadata": {
    "papermill": {
     "duration": 0.026218,
     "end_time": "2024-05-10T15:23:06.726726",
     "exception": false,
     "start_time": "2024-05-10T15:23:06.700508",
     "status": "completed"
    },
    "tags": []
   },
   "source": [
    "#### 代码填空4: 层归一化（10分）"
   ]
  },
  {
   "cell_type": "code",
   "execution_count": 12,
   "id": "91c695ef",
   "metadata": {
    "execution": {
     "iopub.execute_input": "2024-05-10T15:23:06.781797Z",
     "iopub.status.busy": "2024-05-10T15:23:06.781427Z",
     "iopub.status.idle": "2024-05-10T15:23:06.790034Z",
     "shell.execute_reply": "2024-05-10T15:23:06.789139Z"
    },
    "id": "cdbc1bf9",
    "papermill": {
     "duration": 0.03886,
     "end_time": "2024-05-10T15:23:06.792120",
     "exception": false,
     "start_time": "2024-05-10T15:23:06.753260",
     "status": "completed"
    },
    "tags": []
   },
   "outputs": [],
   "source": [
    "class LayerNormalization(nn.Module):\n",
    "    def __init__(self, emb_dim: int, epsilon: float = 1e-10):\n",
    "        super().__init__()\n",
    "        \"\"\"\n",
    "        该类实现了 Transformers 中线性层的层归一化。与 BatchNorm 不同，它估计每个批次中的每个元素的归一化统计量，因此不依赖于完整的批次。\n",
    "        输入形状类似 (N, K, M)，其中 N 是批次大小，K 是序列长度，M 是序列长度的嵌入。我们使用形状为 (N, K) 的均值和形状为 (N, K) 的标准差来归一化每个序列。\n",
    "\n",
    "        参数:\n",
    "            emb_dim: 表示嵌入维度的整数\n",
    "            epsilon: 浮点数值\n",
    "\n",
    "        \"\"\"\n",
    "        self.epsilon = epsilon\n",
    "        self.gamma = nn.Parameter(torch.ones(emb_dim))\n",
    "        self.beta = nn.Parameter(torch.zeros(emb_dim))\n",
    "\n",
    "    def forward(self, x: Tensor):\n",
    "        \"\"\"\n",
    "        层归一化层的前向传播的实现。\n",
    "\n",
    "        参数:\n",
    "            x: 形状为 (N, K, M) 或 (N, K) 的张量，其中 N 是批次大小，K 是序列长度，M 是嵌入维度\n",
    "\n",
    "        返回:\n",
    "            y: 在应用层归一化后的形状为 (N, K, M) 或 (N, K) 的张量\n",
    "\n",
    "        \"\"\"\n",
    "        ##########################################################################\n",
    "        # TODO: 实现层归一化层的前向传播。                                      #\n",
    "        # 计算输入的均值和标准差，并使用它们对输入进行归一化。                       #\n",
    "        # 进一步，使用 self.gamma 和 self.beta 来缩放和偏移这个归一化的输入。         #\n",
    "        # 不要使用 torch.std 来计算标准差。                                      #\n",
    "        ##########################################################################\n",
    "        mean = torch.mean(x,dim=-1,keepdim=True)# TODO:计算输入的均值，在最后1个维度上计算的， 可参考torch.mean，注意keepdim的用法\n",
    "        var = torch.mean(torch.pow(x-mean,2),dim=-1,keepdim=True)# TODO：计算方差，在最后一个维度上计算,注意keepdim的用法\n",
    "        std = torch.sqrt(var)# TODO: 计算标准差\n",
    "        y = (x - mean) / std # 进行归一化\n",
    "        return self.gamma * y + self.beta # 使用self.gamma和self.beta来缩放和偏移归一化的输入"
   ]
  },
  {
   "cell_type": "markdown",
   "id": "4bc47a1a",
   "metadata": {
    "papermill": {
     "duration": 0.026287,
     "end_time": "2024-05-10T15:23:06.844693",
     "exception": false,
     "start_time": "2024-05-10T15:23:06.818406",
     "status": "completed"
    },
    "tags": []
   },
   "source": [
    "#### 测试代码4: 层归一化"
   ]
  },
  {
   "cell_type": "code",
   "execution_count": 13,
   "id": "043c749d",
   "metadata": {
    "execution": {
     "iopub.execute_input": "2024-05-10T15:23:06.901214Z",
     "iopub.status.busy": "2024-05-10T15:23:06.900208Z",
     "iopub.status.idle": "2024-05-10T15:23:06.920931Z",
     "shell.execute_reply": "2024-05-10T15:23:06.919527Z"
    },
    "id": "cdf95ed8",
    "papermill": {
     "duration": 0.052332,
     "end_time": "2024-05-10T15:23:06.923204",
     "exception": false,
     "start_time": "2024-05-10T15:23:06.870872",
     "status": "completed"
    },
    "tags": []
   },
   "outputs": [
    {
     "name": "stdout",
     "output_type": "stream",
     "text": [
      "LayerNormalization error:  1.3772273765080196e-06\n",
      "LayerNormalization grad error:  2.2087854796632033e-07\n",
      "The error is less than 1e-5. Done!\n"
     ]
    }
   ],
   "source": [
    "reset_seed(0)\n",
    "N = 2\n",
    "K = 4\n",
    "norm = LayerNormalization(K)\n",
    "inp = torch.linspace(-0.4, 0.6, steps=N * K, requires_grad=True).reshape(N, K)\n",
    "\n",
    "inp.retain_grad()\n",
    "y = norm(inp)\n",
    "\n",
    "y_expected = torch.tensor(\n",
    "    [[-1.34164, -0.44721, 0.44721, 1.34164], [-1.34164, -0.44721, 0.44721, 1.34164]]\n",
    ")\n",
    "\n",
    "dy_expected = torch.tensor(\n",
    "    [[  5.70524,  -2.77289, -11.56993,   8.63758],\n",
    "        [  2.26242,  -4.44330,   2.09933,   0.08154]]\n",
    ")\n",
    "\n",
    "dy = torch.randn(*y.shape)\n",
    "y.backward(dy)\n",
    "inp_grad = inp.grad\n",
    "\n",
    "print(\"LayerNormalization error: \", rel_error(y_expected, y)) # error < 1e-5\n",
    "print(\"LayerNormalization grad error: \", rel_error(dy_expected, inp_grad)) # error < 1e-5\n",
    "if rel_error(y_expected, y)> 1e-5 and rel_error(dy_expected, inp_grad) > 1e-5:\n",
    "    print('There are some problems with your code, please check!')\n",
    "else:\n",
    "    print('The error is less than 1e-5. Done!')"
   ]
  },
  {
   "cell_type": "markdown",
   "id": "fc1cca95",
   "metadata": {
    "id": "5e86954f-f7df-4d7f-ab6c-2fe1dcb1f5b0",
    "papermill": {
     "duration": 0.029262,
     "end_time": "2024-05-10T15:23:06.982757",
     "exception": false,
     "start_time": "2024-05-10T15:23:06.953495",
     "status": "completed"
    },
    "tags": []
   },
   "source": [
    "## FeedForward Block"
   ]
  },
  {
   "cell_type": "markdown",
   "id": "eefb0b61",
   "metadata": {
    "id": "5d49a145",
    "papermill": {
     "duration": 0.029012,
     "end_time": "2024-05-10T15:23:07.041096",
     "exception": false,
     "start_time": "2024-05-10T15:23:07.012084",
     "status": "completed"
    },
    "tags": []
   },
   "source": [
    "接下来，我们将实现 `Feedforward` 块。这些在 Transformer 的编码器和解码器网络中都会使用，它们由堆叠的 MLP 和 ReLU 层组成。在总体架构中，`MultiHeadAttention` 的输出被输入到 `FeedForward` 块中。在 `transformers.py` 中实现 `FeedForwardBlock`，并执行以下单元格以检查你的实现。可参考：[nn.ReLU](https://pytorch.org/docs/stable/generated/torch.nn.ReLU.html)\n",
    "\n",
    "\n"
   ]
  },
  {
   "cell_type": "code",
   "execution_count": 14,
   "id": "3d5a1aaa",
   "metadata": {
    "execution": {
     "iopub.execute_input": "2024-05-10T15:23:07.101342Z",
     "iopub.status.busy": "2024-05-10T15:23:07.100966Z",
     "iopub.status.idle": "2024-05-10T15:23:07.111587Z",
     "shell.execute_reply": "2024-05-10T15:23:07.110615Z"
    },
    "papermill": {
     "duration": 0.043349,
     "end_time": "2024-05-10T15:23:07.113726",
     "exception": false,
     "start_time": "2024-05-10T15:23:07.070377",
     "status": "completed"
    },
    "tags": []
   },
   "outputs": [],
   "source": [
    "class FeedForwardBlock(nn.Module):\n",
    "    def __init__(self, inp_dim: int, hidden_dim_feedforward: int):\n",
    "        super().__init__()\n",
    "        \"\"\"\n",
    "        Transformers 中 FeedForward 块的实现。我们通过两个堆叠的 MLP 和一个 ReLU 层传递输入。\n",
    "        前向传播具有以下架构:\n",
    "        \n",
    "        线性层 - ReLU - 线性层\n",
    "        \n",
    "        输入的形状将是 (N, K, M)，其中 N 是批量大小，K 是序列长度，M 是嵌入维度。\n",
    "        \n",
    "        参数:\n",
    "            inp_dim: 输入张量的嵌入维度的整数表示\n",
    "                     \n",
    "            hidden_dim_feedforward: feedforward 块的隐藏维度\n",
    "        \"\"\"\n",
    "        ##########################################################################\n",
    "        # 在这里初始化两个 MLP，第一个使用 inp_dim 作为输入维度，hidden_dim_feedforward 作为输出，\n",
    "        # 第二个使用 hidden_dim_feedforward 作为输入。使用 inp_dim 作为输出维度         \n",
    "        ##########################################################################\n",
    "        \n",
    "        self.linear1 = nn.Linear(inp_dim, hidden_dim_feedforward)\n",
    "        self.linear2 = nn.Linear(hidden_dim_feedforward, inp_dim)\n",
    "        self.relu = nn.ReLU()\n",
    "\n",
    "        nn.init.uniform_(self.linear1.weight, -torch.sqrt(torch.tensor(6. / (inp_dim + hidden_dim_feedforward))), torch.sqrt(torch.tensor(6. / (inp_dim + hidden_dim_feedforward))))\n",
    "        nn.init.uniform_(self.linear2.weight, -torch.sqrt(torch.tensor(6. / (hidden_dim_feedforward + inp_dim))), torch.sqrt(torch.tensor(6. / (hidden_dim_feedforward + inp_dim))))\n",
    "\n",
    "    def forward(self, x):\n",
    "        \"\"\"\n",
    "        FeedForward 块的前向传播的实现。\n",
    "\n",
    "        参数:\n",
    "            x: 形状为 (N, K, M) 的张量，是 MultiHeadAttention 的输出\n",
    "        返回:\n",
    "            y: 形状为 (N, K, M) 的张量\n",
    "            \n",
    "        两个 MLP 层执行前向传播。在第一个 MLP 后使用 ReLU 层，\n",
    "        在第二个 MLP 后不使用激活函数。\n",
    "        结构： linear1 -> relu -> linear2\n",
    "        \"\"\"\n",
    "        y = self.linear1(x)\n",
    "        y = self.relu(y)\n",
    "        y = self.linear2(y)\n",
    "\n",
    "        return y\n"
   ]
  },
  {
   "cell_type": "markdown",
   "id": "c03cad01",
   "metadata": {
    "id": "09489f50",
    "papermill": {
     "duration": 0.028013,
     "end_time": "2024-05-10T15:23:07.171096",
     "exception": false,
     "start_time": "2024-05-10T15:23:07.143083",
     "status": "completed"
    },
    "tags": []
   },
   "source": [
    "## Encoder 模块\n",
    "现在，如果你回顾一下原始论文《Attention is all you Need》，那么我们几乎完成了 Transformer 的构建模块。剩下的是：\n",
    "\n",
    "- 将构建模块封装成编码器块\n",
    "- 将构建模块封装成解码器块\n",
    "- 处理输入数据的预处理和位置编码。\n",
    "\n",
    "\n",
    "我们首先来实现编码器块和解码器块。位置编码是一个非可学习的嵌入，我们可以将其视为 DataLoader 中的预处理步骤。"
   ]
  },
  {
   "cell_type": "markdown",
   "id": "64158b25",
   "metadata": {
    "id": "c1364689-db62-44f4-85ca-ed005a357f54",
    "papermill": {
     "duration": 0.027841,
     "end_time": "2024-05-10T15:23:07.227243",
     "exception": false,
     "start_time": "2024-05-10T15:23:07.199402",
     "status": "completed"
    },
    "tags": []
   },
   "source": [
    "编码器块的输入是三个张量。我们假设我们有这三个张量，查询（query）、键（key）和值（value）。运行下面的单元格来检查你的 EncoderBlock 实现。你应该期望错误在 1e-5 以下。"
   ]
  },
  {
   "cell_type": "markdown",
   "id": "5a87771b",
   "metadata": {
    "papermill": {
     "duration": 0.027456,
     "end_time": "2024-05-10T15:23:07.282106",
     "exception": false,
     "start_time": "2024-05-10T15:23:07.254650",
     "status": "completed"
    },
    "tags": []
   },
   "source": [
    "#### 代码填空5: Encoder模块（10分）"
   ]
  },
  {
   "cell_type": "code",
   "execution_count": 15,
   "id": "e5bcd0ec",
   "metadata": {
    "execution": {
     "iopub.execute_input": "2024-05-10T15:23:07.339274Z",
     "iopub.status.busy": "2024-05-10T15:23:07.338910Z",
     "iopub.status.idle": "2024-05-10T15:23:07.351047Z",
     "shell.execute_reply": "2024-05-10T15:23:07.350134Z"
    },
    "id": "b9fa5fea",
    "papermill": {
     "duration": 0.043206,
     "end_time": "2024-05-10T15:23:07.352999",
     "exception": false,
     "start_time": "2024-05-10T15:23:07.309793",
     "status": "completed"
    },
    "tags": []
   },
   "outputs": [],
   "source": [
    "class EncoderBlock(nn.Module):\n",
    "    def __init__(\n",
    "        self, num_heads: int, emb_dim: int, feedforward_dim: int, dropout: float\n",
    "    ):\n",
    "        super().__init__()\n",
    "        \"\"\"\n",
    "        这个类实现了 Transformer 模型的编码器块。原始论文中使用了 6 个这样的块串行地训练了最终模型。\n",
    "        在这里，我们首先使用已经实现的构建块初始化所需的层，然后最终编写前向传播过程，其中包括残差连接和 dropout。\n",
    "\n",
    "        如论文中的图1所示，注意力就是你所需要的，\n",
    "        编码器由四个组件组成:\n",
    "\n",
    "        1. MultiHead Attention\n",
    "        2. FeedForward 层\n",
    "        3. 多头注意力和前馈层之后的残差连接\n",
    "        4. LayerNorm\n",
    "\n",
    "        架构如下:\n",
    "\n",
    "       输入 - 多头注意力 - 输出1 - 层规范化(输出1 + 输入) - dropout - 输出2 \\ \n",
    "        - 前馈 - 输出3 - 层规范化(输出3 + 输出2) - dropout - 输出\n",
    "\n",
    "        这里，输入是多头注意力的输入，形状为 (N, K, M)，输出1、输出2 和输出3 是相应层的输出，\n",
    "        我们将这些输出添加到它们各自的输入中以实现残差连接。\n",
    "\n",
    "        参数:\n",
    "            num_heads: int 值，指定编码器中 MultiHeadAttention 块的头数\n",
    "            emb_dim: int 值，指定输入序列的嵌入维度\n",
    "            feedforward_dim: int 值，指定 Transformer 的 FeedForward 层中的隐藏单元数\n",
    "            dropout: float 值，指定 dropout 值\n",
    "        \"\"\"\n",
    "\n",
    "        if emb_dim % num_heads != 0:\n",
    "            raise ValueError(\n",
    "                f\"\"\"嵌入维度 emb_dim = {emb_dim} 不能被\n",
    "                             num_heads = {num_heads} 整除。请选择一个\n",
    "                             合适的值。\"\"\"\n",
    "            )\n",
    "\n",
    "        ##########################################################################\n",
    "        # 初始化以下层:                                                    #\n",
    "        # 1. 一个 MultiHead Attention 块，使用 num_heads 作为头数和             #\n",
    "        #    emb_dim 作为输入维度。您还应该能够计算 MultiheadHead 注意力的输出  #\n",
    "        #    维度，给定 num_heads 和 emb_dim。                                    #\n",
    "        #    提示: 使用的逻辑是在 MultiHead Attention 块内连接每个               #\n",
    "        #    SingleHeadAttention 的输出，并选择输出维度，使得连接后的张量和    #\n",
    "        #    输入张量具有相同的嵌入维度。                                       #\n",
    "        #                                                                        #\n",
    "        # 2. 两个输入维度等于 emb_dim 的 LayerNorm 层                          #\n",
    "        # 3. 一个以 emb_dim 为输入，feedforward_dim 为隐藏单元的 FeedForward 块  #\n",
    "        # 4. 一个具有给定 dropout 参数的 Dropout 层                             #\n",
    "        ##########################################################################\n",
    "        self.multihead_attention = MultiHeadAttention(num_heads, emb_dim, int(emb_dim // num_heads))\n",
    "        self.layer_norm1 = LayerNormalization(emb_dim)\n",
    "        self.dropout1 = nn.Dropout(dropout)\n",
    "\n",
    "        self.feedforward = FeedForwardBlock(emb_dim, feedforward_dim)\n",
    "        self.layer_norm2 = LayerNormalization(emb_dim)\n",
    "        self.dropout2 = nn.Dropout(dropout)\n",
    "\n",
    "    def forward(self, x):\n",
    "\n",
    "        \"\"\"\n",
    "        Transformer 模型的 EncoderBlock 的前向传播的实现。\n",
    "        参数:\n",
    "            x: 形状为 (N, K, M) 的张量，作为输入序列\n",
    "        返回:\n",
    "            y: 形状为 (N, K, M) 的张量，作为前向传播的输出\n",
    "         \n",
    "       架构如下:\n",
    "\n",
    "       输入 - 多头注意力 - 输出1 - 层规范化(输出1 + 输入) - dropout - 输出2 \\ \n",
    "        - 前馈 - 输出3 - 层规范化(输出3 + 输出2) - dropout - 输出\n",
    "\n",
    "        \"\"\"\n",
    "        y = None\n",
    "        ##########################################################################\n",
    "        # TODO: 使用在 init 函数中初始化的层完成前向传播。由于 Multihead Attention #\n",
    "        # 需要3个输入，因此将同一个输入x用三次作为输入。\n",
    "        ##########################################################################\n",
    "        out1 = self.multihead_attention(x,x,x)# TODO\n",
    "        res1 = out1 + x\n",
    "        norm1 = self.layer_norm1(res1)\n",
    "        \n",
    "        out2 = self.dropout1(norm1)# TODO\n",
    "        out3 = self.feedforward(out2)# TODO\n",
    "        res2 = out3 + out2\n",
    "        norm2 = self.layer_norm2(res2)\n",
    "        y = self.dropout2(norm2)# TODO\n",
    "        return y\n"
   ]
  },
  {
   "cell_type": "markdown",
   "id": "ec9b2aca",
   "metadata": {
    "papermill": {
     "duration": 0.027061,
     "end_time": "2024-05-10T15:23:07.407111",
     "exception": false,
     "start_time": "2024-05-10T15:23:07.380050",
     "status": "completed"
    },
    "tags": []
   },
   "source": [
    "#### 测试代码5：Encoder"
   ]
  },
  {
   "cell_type": "code",
   "execution_count": 16,
   "id": "d2249aca",
   "metadata": {
    "execution": {
     "iopub.execute_input": "2024-05-10T15:23:07.461843Z",
     "iopub.status.busy": "2024-05-10T15:23:07.461414Z",
     "iopub.status.idle": "2024-05-10T15:23:07.489889Z",
     "shell.execute_reply": "2024-05-10T15:23:07.488849Z"
    },
    "id": "76e8ccb0",
    "papermill": {
     "duration": 0.057446,
     "end_time": "2024-05-10T15:23:07.491835",
     "exception": false,
     "start_time": "2024-05-10T15:23:07.434389",
     "status": "completed"
    },
    "tags": []
   },
   "outputs": [
    {
     "name": "stdout",
     "output_type": "stream",
     "text": [
      "EncoderBlock error 1:  5.951869338703975e-07\n",
      "EncoderBlock error 2:  6.344433064213184e-07\n"
     ]
    }
   ],
   "source": [
    "reset_seed(0)\n",
    "N = 2\n",
    "num_heads = 2\n",
    "emb_dim = K = 4\n",
    "feedforward_dim = 8\n",
    "M = inp_emb_size = 4\n",
    "out_emb_size = 8\n",
    "dropout = 0.2\n",
    "\n",
    "enc_seq_inp = torch.linspace(-0.4, 0.6, steps=N * K * M, requires_grad=True).reshape(\n",
    "    N, K, M\n",
    ")\n",
    "\n",
    "enc_block = EncoderBlock(num_heads, emb_dim, feedforward_dim, dropout)\n",
    "\n",
    "\n",
    "for k, v in enc_block.named_parameters():\n",
    "#     print(k, v.shape) \n",
    "    v.data.copy_(torch.linspace(-1.4, 1.3, steps=v.numel()).reshape(*v.shape))\n",
    "\n",
    "encoder_out1_expected = torch.tensor(\n",
    "    [[[ 0.00000, -0.31357,  0.69126,  0.00000],\n",
    "         [ 0.42630, -0.25859,  0.72412,  3.87013],\n",
    "         [ 0.00000, -0.31357,  0.69126,  3.89884],\n",
    "         [ 0.47986, -0.30568,  0.69082,  3.90563]],\n",
    "\n",
    "        [[ 0.00000, -0.31641,  0.69000,  3.89921],\n",
    "         [ 0.47986, -0.30568,  0.69082,  3.90563],\n",
    "         [ 0.47986, -0.30568,  0.69082,  3.90563],\n",
    "         [ 0.51781, -0.30853,  0.71598,  3.85171]]]\n",
    ")\n",
    "encoder_out1 = enc_block(enc_seq_inp)\n",
    "print(\"EncoderBlock error 1: \", rel_error(encoder_out1, encoder_out1_expected))\n",
    "\n",
    "\n",
    "\n",
    "N = 2\n",
    "num_heads = 1\n",
    "emb_dim = K = 4\n",
    "feedforward_dim = 8\n",
    "M = inp_emb_size = 4\n",
    "out_emb_size = 8\n",
    "dropout = 0.2\n",
    "\n",
    "enc_seq_inp = torch.linspace(-0.4, 0.6, steps=N * K * M, requires_grad=True).reshape(\n",
    "    N, K, M\n",
    ")  \n",
    "\n",
    "enc_block = EncoderBlock(num_heads, emb_dim, feedforward_dim, dropout)\n",
    "\n",
    "for k, v in enc_block.named_parameters():\n",
    "    # print(k, v.shape) \n",
    "    v.data.copy_(torch.linspace(-1.4, 1.3, steps=v.numel()).reshape(*v.shape))\n",
    "\n",
    "encoder_out2_expected = torch.tensor(\n",
    "    [[[ 0.42630, -0.00000,  0.72412,  3.87013],\n",
    "         [ 0.49614, -0.31357,  0.00000,  3.89884],\n",
    "         [ 0.47986, -0.30568,  0.69082,  0.00000],\n",
    "         [ 0.51654, -0.32455,  0.69035,  3.89216]],\n",
    "\n",
    "        [[ 0.47986, -0.30568,  0.69082,  0.00000],\n",
    "         [ 0.49614, -0.31357,  0.69126,  3.89884],\n",
    "         [ 0.00000, -0.30354,  0.76272,  3.75311],\n",
    "         [ 0.49614, -0.31357,  0.69126,  3.89884]]]\n",
    ")\n",
    "encoder_out2 = enc_block(enc_seq_inp)\n",
    "print(\"EncoderBlock error 2: \", rel_error(encoder_out2, encoder_out2_expected))"
   ]
  },
  {
   "cell_type": "markdown",
   "id": "1bdfb713",
   "metadata": {
    "id": "4b2616ef-5934-4a50-8f51-642ef635e2cb",
    "papermill": {
     "duration": 0.025692,
     "end_time": "2024-05-10T15:23:07.543454",
     "exception": false,
     "start_time": "2024-05-10T15:23:07.517762",
     "status": "completed"
    },
    "tags": []
   },
   "source": [
    "## Decoder Block"
   ]
  },
  {
   "cell_type": "markdown",
   "id": "35fd7fb6",
   "metadata": {
    "id": "19e2d5d7-6918-4ea8-a369-0d53304ff1a7",
    "papermill": {
     "duration": 0.02595,
     "end_time": "2024-05-10T15:23:07.595453",
     "exception": false,
     "start_time": "2024-05-10T15:23:07.569503",
     "status": "completed"
    },
    "tags": []
   },
   "source": [
    "现在，我们将看一下解码器的实现。对于更复杂的任务，如序列到序列的任务，我们需要一个解码器网络，它可以将编码器的输出转换为目标序列。这种架构在诸如语言翻译之类的任务中非常重要，其中我们有一个序列作为输入和一个序列作为输出。这个解码器从编码器获取输入和先前生成的值来生成下一个值。在训练过程中，我们在输入上使用掩码，以便解码器网络不能预先查看未来，在推理过程中，我们顺序处理数据。\n",
    "\n",
    "在转到实现解码器块之前，我们应该注意\"Masked MultiHead Attention\"，实际上防止了解码器预测未来。让我们通过一个例子来理解这个。我们有一个表达式 `BOS POSITIVE 01 add POSITIVE 00 EOS`，即 `1+0`，它的输出是 `BOS POSITIVE 01 EOS`，即 `+1`。让我们关注输出序列。这是一个长度为5的序列（经过我们的预处理代码），将会转换成维度为$5\\times128$的 *key*、*query* 和 *value* 矩阵，其中128是Transformer的嵌入维度。现在，在训练过程中，我们将这些向量输入到 `self_attention_no_loop_batch` 中而不使用掩码。它将计算 *query* 和 *key* 之间的点积，生成一个 $5\\times5$ 的矩阵，其中第一行（形状为 $1\\times5$）告诉我们单词 `EOS` 与 `EOS`、`POSITIVE`、`0`、`1` 和 `EOS` 之间的相关程度。这意味着它将使用所有这些标记的权重来学习最终要预测的序列。当我们训练模型时，这是可以接受的，但当我们进行推理时会发生什么呢？我们从一个全新的表达式开始，将这个表达式输入编码器，但这次我们只有解码器的第一个起始标记 `EOS`，我们不知道序列中的其他标记。因此，解决这个问题的方法是在函数 `self_attention_no_loop_batch` 中为解码器部分掩码权重。这种掩码应该防止解码器访问未来或下一个元素。"
   ]
  },
  {
   "cell_type": "code",
   "execution_count": 17,
   "id": "d73992b6",
   "metadata": {
    "execution": {
     "iopub.execute_input": "2024-05-10T15:23:07.650424Z",
     "iopub.status.busy": "2024-05-10T15:23:07.649608Z",
     "iopub.status.idle": "2024-05-10T15:23:07.655557Z",
     "shell.execute_reply": "2024-05-10T15:23:07.654721Z"
    },
    "papermill": {
     "duration": 0.036153,
     "end_time": "2024-05-10T15:23:07.657491",
     "exception": false,
     "start_time": "2024-05-10T15:23:07.621338",
     "status": "completed"
    },
    "tags": []
   },
   "outputs": [],
   "source": [
    "def get_subsequent_mask(seq):\n",
    "    \"\"\"\n",
    "    解码器自注意力掩码的实现。在训练模型时，这将用于屏蔽目标序列。这里的输入形状是 (N, K)，其中 N 是批量大小，K 是序列长度。\n",
    "\n",
    "    参数:\n",
    "        seq: 形状为 (N, K) 的张量，其中 N 是批量大小，K 是序列长度\n",
    "    返回:\n",
    "        mask: 形状为 (N, K, K) 的张量，其中 N 是批量大小，K 是序列长度\n",
    "\n",
    "    给定长度为 K 的序列，我们希望在函数 `self_attention_no_loop_batch` 中掩码权重，\n",
    "    以防止解码器预测未来。\n",
    "    \"\"\"\n",
    "    ###############################################################################\n",
    "    # 这个函数构造了 Transformer 解码器部分的掩码。                         #\n",
    "    # 要实现这一点，对于批量（N）中的每个序列（长度为 K），返回一个布尔矩阵，       #\n",
    "    # 在应用掩码的地方为 True，不应用掩码的地方为 False。                         #                                                                           #\n",
    "    ###############################################################################\n",
    "    N, K = seq.shape\n",
    "    ones_matrix = torch.ones((N, K, K), device=seq.device, dtype=torch.bool)\n",
    "    mask = torch.triu(ones_matrix, diagonal=1)\n",
    "\n",
    "    return mask\n"
   ]
  },
  {
   "cell_type": "code",
   "execution_count": 18,
   "id": "1d984a4e",
   "metadata": {
    "execution": {
     "iopub.execute_input": "2024-05-10T15:23:07.711637Z",
     "iopub.status.busy": "2024-05-10T15:23:07.710937Z",
     "iopub.status.idle": "2024-05-10T15:23:07.723728Z",
     "shell.execute_reply": "2024-05-10T15:23:07.722865Z"
    },
    "papermill": {
     "duration": 0.042335,
     "end_time": "2024-05-10T15:23:07.725651",
     "exception": false,
     "start_time": "2024-05-10T15:23:07.683316",
     "status": "completed"
    },
    "tags": []
   },
   "outputs": [],
   "source": [
    "class DecoderBlock(nn.Module):\n",
    "    def __init__(\n",
    "        self, num_heads: int, emb_dim: int, feedforward_dim: int, dropout: float\n",
    "    ):\n",
    "        super().__init__()\n",
    "        if emb_dim % num_heads != 0:\n",
    "            raise ValueError(\n",
    "                f\"\"\"The value emb_dim = {emb_dim} is not divisible\n",
    "                             by num_heads = {num_heads}. Please select an\n",
    "                             appropriate value.\"\"\"\n",
    "            )\n",
    "\n",
    "        \"\"\"\n",
    "        该函数实现了Transformer模型的解码器块。\n",
    "    \n",
    "        args:\n",
    "            num_heads: 表示头数的整数值\n",
    "\n",
    "            emb_dim: 表示嵌入维度的整数值\n",
    "\n",
    "            feedforward_dim: 表示前馈模型中的隐藏层的整数值\n",
    "\n",
    "            dropout: 表示丢弃概率的浮点数值\n",
    "        \"\"\"\n",
    "        ##########################################################################\n",
    "        # 初始化以下层:                                                   #\n",
    "        # 1. 两个具有 num_heads 个头数和 emb_dim 作为嵌入维度的MultiheadAttention 层。#\n",
    "        #     与编码器一样，你应该能够确定两个MultiHeadAttention的输出维度。            #\n",
    "        # 2. 一个FeedForward块，它将emb_dim作为输入维度，feedforward_dim作为隐藏层的维度 #\n",
    "        # 3. 在每个块之后添加LayerNormalization层                                      #\n",
    "        # 4. 在每个块之后添加丢弃层                                                    #\n",
    "        ##########################################################################\n",
    "\n",
    "        self.attention_self = MultiHeadAttention(num_heads, emb_dim, int(emb_dim/num_heads))\n",
    "        self.attention_cross = MultiHeadAttention(num_heads, emb_dim, int(emb_dim/num_heads))\n",
    "\n",
    "        self.feed_forward = FeedForwardBlock(emb_dim, feedforward_dim)\n",
    "\n",
    "        self.norm1 = LayerNormalization(emb_dim)\n",
    "        self.norm2 = LayerNormalization(emb_dim)\n",
    "        self.norm3 = LayerNormalization(emb_dim)\n",
    "\n",
    "        self.dropout = nn.Dropout(dropout)\n",
    "\n",
    "    def forward(\n",
    "        self, dec_inp: Tensor, enc_inp: Tensor, mask: Tensor = None\n",
    "    ) -> Tensor:\n",
    "\n",
    "        \"\"\"\n",
    "        args:\n",
    "            dec_inp: 形状为 (N, K, M) 的张量\n",
    "            enc_inp: 形状为 (N, K, M) 的张量\n",
    "            mask: 形状为 (N, K, K) 的张量\n",
    "\n",
    "        此函数将处理解码器块的前向传递。它将输入 enc_inp 作为编码器输出，\n",
    "        以及一个张量 dec_inp 作为目标序列，训练时目标序列将向后移动一个位置，\n",
    "        推理时为一个初始标记 \"BOS\"。\n",
    "        \"\"\"\n",
    "        ##########################################################################\n",
    "        # 使用init函数中初始化的层，实现解码器块的前向传递。将 dec_inp 传递给  #\n",
    "        # self.attention_self 层。这一层负责解码器输入的自我交互。                # \n",
    "        # 架构如下:\n",
    "        \n",
    "        # 输入 - 带有mask的多头注意力 - 输出1 - 层归一化(输入 + 输出1) - \\\n",
    "        # dp层 - (输出2和编码器输出) - 多头注意力 - 输出3 - \\\n",
    "        # 层归一化(输出3 + 输出2) - dp层 - 输出4 - 前馈网络 - 输出5 - \\\n",
    "        # 层归一化(输出5 + 输出4) - dp层 - 输出\n",
    "        \n",
    "        # 这里，输出1、输出2、输出3、输出4、输出5是各层对应的输出，编码器输出是编码器的输出，\n",
    "        # 我们将这些输出添加到它们各自的输入中以实现残差连接。\n",
    "        \n",
    "        ##########################################################################\n",
    "        out1 = self.attention_self(dec_inp, dec_inp, dec_inp, mask) # (N, K2, M)\n",
    "        out2 = self.norm1(out1 + dec_inp) # (N, K2, M)\n",
    "        out2 = self.dropout(out2) # (N, K2, M)\n",
    "        out3 = self.attention_cross(out2, enc_inp, enc_inp) # query: out2, key&values: enc_inp\n",
    "                                                            # out3: (N, K2, M)\n",
    "        out4 = self.norm2(out3 + out2) # (N, K2, M)\n",
    "        out4 = self.dropout(out4) # (N, K2, M)\n",
    "        out5 = self.feed_forward(out4) # (N, K2, M)\n",
    "        out = self.norm3(out5 + out4) # (N, K2, M)\n",
    "        y = self.dropout(out) # (N, K2, M)\n",
    "        return y\n"
   ]
  },
  {
   "cell_type": "markdown",
   "id": "6f870cd1",
   "metadata": {
    "papermill": {
     "duration": 0.025494,
     "end_time": "2024-05-10T15:23:07.777089",
     "exception": false,
     "start_time": "2024-05-10T15:23:07.751595",
     "status": "completed"
    },
    "tags": []
   },
   "source": [
    "## 构建Transformer结构"
   ]
  },
  {
   "cell_type": "markdown",
   "id": "c85de64d",
   "metadata": {
    "papermill": {
     "duration": 0.025579,
     "end_time": "2024-05-10T15:23:07.828527",
     "exception": false,
     "start_time": "2024-05-10T15:23:07.802948",
     "status": "completed"
    },
    "tags": []
   },
   "source": [
    "Transformer的结构由N个encoder和decoder结构组成，以下代码将使用nn.ModuleList将N个编码器和解码器串联起来。"
   ]
  },
  {
   "cell_type": "code",
   "execution_count": 19,
   "id": "0667de47",
   "metadata": {
    "execution": {
     "iopub.execute_input": "2024-05-10T15:23:07.881342Z",
     "iopub.status.busy": "2024-05-10T15:23:07.881001Z",
     "iopub.status.idle": "2024-05-10T15:23:07.892395Z",
     "shell.execute_reply": "2024-05-10T15:23:07.891560Z"
    },
    "papermill": {
     "duration": 0.040032,
     "end_time": "2024-05-10T15:23:07.894242",
     "exception": false,
     "start_time": "2024-05-10T15:23:07.854210",
     "status": "completed"
    },
    "tags": []
   },
   "outputs": [],
   "source": [
    "class Encoder(nn.Module):\n",
    "    def __init__(\n",
    "        self,\n",
    "        num_heads: int,\n",
    "        emb_dim: int,\n",
    "        feedforward_dim: int,\n",
    "        num_layers: int,\n",
    "        dropout: float,\n",
    "    ):\n",
    "        \"\"\"\n",
    "        该类封装了使用多个EncoderBlock层的最终编码器的实现。\n",
    "\n",
    "        args:\n",
    "            num_heads: 表示EncoderBlock中要使用的头数的整数值\n",
    "            emb_dim: 表示Transformer模型的嵌入维度的整数值\n",
    "            feedforward_dim: 表示前馈块的隐藏层维度的整数值\n",
    "\n",
    "        \"\"\"\n",
    "\n",
    "        super().__init__()\n",
    "        self.layers = nn.ModuleList(\n",
    "            [\n",
    "                EncoderBlock(num_heads, emb_dim, feedforward_dim, dropout)\n",
    "                for _ in range(num_layers)\n",
    "            ]\n",
    "        )\n",
    "\n",
    "    def forward(self, src_seq: Tensor):\n",
    "        for _layer in self.layers:\n",
    "            src_seq = _layer(src_seq)\n",
    "\n",
    "        return src_seq\n",
    "\n",
    "\n",
    "class Decoder(nn.Module):\n",
    "    def __init__(\n",
    "        self,\n",
    "        num_heads: int,\n",
    "        emb_dim: int,\n",
    "        feedforward_dim: int,\n",
    "        num_layers: int,\n",
    "        dropout: float,\n",
    "        vocab_len: int,\n",
    "    ):\n",
    "        super().__init__()\n",
    "        \"\"\"\n",
    "        解码器从编码器接收输入和目标序列，生成输出的最终序列。我们首先将输入通过堆叠的DecoderBlock，\n",
    "        然后将输出投影到vocab_len，这是获取实际序列所需的。\n",
    "\n",
    "        args:\n",
    "            num_heads: 表示Transformer中MultiheadAttention的头数的整数\n",
    "            emb_dim: 表示序列的嵌入维度的整数\n",
    "            feedforward_dim: 表示前馈块中隐藏层的维度的整数\n",
    "            num_layers: 表示解码器中DecoderBlock的数量的整数\n",
    "            dropout: 表示每个DecoderBlock中的丢弃率的浮点数\n",
    "            vocab_len: 词汇表的长度\n",
    "\n",
    "\n",
    "        \"\"\"\n",
    "\n",
    "        self.layers = nn.ModuleList(\n",
    "            [\n",
    "                DecoderBlock(num_heads, emb_dim, feedforward_dim, dropout)\n",
    "                for _ in range(num_layers)\n",
    "            ]\n",
    "        )\n",
    "        self.proj_to_vocab = nn.Linear(emb_dim, vocab_len)\n",
    "        a = (6 / (emb_dim + vocab_len)) ** 0.5\n",
    "        nn.init.uniform_(self.proj_to_vocab.weight, -a, a)\n",
    "\n",
    "    def forward(self, target_seq: Tensor, enc_out: Tensor, mask: Tensor):\n",
    "\n",
    "        out = target_seq.clone()\n",
    "        for _layer in self.layers:\n",
    "            out = _layer(out, enc_out, mask)\n",
    "        out = self.proj_to_vocab(out)\n",
    "        return out\n",
    "\n",
    "    \n"
   ]
  },
  {
   "cell_type": "code",
   "execution_count": 20,
   "id": "8edb3c47",
   "metadata": {
    "execution": {
     "iopub.execute_input": "2024-05-10T15:23:07.947913Z",
     "iopub.status.busy": "2024-05-10T15:23:07.947580Z",
     "iopub.status.idle": "2024-05-10T15:23:07.958495Z",
     "shell.execute_reply": "2024-05-10T15:23:07.957672Z"
    },
    "papermill": {
     "duration": 0.040039,
     "end_time": "2024-05-10T15:23:07.960440",
     "exception": false,
     "start_time": "2024-05-10T15:23:07.920401",
     "status": "completed"
    },
    "tags": []
   },
   "outputs": [],
   "source": [
    "class Transformer(nn.Module):\n",
    "    def __init__(\n",
    "        self,\n",
    "        num_heads: int,\n",
    "        emb_dim: int,\n",
    "        feedforward_dim: int,\n",
    "        dropout: float,\n",
    "        num_enc_layers: int,\n",
    "        num_dec_layers: int,\n",
    "        vocab_len: int,\n",
    "    ):\n",
    "        super().__init__()\n",
    "\n",
    "        \"\"\"\n",
    "        该类实现了带有编码器和解码器的Transformer模型。模型的输入是形状为(N, K)的张量，\n",
    "        输出是形状为(N*O, V)的张量。这里，N是批量大小，K是输入序列长度，O是输出序列长度，\n",
    "        V是词汇表大小。输入通过共享的nn.Embedding层传递，然后加上输入位置编码。\n",
    "        类似地，目标通过相同的nn.Embedding层传递，然后加上目标位置编码。唯一的区别是，\n",
    "        我们在目标中取倒数第二个值。总结的输入（请查看代码了解详情）然后通过编码器和解码器\n",
    "        块以获得最终输出。\n",
    "        args:\n",
    "            num_heads: 表示Encoder和Decoder中要使用的头数的整数\n",
    "            emb_dim: 表示Transformer的嵌入维度的整数\n",
    "            dim_feedforward: 表示Encoder和Decoder中隐藏层的数量的整数\n",
    "            dropout: 表示丢弃层的概率的浮点数\n",
    "            num_enc_layers: 表示编码器块的数量的整数\n",
    "            num_dec_layers: 表示解码器块的数量的整数\n",
    "\n",
    "        \"\"\"\n",
    "        self.emb_layer = None\n",
    "        ##########################################################################\n",
    "        # 初始化一个Embedding层，将vocab_len映射到emb_dim。这是我们模型的第一个输入，\n",
    "        # 并将此输入转换为整个模型中保持不变的emb_dim。请使用self.emb_layer作为此层的名称。 #\n",
    "        ##########################################################################\n",
    "        self.emb_layer = nn.Embedding(vocab_len, emb_dim)\n",
    "        self.encoder = Encoder(\n",
    "            num_heads, emb_dim, feedforward_dim, num_enc_layers, dropout\n",
    "        )\n",
    "        self.decoder = Decoder(\n",
    "            num_heads,\n",
    "            emb_dim,\n",
    "            feedforward_dim,\n",
    "            num_dec_layers,\n",
    "            dropout,\n",
    "            vocab_len,\n",
    "        )\n",
    "\n",
    "    def forward(\n",
    "        self, ques_b: Tensor, ques_pos: Tensor, ans_b: Tensor, ans_pos: Tensor\n",
    "    ) -> Tensor:\n",
    "\n",
    "        \"\"\"\n",
    "\n",
    "        实现Transformer的前向传递。\n",
    "\n",
    "        args:\n",
    "            ques_b: 形状为(N, K)的张量，包含算术表达式的输入序列\n",
    "            ques_pos: 形状为(N, K, M)的张量，包含输入序列的位置编码\n",
    "            ans_b: 形状为(N, K)的张量，包含算术表达式的目标序列\n",
    "            ans_pos: 形状为(N, K, M)的张量，包含目标序列的位置编码\n",
    "\n",
    "        返回:\n",
    "            dec_out: 形状为(N*O, M)的张量，其中O是目标序列的大小。\n",
    "        \"\"\"\n",
    "        q_emb = self.emb_layer(ques_b)\n",
    "        a_emb = self.emb_layer(ans_b)\n",
    "        q_emb_inp = q_emb + ques_pos\n",
    "        a_emb_inp = a_emb[:, :-1] + ans_pos[:, :-1]\n",
    "        dec_out = None\n",
    "        ##########################################################################\n",
    "        # 此部分包括编写完整Transformer的前向部分。首先，将q_emb_inp传递给编码器，\n",
    "        # 这将是解码器输入之一。除了编码器输出外，还应构建一个适当的掩码，使用get_subsequent_mask。\n",
    "        # 最后，将a_emb_inp、编码器输出和掩码传递给解码器。任务是屏蔽目标(a_emb_inp)的值。  #\n",
    "        # 掩码形状将取决于张量ans_b                                      #\n",
    "        ##########################################################################\n",
    "        enc_out = self.encoder(q_emb_inp)\n",
    "        mask = get_subsequent_mask(ans_b[:,:-1])\n",
    "        dec_out = self.decoder(a_emb_inp, enc_out, mask)\n",
    "        dec_out = dec_out.reshape(-1, dec_out.shape[2])\n",
    "\n",
    "        return dec_out\n"
   ]
  },
  {
   "cell_type": "markdown",
   "id": "624690df",
   "metadata": {
    "id": "20a41e64-4de5-4289-be47-3e7282e88f35",
    "papermill": {
     "duration": 0.025906,
     "end_time": "2024-05-10T15:23:08.012107",
     "exception": false,
     "start_time": "2024-05-10T15:23:07.986201",
     "status": "completed"
    },
    "tags": []
   },
   "source": [
    "# 第三部分：数据加载器\n",
    "\n",
    "在这一部分中，我们将创建用于训练Transformer模型的最终数据加载器。这将包括两件事情：\n",
    "\n",
    "- 实现位置编码（Positional Encoding）\n",
    "- 使用我们在第一部分创建的`prepocess_input_sequence`函数创建一个数据加载器。"
   ]
  },
  {
   "cell_type": "markdown",
   "id": "4dc74ab5",
   "metadata": {
    "id": "1249f651-4de3-4dd7-aa85-7d8bfb3e1e4f",
    "papermill": {
     "duration": 0.025507,
     "end_time": "2024-05-10T15:23:08.063360",
     "exception": false,
     "start_time": "2024-05-10T15:23:08.037853",
     "status": "completed"
    },
    "tags": []
   },
   "source": [
    "让我们开始实现输入的位置编码。位置编码使得Transformer在处理序列时能够感知位置信息。这些位置编码通常被添加到输入中，因此它们的形状应该与输入相同。由于位置编码不可学习，在训练过程中它们保持不变。因此，我们可以将其视为对输入进行的预处理步骤。我们的策略是实现位置编码函数，并在稍后创建玩具数据集的DataLoader时使用它。"
   ]
  },
  {
   "cell_type": "markdown",
   "id": "b5d6fb48",
   "metadata": {
    "id": "8c8ddbbc-1631-4781-849d-3fd27a3b0619",
    "papermill": {
     "duration": 0.025393,
     "end_time": "2024-05-10T15:23:08.114463",
     "exception": false,
     "start_time": "2024-05-10T15:23:08.089070",
     "status": "completed"
    },
    "tags": []
   },
   "source": [
    "### Sinusoid positional encoding"
   ]
  },
  {
   "cell_type": "markdown",
   "id": "6977ab58",
   "metadata": {
    "id": "1e3db3a0",
    "papermill": {
     "duration": 0.026061,
     "end_time": "2024-05-10T15:23:08.166292",
     "exception": false,
     "start_time": "2024-05-10T15:23:08.140231",
     "status": "completed"
    },
    "tags": []
   },
   "source": [
    "对于简单位置编码的一个主要缺点，那就是如果序列长度变大，两个连续位置编码之间的差异会变得越来越小，从而失去了位置感知的目的，因为连续位置之间的差异非常小。另一个问题是，对于每个位置，我们都沿着嵌入维度进行了复制，引入了冗余，这可能不会帮助网络学到任何新知识。可以使用不同的技巧来创建一个位置编码来解决这些问题。\n",
    "\n",
    "让我们看一下更成熟的位置编码版本，它使用正弦和余弦函数的组合，也称为正弦波。这也是原始Transformer论文中使用的位置编码。对于序列（长度为 K）中的每个元素，具有位置 $p$ 和嵌入（维度 M）位置 $i$，我们可以将位置编码定义为：\n",
    "\n",
    "$$PE_{(p, 2i)} = \\sin\\left(\\frac{p}{10000^a}\\right)$$\n",
    "$$PE_{(p, 2i+1)} = \\cos\\left(\\frac{p}{10000^a}\\right)$$\n",
    "\n",
    "$$\\text{其中 }a = \\left\\lfloor{\\frac{2i}{M}}\\right\\rfloor \\text{，而 M 是Transformer的嵌入维度}$$\n",
    "\n",
    "在这里，$p$ 对于序列中的位置保持不变，并且我们沿着嵌入维度交替分配正弦和余弦。\n"
   ]
  },
  {
   "cell_type": "code",
   "execution_count": 21,
   "id": "51296bf2",
   "metadata": {
    "execution": {
     "iopub.execute_input": "2024-05-10T15:23:08.219456Z",
     "iopub.status.busy": "2024-05-10T15:23:08.219131Z",
     "iopub.status.idle": "2024-05-10T15:23:08.226598Z",
     "shell.execute_reply": "2024-05-10T15:23:08.225675Z"
    },
    "papermill": {
     "duration": 0.036467,
     "end_time": "2024-05-10T15:23:08.228602",
     "exception": false,
     "start_time": "2024-05-10T15:23:08.192135",
     "status": "completed"
    },
    "tags": []
   },
   "outputs": [],
   "source": [
    "def position_encoding_sinusoid(K: int, M: int) -> Tensor:\n",
    "\n",
    "    \"\"\"\n",
    "    正弦位置编码的实现。\n",
    "\n",
    "    参数:\n",
    "        K: 表示序列长度的整数\n",
    "        M: 表示序列的嵌入维度的整数\n",
    "\n",
    "    返回:\n",
    "        y: 形状为 (1, K, M) 的张量\n",
    "    \"\"\"\n",
    "    ##############################################################################\n",
    "    # 给定输入序列长度 K 和嵌入维度 M，构造形状为 (K, M) 的张量，其中沿着     #\n",
    "    # 维度的值遵循上面给出的方程。请注意在嵌入维度 M 上交替使用正弦和余弦。         #\n",
    "    ##############################################################################\n",
    "    y = torch.zeros(1, K, M)\n",
    "    temp = torch.arange(M)\n",
    "    temp = torch.div(temp, M, rounding_mode=\"floor\").reshape(1, -1) #(1, M)\n",
    "    p = torch.arange(K).unsqueeze(dim=-1)\n",
    "    \"\"\"\n",
    "    temp:我们得到的是从 0 到 1 之间的均匀间隔的值。\n",
    "    接下来，我们创建一个形状为 (K, 1) 的张量 num，其中包含从 0 到 K-1 的整数，并在最后一个维度上增加一个维度。\n",
    "    \"\"\"\n",
    "    y[0, :, 0::2] = torch.sin(p / torch.pow(10000, temp[0, 0::2]))\n",
    "    y[0, :, 1::2] = torch.cos(p / torch.pow(10000, temp[0, 1::2]))\n",
    "    return y\n"
   ]
  },
  {
   "cell_type": "markdown",
   "id": "ffc7c3a7",
   "metadata": {
    "papermill": {
     "duration": 0.025389,
     "end_time": "2024-05-10T15:23:08.279960",
     "exception": false,
     "start_time": "2024-05-10T15:23:08.254571",
     "status": "completed"
    },
    "tags": []
   },
   "source": [
    "### 加载数据"
   ]
  },
  {
   "cell_type": "markdown",
   "id": "d8f6ba53",
   "metadata": {
    "papermill": {
     "duration": 0.025359,
     "end_time": "2024-05-10T15:23:08.330832",
     "exception": false,
     "start_time": "2024-05-10T15:23:08.305473",
     "status": "completed"
    },
    "tags": []
   },
   "source": [
    "由于Transformer在序列到序列任务上表现非常好，我们将在一个算术操作的玩具任务上实现它。我们将使用Transformer模型来执行两个整数的加法和减法，其中整数的绝对值最多为50。一个简单的例子是使用Transformer模型执行 `-5 + 2` 的计算，并得到正确的结果 `-3`。由于解决这个问题可以有多种方法，我们将看到如何将其作为序列到序列问题提出，并使用Transformer模型解决它。\n",
    "让我们先看一下数据："
   ]
  },
  {
   "cell_type": "code",
   "execution_count": 22,
   "id": "91b8e521",
   "metadata": {
    "execution": {
     "iopub.execute_input": "2024-05-10T15:23:08.383643Z",
     "iopub.status.busy": "2024-05-10T15:23:08.383321Z",
     "iopub.status.idle": "2024-05-10T15:23:08.405730Z",
     "shell.execute_reply": "2024-05-10T15:23:08.405002Z"
    },
    "papermill": {
     "duration": 0.050962,
     "end_time": "2024-05-10T15:23:08.407641",
     "exception": false,
     "start_time": "2024-05-10T15:23:08.356679",
     "status": "completed"
    },
    "tags": []
   },
   "outputs": [],
   "source": [
    "train_data_path = '/kaggle/input/hw-transformer-addsub/train_data.json'\n",
    "val_data_path = '/kaggle/input/hw-transformer-addsub/val_data.json'\n",
    "test_data_path = '/kaggle/input/hw-transformer-addsub/test_data.json'\n",
    "\n",
    "train_data = json.load(open(train_data_path))\n",
    "val_data = json.load(open(val_data_path))\n",
    "test_data = json.load(open(test_data_path))"
   ]
  },
  {
   "cell_type": "code",
   "execution_count": 23,
   "id": "0733810c",
   "metadata": {
    "execution": {
     "iopub.execute_input": "2024-05-10T15:23:08.460964Z",
     "iopub.status.busy": "2024-05-10T15:23:08.460637Z",
     "iopub.status.idle": "2024-05-10T15:23:08.465823Z",
     "shell.execute_reply": "2024-05-10T15:23:08.464933Z"
    },
    "papermill": {
     "duration": 0.03427,
     "end_time": "2024-05-10T15:23:08.468161",
     "exception": false,
     "start_time": "2024-05-10T15:23:08.433891",
     "status": "completed"
    },
    "tags": []
   },
   "outputs": [
    {
     "name": "stdout",
     "output_type": "stream",
     "text": [
      "Expression: BOS POSITIVE 17 add NEGATIVE 49 EOS Output: BOS NEGATIVE 32 EOS\n",
      "Expression: BOS POSITIVE 30 add POSITIVE 01 EOS Output: BOS POSITIVE 31 EOS\n",
      "Expression: BOS POSITIVE 21 subtract NEGATIVE 43 EOS Output: BOS POSITIVE 64 EOS\n",
      "Expression: BOS NEGATIVE 22 subtract NEGATIVE 44 EOS Output: BOS POSITIVE 22 EOS\n"
     ]
    }
   ],
   "source": [
    "num_examples = 4\n",
    "for q, a in zip(\n",
    "    train_data[\"inp_expression\"][:num_examples], \n",
    "    train_data[\"out_expression\"][:num_examples]\n",
    "    ):\n",
    "  print(\"Expression: \" + q + \" Output: \" + a)"
   ]
  },
  {
   "cell_type": "markdown",
   "id": "7bedfb21",
   "metadata": {
    "papermill": {
     "duration": 0.025881,
     "end_time": "2024-05-10T15:23:08.520081",
     "exception": false,
     "start_time": "2024-05-10T15:23:08.494200",
     "status": "completed"
    },
    "tags": []
   },
   "source": [
    "## 这些示例代表什么意思：\n",
    "\n",
    "让我们首先看一下这里的第一个和第三个示例，并理解它们代表了什么：\n",
    "\n",
    "- 表达式：`BOS NEGATIVE 30 subtract NEGATIVE 34 EOS` 输出：`BOS POSITIVE 04 EOS`：这里的表达式是 $(-30) - (-34)$。这里符号 `+` 有两个含义：一个是表示数字的符号，另一个是两个整数之间的加法操作。为了简化神经网络的问题，我们用不同的文本标记表示它们。$(-30) - (-34)$ 的输出是 $+4$。这里的 `BOS` 和 `EOS` 分别指示序列的开头和结尾。\n",
    "- 同样，第二个表达式，`BOS NEGATIVE 34 add NEGATIVE 15 EOS` 输出：`BOS NEGATIVE 49 EOS` 意味着我们正在进行计算 $(-34) + (-15)$。与上面类似，这里的符号 `-` 表示两个东西：第一个是整数的符号，第二个是两个整数之间的操作。同样，我们用不同的标记表示，以简化神经网络的问题。这里的输出是 -49。这里的 `BOS` 和 `EOS` 分别指示序列的开头和结尾。\n",
    "\n",
    "现在我们对数据有了一定的了解，让我们开始对数据进行预处理，因为神经网络无法理解字符串，我们需要将它们表示为数字。\n",
    "\n",
    "## 预处理数据\n",
    "我们需要将原始输入序列转换为可以用神经网络处理的格式。\n",
    "具体来说，我们需要将一个人类可读的字符串（例如 `BOS NEGATIVE 30 subtract NEGATIVE 34 EOS`）转换为一系列**标记**，其中每个标记将是一个整数。\n",
    "将输入字符串转换为一系列标记的过程称为**标记化**。\n",
    "\n",
    "在我们可以对任何特定序列进行标记化之前，我们首先需要构建一个**词汇表**；这是一个包含数据集中所有标记的详尽列表，并且从每个标记到一个唯一整数值的映射。\n",
    "在我们的例子中，我们的词汇表将包含16个元素：一个条目表示每个数字 `0` 到 `9`，两个标记用于表示数字的符号（`POSITIVE` 和 `NEGATIVE`），两个标记表示加法和减法运算（`add` 和 `subtract`），最后两个特殊标记表示序列的开头和结尾（`BOS`，`EOS`）。\n",
    "\n",
    "我们通常使用一对数据结构来表示词汇表。\n",
    "第一个是所有字符串标记的列表（下面的 `vocab`），使得 `vocab[i] = s` 意味着字符串 `s` 被分配了整数值 `i`。这使我们能够查找与任何数值索引 `i` 关联的字符串。\n",
    "我们还需要一个数据结构，使我们能够反向映射：给定一个字符串 `s`，找到它分配的索引 `i`。通常，这表示为一个哈希映射（Python中的 `dict` 对象），其键是字符串，其值是分配给这些字符串的索引。\n",
    "您将实现函数 `generate_token_dict`，该函数输入列表 `vocab` 并返回给定此映射的字典 `convert_str_to_token`。\n",
    "\n",
    "一旦您构建了词汇表，然后您可以实现函数 `preprocess_input_sequence`，它使用词汇表数据结构将输入字符串转换为整数标记列表。"
   ]
  },
  {
   "cell_type": "code",
   "execution_count": 24,
   "id": "38b73fc2",
   "metadata": {
    "execution": {
     "iopub.execute_input": "2024-05-10T15:23:08.574245Z",
     "iopub.status.busy": "2024-05-10T15:23:08.573570Z",
     "iopub.status.idle": "2024-05-10T15:23:08.578412Z",
     "shell.execute_reply": "2024-05-10T15:23:08.577538Z"
    },
    "papermill": {
     "duration": 0.034188,
     "end_time": "2024-05-10T15:23:08.580432",
     "exception": false,
     "start_time": "2024-05-10T15:23:08.546244",
     "status": "completed"
    },
    "tags": []
   },
   "outputs": [],
   "source": [
    "SPECIAL_TOKENS = [\"POSITIVE\", \"NEGATIVE\", \"add\", \"subtract\", \"BOS\", \"EOS\"]\n",
    "vocab = [\"0\", \"1\", \"2\", \"3\", \"4\", \"5\", \"6\", \"7\", \"8\", \"9\"] + SPECIAL_TOKENS"
   ]
  },
  {
   "cell_type": "code",
   "execution_count": 25,
   "id": "754ba449",
   "metadata": {
    "execution": {
     "iopub.execute_input": "2024-05-10T15:23:08.634347Z",
     "iopub.status.busy": "2024-05-10T15:23:08.633818Z",
     "iopub.status.idle": "2024-05-10T15:23:08.639002Z",
     "shell.execute_reply": "2024-05-10T15:23:08.638112Z"
    },
    "papermill": {
     "duration": 0.033989,
     "end_time": "2024-05-10T15:23:08.640820",
     "exception": false,
     "start_time": "2024-05-10T15:23:08.606831",
     "status": "completed"
    },
    "tags": []
   },
   "outputs": [],
   "source": [
    "def generate_token_dict(vocab):\n",
    "    \"\"\"\n",
    "    该函数从词汇表中的元素创建一个哈希映射，将其映射到唯一的正整数值。\n",
    "\n",
    "    参数:\n",
    "        - vocab: 这是一个包含词汇表中所有项目的字符串的一维列表\n",
    "\n",
    "    返回值:\n",
    "        - token_dict: 一个Python字典，键是词汇表中的字符串项，值是唯一的整数值\n",
    "    \"\"\"\n",
    "\n",
    "    ##############################################################################                             #\n",
    "    # 使用此函数为词汇表列表中的每个元素分配一个唯一的整数元素。\n",
    "    #  将词汇表中的第一个元素映射为0，将词汇表中的最后一个元素映射为len(vocab)，\n",
    "    #  并将中间的元素映射为连续的数字。\n",
    "    ##############################################################################\n",
    "    token_dict = {}\n",
    "    for idx, item in enumerate(vocab):\n",
    "      token_dict[item] = idx\n",
    "    return token_dict\n"
   ]
  },
  {
   "cell_type": "code",
   "execution_count": 26,
   "id": "f4428390",
   "metadata": {
    "execution": {
     "iopub.execute_input": "2024-05-10T15:23:08.696936Z",
     "iopub.status.busy": "2024-05-10T15:23:08.696042Z",
     "iopub.status.idle": "2024-05-10T15:23:08.702641Z",
     "shell.execute_reply": "2024-05-10T15:23:08.701925Z"
    },
    "papermill": {
     "duration": 0.036285,
     "end_time": "2024-05-10T15:23:08.704501",
     "exception": false,
     "start_time": "2024-05-10T15:23:08.668216",
     "status": "completed"
    },
    "tags": []
   },
   "outputs": [],
   "source": [
    "def prepocess_input_sequence(\n",
    "    input_str: str, token_dict: dict, spc_tokens: list\n",
    ") -> list:\n",
    "    \"\"\"\n",
    "    该函数的目标是将输入字符串转换为一系列正整数，以便我们能够进一步使用神经网络处理该字符串。我们将使用上一个函数中生成的字典将字符串中的元素映射到唯一的值。\n",
    "    请注意，我们为输入序列中的每个整数分配一个值。例如，对于输入序列中存在的数字 \"33\"，您应该将其拆分为数字列表，['0', '3']，并将其分配给token_dict中相应的值。\n",
    "\n",
    "    参数:\n",
    "    - input_str: 输入数据中的单个字符串\n",
    "               例如: \"BOS POSITIVE 0333 add POSITIVE 0696 EOS\"\n",
    "    - token_dict: 令牌字典，其键为字符串中的元素，值为唯一的正整数。这是使用 generate_token_dict 函数生成的\n",
    "    - spc_tokens: 除了数字以外的特殊令牌。\n",
    "    返回值:\n",
    "    - out_tokens: 与输入字符串对应的整数列表\n",
    "\n",
    "    \"\"\"\n",
    "    out = []\n",
    "    ##############################################################################\n",
    "    # 对于输入序列中的每个数字，将其拆分为数字列表，并使用该数字列表从token_dict中分配适当的值。\n",
    "    # 对于输入字符串中存在的特殊令牌，为完整的令牌分配适当的值。\n",
    "    ##############################################################################\n",
    "    for item in input_str.split():\n",
    "      if item in spc_tokens:\n",
    "        out.append(token_dict[item])\n",
    "\n",
    "      else:\n",
    "        for digit in item:\n",
    "          out.append(token_dict[digit])\n",
    "    return out\n"
   ]
  },
  {
   "cell_type": "code",
   "execution_count": 27,
   "id": "9e57fa54",
   "metadata": {
    "execution": {
     "iopub.execute_input": "2024-05-10T15:23:08.757881Z",
     "iopub.status.busy": "2024-05-10T15:23:08.757599Z",
     "iopub.status.idle": "2024-05-10T15:23:08.773913Z",
     "shell.execute_reply": "2024-05-10T15:23:08.772835Z"
    },
    "papermill": {
     "duration": 0.045188,
     "end_time": "2024-05-10T15:23:08.775767",
     "exception": false,
     "start_time": "2024-05-10T15:23:08.730579",
     "status": "completed"
    },
    "tags": []
   },
   "outputs": [
    {
     "name": "stdout",
     "output_type": "stream",
     "text": [
      "preprocess input token error 1:  0.0\n",
      "preprocess input token error 2:  0.0\n",
      "preprocess input token error 3:  0.0\n",
      "preprocess input token error 4:  0.0\n",
      "\n",
      "\n",
      "preprocess output token error 1:  0.0\n",
      "preprocess output token error 2:  0.0\n",
      "preprocess output token error 3:  0.0\n",
      "preprocess output token error 4:  0.0\n"
     ]
    }
   ],
   "source": [
    "convert_str_to_tokens = generate_token_dict(vocab)\n",
    "\n",
    "ex1_in = \"BOS POSITIVE 0333 add POSITIVE 0696 EOS\"\n",
    "ex2_in = \"BOS POSITIVE 0673 add POSITIVE 0675 EOS\"\n",
    "ex3_in = \"BOS NEGATIVE 0286 subtract NEGATIVE 0044 EOS\"\n",
    "ex4_in = \"BOS NEGATIVE 0420 add POSITIVE 0342 EOS\"\n",
    "\n",
    "ex1_out = \"BOS POSITIVE 1029 EOS\"\n",
    "ex2_out = \"BOS POSITIVE 1348 EOS\"\n",
    "ex3_out = \"BOS NEGATIVE 0242 EOS\"\n",
    "ex4_out = \"BOS NEGATIVE 0078 EOS\"\n",
    "\n",
    "ex1_inp_preprocessed = torch.tensor(\n",
    "    prepocess_input_sequence(ex1_in, convert_str_to_tokens, SPECIAL_TOKENS)\n",
    ")\n",
    "ex2_inp_preprocessed = torch.tensor(\n",
    "    prepocess_input_sequence(ex2_in, convert_str_to_tokens, SPECIAL_TOKENS)\n",
    ")\n",
    "ex3_inp_preprocessed = torch.tensor(\n",
    "    prepocess_input_sequence(ex3_in, convert_str_to_tokens, SPECIAL_TOKENS)\n",
    ")\n",
    "ex4_inp_preprocessed = torch.tensor(\n",
    "    prepocess_input_sequence(ex4_in, convert_str_to_tokens, SPECIAL_TOKENS)\n",
    ")\n",
    "\n",
    "ex1_processed_expected = torch.tensor([14, 10, 0, 3, 3, 3, 12, 10, 0, 6, 9, 6, 15])\n",
    "ex2_processed_expected = torch.tensor([14, 10, 0, 6, 7, 3, 12, 10, 0, 6, 7, 5, 15])\n",
    "ex3_processed_expected = torch.tensor([14, 11, 0, 2, 8, 6, 13, 11, 0, 0, 4, 4, 15])\n",
    "ex4_processed_expected = torch.tensor([14, 11, 0, 4, 2, 0, 12, 10, 0, 3, 4, 2, 15])\n",
    "\n",
    "ex1_out = torch.tensor(\n",
    "    prepocess_input_sequence(ex1_out, convert_str_to_tokens, SPECIAL_TOKENS)\n",
    ")\n",
    "ex2_out = torch.tensor(\n",
    "    prepocess_input_sequence(ex2_out, convert_str_to_tokens, SPECIAL_TOKENS)\n",
    ")\n",
    "ex3_out = torch.tensor(\n",
    "    prepocess_input_sequence(ex3_out, convert_str_to_tokens, SPECIAL_TOKENS)\n",
    ")\n",
    "ex4_out = torch.tensor(\n",
    "    prepocess_input_sequence(ex4_out, convert_str_to_tokens, SPECIAL_TOKENS)\n",
    ")\n",
    "\n",
    "ex1_out_expected = torch.tensor([14, 10, 1, 0, 2, 9, 15])\n",
    "ex2_out_expected = torch.tensor([14, 10, 1, 3, 4, 8, 15])\n",
    "ex3_out_expected = torch.tensor([14, 11, 0, 2, 4, 2, 15])\n",
    "ex4_out_expected = torch.tensor([14, 11, 0, 0, 7, 8, 15])\n",
    "\n",
    "print(\n",
    "    \"preprocess input token error 1: \",\n",
    "    rel_error(ex1_processed_expected, ex1_inp_preprocessed),\n",
    ")\n",
    "print(\n",
    "    \"preprocess input token error 2: \",\n",
    "    rel_error(ex2_processed_expected, ex2_inp_preprocessed),\n",
    ")\n",
    "print(\n",
    "    \"preprocess input token error 3: \",\n",
    "    rel_error(ex3_processed_expected, ex3_inp_preprocessed),\n",
    ")\n",
    "print(\n",
    "    \"preprocess input token error 4: \",\n",
    "    rel_error(ex4_processed_expected, ex4_inp_preprocessed),\n",
    ")\n",
    "print(\"\\n\")\n",
    "print(\"preprocess output token error 1: \", rel_error(ex1_out_expected, ex1_out))\n",
    "print(\"preprocess output token error 2: \", rel_error(ex2_out_expected, ex2_out))\n",
    "print(\"preprocess output token error 3: \", rel_error(ex3_out_expected, ex3_out))\n",
    "print(\"preprocess output token error 4: \", rel_error(ex4_out_expected, ex4_out))\n",
    "# 所有error都应该为0"
   ]
  },
  {
   "cell_type": "markdown",
   "id": "3b346ba8",
   "metadata": {
    "id": "579e6f2e-d2f0-4a10-a54f-c65ecdccc587",
    "papermill": {
     "duration": 0.025882,
     "end_time": "2024-05-10T15:23:08.827755",
     "exception": false,
     "start_time": "2024-05-10T15:23:08.801873",
     "status": "completed"
    },
    "tags": []
   },
   "source": [
    "### 构建DataLoader"
   ]
  },
  {
   "cell_type": "markdown",
   "id": "379c7c8e",
   "metadata": {
    "id": "5f2d8dd1",
    "papermill": {
     "duration": 0.026065,
     "end_time": "2024-05-10T15:23:08.879600",
     "exception": false,
     "start_time": "2024-05-10T15:23:08.853535",
     "status": "completed"
    },
    "tags": []
   },
   "source": [
    "现在，我们将使用实现的位置编码来构建一个PyTorch中的数据加载器。数据加载器的作用是为训练/验证返回一个批次。我们首先创建一个Dataset类，该类为我们提供批次中的单个元素，然后使用DataLoader来封装数据集。我们从`torch.utils.data.Dataset`类继承Dataset。这个类包含两个重要的函数，根据你的用例,你会更改这些函数。第一个函数是`__init__`，这包含了*静态*的组件，换句话说，当我们从完整数据中获取下一个元素时，这些变量不会改变。第二个函数是`__getitem__`，它包含最终数据加载器的核心功能。\n",
    "\n",
    "要获取最终的数据加载器，我们将`train_data`和`test_data`包装在`torch.utils.data.DataLoader`类中。\n"
   ]
  },
  {
   "cell_type": "code",
   "execution_count": 28,
   "id": "ab101996",
   "metadata": {
    "execution": {
     "iopub.execute_input": "2024-05-10T15:23:08.933320Z",
     "iopub.status.busy": "2024-05-10T15:23:08.932509Z",
     "iopub.status.idle": "2024-05-10T15:23:08.942294Z",
     "shell.execute_reply": "2024-05-10T15:23:08.941426Z"
    },
    "papermill": {
     "duration": 0.038683,
     "end_time": "2024-05-10T15:23:08.944190",
     "exception": false,
     "start_time": "2024-05-10T15:23:08.905507",
     "status": "completed"
    },
    "tags": []
   },
   "outputs": [],
   "source": [
    "class AddSubDataset(torch.utils.data.Dataset):\n",
    "    def __init__(\n",
    "        self,\n",
    "        input_seqs,\n",
    "        target_seqs,\n",
    "        convert_str_to_tokens,\n",
    "        special_tokens,\n",
    "        emb_dim,\n",
    "        pos_encode,\n",
    "    ):\n",
    "\n",
    "        \"\"\"\n",
    "       该类实现了将用于玩具数据集的数据加载器。\n",
    "\n",
    "        参数:\n",
    "        - `input_seqs`: 输入字符串列表\n",
    "        - `target_seqs`: 输出字符串列表\n",
    "        - `convert_str_to_tokens`: 将输入字符串转换为标记的字典\n",
    "        - `special_tokens`: 特殊字符串列表\n",
    "        - `emb_dim`: Transformer的嵌入维度\n",
    "        - `pos_encode`: 用于计算数据的位置编码的函数\n",
    "        \"\"\"\n",
    "\n",
    "        self.input_seqs = input_seqs\n",
    "        self.target_seqs = target_seqs\n",
    "        self.convert_str_to_tokens = convert_str_to_tokens\n",
    "        self.emb_dim = emb_dim\n",
    "        self.special_tokens = special_tokens\n",
    "        self.pos_encode = pos_encode\n",
    "\n",
    "    def preprocess(self, inp):\n",
    "        return prepocess_input_sequence(\n",
    "            inp, self.convert_str_to_tokens, self.special_tokens\n",
    "        )\n",
    "\n",
    "    def __getitem__(self, idx):\n",
    "        \"\"\"\n",
    "        获取数据中索引为idx的元素的核心函数。\n",
    "        参数：\n",
    "        - `idx`：需要从数据中提取的元素的索引\n",
    "        返回：\n",
    "        - `preprocess_inp`：长度为K的一维张量，其中K是输入序列的长度\n",
    "        - `inp_pos_enc`：形状为(K, M)的张量，其中K是序列长度，M是嵌入维度\n",
    "        - `preprocess_out`：长度为O的一维张量，其中O是输出序列的长度\n",
    "        - `out_pos_enc`：形状为(O, M)的张量，其中O是序列长度，M是嵌入维度\n",
    "        \"\"\"\n",
    "\n",
    "        inp = self.input_seqs[idx]\n",
    "        out = self.target_seqs[idx]\n",
    "        preprocess_inp = torch.tensor(self.preprocess(inp))\n",
    "        preprocess_out = torch.tensor(self.preprocess(out))\n",
    "        inp_pos = len(preprocess_inp)\n",
    "        inp_pos_enc = self.pos_encode(inp_pos, self.emb_dim)\n",
    "        out_pos = len(preprocess_out)\n",
    "        out_pos_enc = self.pos_encode(out_pos, self.emb_dim)\n",
    "\n",
    "        return preprocess_inp, inp_pos_enc[0], preprocess_out, out_pos_enc[0]\n",
    "\n",
    "    def __len__(self):\n",
    "        return len(self.input_seqs)"
   ]
  },
  {
   "cell_type": "code",
   "execution_count": 29,
   "id": "7d01930d",
   "metadata": {
    "execution": {
     "iopub.execute_input": "2024-05-10T15:23:08.997869Z",
     "iopub.status.busy": "2024-05-10T15:23:08.997541Z",
     "iopub.status.idle": "2024-05-10T15:23:09.007370Z",
     "shell.execute_reply": "2024-05-10T15:23:09.006699Z"
    },
    "id": "a673ee9f-c5ae-438c-b696-9662dcb87c52",
    "papermill": {
     "duration": 0.038899,
     "end_time": "2024-05-10T15:23:09.009309",
     "exception": false,
     "start_time": "2024-05-10T15:23:08.970410",
     "status": "completed"
    },
    "tags": []
   },
   "outputs": [],
   "source": [
    "def setup_seed(seed):\n",
    "    torch.manual_seed(seed)\n",
    "    torch.cuda.manual_seed_all(seed)\n",
    "    torch.backends.cudnn.deterministic = True\n",
    "setup_seed(2024)\n",
    "\n",
    "BATCH_SIZE = 16\n",
    "\n",
    "X_train, y_train = train_data[\"inp_expression\"], train_data[\"out_expression\"]\n",
    "X_val, y_val = val_data[\"inp_expression\"], val_data[\"out_expression\"]\n",
    "X_test, y_test = test_data[\"inp_expression\"], test_data[\"out_expression\"]\n",
    "\n",
    "train_data = AddSubDataset(\n",
    "    X_train,\n",
    "    y_train,\n",
    "    convert_str_to_tokens,\n",
    "    SPECIAL_TOKENS,\n",
    "    32,\n",
    "    position_encoding_sinusoid\n",
    "    \n",
    ")\n",
    "valid_data = AddSubDataset(\n",
    "    X_val, y_val, convert_str_to_tokens, SPECIAL_TOKENS, 32, position_encoding_sinusoid\n",
    ")\n",
    "test_data = valid_data = AddSubDataset(\n",
    "    X_test, y_test, convert_str_to_tokens, SPECIAL_TOKENS, 32, position_encoding_sinusoid\n",
    ")\n",
    "\n",
    "\n",
    "train_loader = torch.utils.data.DataLoader(\n",
    "    train_data, batch_size=BATCH_SIZE, shuffle=False, drop_last=True\n",
    ")\n",
    "valid_loader = torch.utils.data.DataLoader(\n",
    "    valid_data, batch_size=BATCH_SIZE, shuffle=False, drop_last=True\n",
    ")\n",
    "test_loader = torch.utils.data.DataLoader(\n",
    "    test_data, batch_size=BATCH_SIZE, shuffle=False, drop_last=True\n",
    ")"
   ]
  },
  {
   "cell_type": "code",
   "execution_count": 30,
   "id": "f9c4afbf",
   "metadata": {
    "execution": {
     "iopub.execute_input": "2024-05-10T15:23:09.064089Z",
     "iopub.status.busy": "2024-05-10T15:23:09.063779Z",
     "iopub.status.idle": "2024-05-10T15:23:10.022385Z",
     "shell.execute_reply": "2024-05-10T15:23:10.021615Z"
    },
    "papermill": {
     "duration": 0.987966,
     "end_time": "2024-05-10T15:23:10.024758",
     "exception": false,
     "start_time": "2024-05-10T15:23:09.036792",
     "status": "completed"
    },
    "tags": []
   },
   "outputs": [],
   "source": [
    "import torch.optim as optim\n",
    "\n",
    "inp_seq_len = 9\n",
    "out_seq_len = 5\n",
    "num_heads = 4\n",
    "emb_dim = 32\n",
    "dim_feedforward = 64\n",
    "dropout = 0.2\n",
    "num_enc_layers = 4\n",
    "num_dec_layers = 4\n",
    "vocab_len = len(vocab)\n",
    "\n",
    "model = Transformer(\n",
    "    num_heads,\n",
    "    emb_dim,\n",
    "    dim_feedforward,\n",
    "    dropout,\n",
    "    num_enc_layers,\n",
    "    num_dec_layers,\n",
    "    vocab_len,\n",
    ")\n",
    "for it in test_loader:\n",
    "  it\n",
    "  break\n",
    "inp, inp_pos, out, out_pos = it\n",
    "device = DEVICE\n",
    "model = model.to(device)\n",
    "inp_pos = inp_pos.to(device)\n",
    "out_pos = out_pos.to(device)\n",
    "out = out.to(device)\n",
    "inp = inp.to(device)\n",
    "\n",
    "# 验证模型的输出维度是否与数据一致\n",
    "model_out = model(inp.long(), inp_pos, out.long(), out_pos)\n",
    "assert model_out.size(0) == BATCH_SIZE * (out_seq_len - 1)\n",
    "assert model_out.size(1) == vocab_len"
   ]
  },
  {
   "cell_type": "markdown",
   "id": "13e8ddd2",
   "metadata": {
    "id": "17ac4856-63fd-4693-87b2-ae616f438202",
    "papermill": {
     "duration": 0.025901,
     "end_time": "2024-05-10T15:23:10.077667",
     "exception": false,
     "start_time": "2024-05-10T15:23:10.051766",
     "status": "completed"
    },
    "tags": []
   },
   "source": [
    "# 第四部分:在AddSub数据集上训练Transformer"
   ]
  },
  {
   "cell_type": "markdown",
   "id": "4fc6f471",
   "metadata": {
    "id": "62a4b8da",
    "papermill": {
     "duration": 0.025898,
     "end_time": "2024-05-10T15:23:10.129414",
     "exception": false,
     "start_time": "2024-05-10T15:23:10.103516",
     "status": "completed"
    },
    "tags": []
   },
   "source": [
    "现在我们已经实现了Transformer模型，我们将进行模型的训练。\n",
    "- 通常，Transformer的训练制度会以预热开始，换句话说，我们会使用较低的学习率对模型进行一些迭代训练，然后增加学习率，以使网络更快地学习。直觉上讲，这有助于在损失函数中获得一个稳定的流形，然后我们增加学习率以在这个稳定的流形中更快地学习。从某种意义上讲，我们在预热网络以进入稳定流形，并在此预热后以更高的学习率开始训练。对于过拟合，我们没有使用这种预热，因为对于如此小的数据，可以直接使用较高的学习率，但在使用完整数据进行训练时，您应该记住这一点。我们从a5_helper.py中使用了两个函数，`train`和`val`。在这里，`train`有三个参数需要注意：\n",
    "  - `warmup_interval`：指定网络应该使用较低学习率进行训练的迭代次数。换句话说，它是在网络将使用较高学习率的迭代次数之后的迭代次数。\n",
    "  - `warmup_lr`：这是在预热期间将使用的学习率。\n",
    "  - `lr`：这是在预热后将使用的学习率。如果warmup_interval为None，则我们将以此学习率开始训练。\n",
    "\n",
    "- 运行以下单元格来使用完整数据拟合模型。请记住，在这里你可以尝试各种实验，包括损失函数、位置编码、预热程序和学习率。"
   ]
  },
  {
   "cell_type": "code",
   "execution_count": 31,
   "id": "ba9be2a1",
   "metadata": {
    "execution": {
     "iopub.execute_input": "2024-05-10T15:23:10.184946Z",
     "iopub.status.busy": "2024-05-10T15:23:10.184585Z",
     "iopub.status.idle": "2024-05-10T15:23:10.191868Z",
     "shell.execute_reply": "2024-05-10T15:23:10.191028Z"
    },
    "papermill": {
     "duration": 0.03754,
     "end_time": "2024-05-10T15:23:10.193834",
     "exception": false,
     "start_time": "2024-05-10T15:23:10.156294",
     "status": "completed"
    },
    "tags": []
   },
   "outputs": [],
   "source": [
    "def LabelSmoothingLoss(pred, ground):\n",
    "    \"\"\"\n",
    "    参数：\n",
    "        pred：预测张量，形状为（N*O，V），其中N是批量大小，O\n",
    "            是目标序列长度，V是词汇表的大小\n",
    "        ground：地面真实张量，形状为（N，O），其中N是批量大小，O\n",
    "            是目标序列\n",
    "    \"\"\"\n",
    "    ground = ground.contiguous().view(-1)\n",
    "    eps = 0.1\n",
    "    n_class = pred.size(1)\n",
    "    one_hot = torch.nn.functional.one_hot(ground).to(pred.dtype)\n",
    "    one_hot = one_hot * (1 - eps) + (1 - one_hot) * eps / (n_class - 1)\n",
    "    log_prb = F.log_softmax(pred, dim=1)\n",
    "    loss = -(one_hot * log_prb).sum(dim=1)\n",
    "    loss = loss.sum()\n",
    "    return loss\n",
    "\n",
    "\n",
    "def CrossEntropyLoss(pred, ground):\n",
    "    \"\"\"\n",
    "    参数：\n",
    "        pred：预测张量，形状为（N*O，V），其中N是批量大小，O\n",
    "            是目标序列长度，V是词汇表的大小\n",
    "        ground：地面真实张量，形状为（N，O），其中N是批量大小，O\n",
    "            是目标序列\n",
    "    \"\"\"\n",
    "    loss = F.cross_entropy(pred, ground, reduction=\"sum\")\n",
    "    return loss\n"
   ]
  },
  {
   "cell_type": "code",
   "execution_count": 32,
   "id": "a1140026",
   "metadata": {
    "execution": {
     "iopub.execute_input": "2024-05-10T15:23:10.247692Z",
     "iopub.status.busy": "2024-05-10T15:23:10.247359Z",
     "iopub.status.idle": "2024-05-10T15:23:10.434851Z",
     "shell.execute_reply": "2024-05-10T15:23:10.433837Z"
    },
    "papermill": {
     "duration": 0.216949,
     "end_time": "2024-05-10T15:23:10.437197",
     "exception": false,
     "start_time": "2024-05-10T15:23:10.220248",
     "status": "completed"
    },
    "tags": []
   },
   "outputs": [],
   "source": [
    "inp_seq_len = 9\n",
    "out_seq_len = 5\n",
    "BATCH_SIZE = 256\n",
    "\n",
    "#You should change these!\n",
    "\n",
    "num_heads = 16\n",
    "emb_dim = 64\n",
    "dim_feedforward = 64\n",
    "dropout = 0.1\n",
    "num_enc_layers = 4\n",
    "num_dec_layers = 4\n",
    "vocab_len = len(vocab)\n",
    "loss_func = CrossEntropyLoss\n",
    "poss_enc = position_encoding_sinusoid\n",
    "num_epochs = 600\n",
    "warmup_interval = None\n",
    "lr = 1e-3\n",
    "\n",
    "model = Transformer(\n",
    "    num_heads,\n",
    "    emb_dim,\n",
    "    dim_feedforward,\n",
    "    dropout,\n",
    "    num_enc_layers,\n",
    "    num_dec_layers,\n",
    "    vocab_len,\n",
    ")\n",
    "\n",
    "\n",
    "train_data = AddSubDataset(\n",
    "    X_train,\n",
    "    y_train,\n",
    "    convert_str_to_tokens,\n",
    "    SPECIAL_TOKENS,\n",
    "    emb_dim,\n",
    "    position_encoding_sinusoid,\n",
    ")\n",
    "valid_data = AddSubDataset(\n",
    "    X_val,\n",
    "    y_val,\n",
    "    convert_str_to_tokens,\n",
    "    SPECIAL_TOKENS,\n",
    "    emb_dim,\n",
    "    position_encoding_sinusoid,\n",
    ")\n",
    "test_data = AddSubDataset(\n",
    "    X_test,\n",
    "    y_test,\n",
    "    convert_str_to_tokens,\n",
    "    SPECIAL_TOKENS,\n",
    "    emb_dim,\n",
    "    position_encoding_sinusoid,\n",
    ")\n",
    "\n",
    "train_loader = torch.utils.data.DataLoader(\n",
    "    train_data, batch_size=BATCH_SIZE, shuffle=False, drop_last=True\n",
    ")\n",
    "valid_loader = torch.utils.data.DataLoader(\n",
    "    valid_data, batch_size=BATCH_SIZE, shuffle=False, drop_last=True\n",
    ")\n",
    "test_loader = torch.utils.data.DataLoader(\n",
    "    test_data, batch_size=BATCH_SIZE, shuffle=False, drop_last=True\n",
    ")\n",
    "\n"
   ]
  },
  {
   "cell_type": "code",
   "execution_count": 33,
   "id": "21c28e5c",
   "metadata": {
    "execution": {
     "iopub.execute_input": "2024-05-10T15:23:10.491345Z",
     "iopub.status.busy": "2024-05-10T15:23:10.491060Z",
     "iopub.status.idle": "2024-05-10T15:23:10.509633Z",
     "shell.execute_reply": "2024-05-10T15:23:10.508912Z"
    },
    "papermill": {
     "duration": 0.047462,
     "end_time": "2024-05-10T15:23:10.511415",
     "exception": false,
     "start_time": "2024-05-10T15:23:10.463953",
     "status": "completed"
    },
    "tags": []
   },
   "outputs": [],
   "source": [
    "def train(\n",
    "    model,\n",
    "    train_dataloader,\n",
    "    val_dataloader,\n",
    "    loss_func,\n",
    "    num_epochs,\n",
    "    batch_size=32,\n",
    "    warmup_lr=6e-6,\n",
    "    warmup_interval=1000,\n",
    "    lr=6e-4,\n",
    "    device=torch.device(\"cpu\"),\n",
    "):\n",
    "    print(\"Training started...\")\n",
    "    if warmup_interval is None:\n",
    "        optimizer = torch.optim.Adam(\n",
    "            model.parameters(), lr=lr, betas=(0.9, 0.995), eps=1e-9\n",
    "        )\n",
    "    else:\n",
    "        optimizer = torch.optim.Adam(\n",
    "            model.parameters(), lr=warmup_lr, betas=(0.9, 0.995), eps=1e-9\n",
    "        )\n",
    "    iteration = 0\n",
    "    for epoch_num in range(num_epochs):\n",
    "        epoch_loss = []\n",
    "        epoch_correct = 0\n",
    "        epoch_total = 0\n",
    "        model.train()\n",
    "        for it in train_dataloader:\n",
    "            inp, inp_pos, out, out_pos = it\n",
    "            model = model.to(device)\n",
    "            inp_pos = inp_pos.to(device)\n",
    "            out_pos = out_pos.to(device)\n",
    "            out = out.to(device)\n",
    "            inp = inp.to(device)\n",
    "            gnd = out[:, 1:].contiguous().view(-1).long()\n",
    "            optimizer.zero_grad()\n",
    "\n",
    "            pred = model(inp.long(), inp_pos, out.long(), out_pos)\n",
    "            # TRAIN ACC\n",
    "            pred_max = pred.max(1)[1]\n",
    "            gnd = gnd.contiguous().view(-1)\n",
    "            n_correct = pred_max.eq(gnd).sum().item()\n",
    "            epoch_correct += n_correct\n",
    "            epoch_total += len(pred_max)\n",
    "            loss = loss_func(pred, gnd)\n",
    "            epoch_loss.append(loss.item())\n",
    "            if warmup_interval is not None and iteration == warmup_interval:\n",
    "                print(\n",
    "                    f\"End of warmup. Swapping learning rates from {warmup_lr} to {lr}\"\n",
    "                )\n",
    "                for param_group in optimizer.param_groups:\n",
    "                    warmup_lr = lr\n",
    "                    param_group[\"lr\"] = lr\n",
    "\n",
    "            loss.backward()\n",
    "            optimizer.step()\n",
    "            iteration = iteration + 1\n",
    "\n",
    "        train_acc = epoch_correct / epoch_total\n",
    "        avg_epoch_loss = sum(epoch_loss) / len(epoch_loss)\n",
    "        val_loss, val_acc = val(model, val_dataloader, loss_func, batch_size)\n",
    "        loss_hist = avg_epoch_loss / (batch_size * 4)\n",
    "        print(\n",
    "            f\"[epoch: {epoch_num+1}]\",\n",
    "            \"[loss: \",\n",
    "            f\"{loss_hist:.4f}\",\n",
    "            \"]\",\n",
    "            \"[train_acc: \",\n",
    "            f\"{train_acc:.4f}\",\n",
    "            \"]\",\n",
    "            \"[val_acc: \",\n",
    "            f\"{val_acc:.4f}\",\n",
    "            \"]\",\n",
    "            \"val_loss: [val_loss \",\n",
    "            f\"{val_loss:.4f}\",\n",
    "            \"]\",\n",
    "        )\n",
    "\n",
    "    return model\n",
    "\n",
    "\n",
    "def val(model, dataloader, loss_func, batch_size, device=torch.device(\"cpu\")):\n",
    "    model.eval()\n",
    "    with torch.no_grad():\n",
    "        epoch_loss = []\n",
    "        num_correct = 0\n",
    "        total = 0\n",
    "        for it in dataloader:\n",
    "            inp, inp_pos, out, out_pos = it\n",
    "\n",
    "            model = model.to(device)\n",
    "            inp_pos = inp_pos.to(device)\n",
    "            out_pos = out_pos.to(device)\n",
    "            out = out.to(device)\n",
    "            inp = inp.to(device)\n",
    "            gnd = out[:, 1:].contiguous().view(-1).long()\n",
    "            pred = model(inp.long(), inp_pos, out.long(), out_pos)\n",
    "            loss = loss_func(pred, gnd)\n",
    "\n",
    "            pred_max = pred.max(1)[1]\n",
    "            gnd = gnd.contiguous().view(-1)\n",
    "\n",
    "            n_correct = pred_max.eq(gnd)\n",
    "            n_correct = n_correct.sum().item()\n",
    "            num_correct = num_correct + n_correct\n",
    "\n",
    "            total = total + len(pred_max)\n",
    "            epoch_loss.append(loss.item())\n",
    "\n",
    "        avg_epoch_loss = sum(epoch_loss) / len(epoch_loss)\n",
    "    return avg_epoch_loss / (batch_size * 4), n_correct / total"
   ]
  },
  {
   "cell_type": "code",
   "execution_count": 34,
   "id": "009e41b1",
   "metadata": {
    "execution": {
     "iopub.execute_input": "2024-05-10T15:23:10.565022Z",
     "iopub.status.busy": "2024-05-10T15:23:10.564703Z",
     "iopub.status.idle": "2024-05-10T16:16:09.339616Z",
     "shell.execute_reply": "2024-05-10T16:16:09.338673Z"
    },
    "papermill": {
     "duration": 3178.877351,
     "end_time": "2024-05-10T16:16:09.414811",
     "exception": false,
     "start_time": "2024-05-10T15:23:10.537460",
     "status": "completed"
    },
    "tags": []
   },
   "outputs": [
    {
     "name": "stdout",
     "output_type": "stream",
     "text": [
      "Training started...\n",
      "[epoch: 1] [loss:  2.6747 ] [train_acc:  0.1904 ] [val_acc:  0.2500 ] val_loss: [val_loss  2.3549 ]\n",
      "[epoch: 2] [loss:  2.4454 ] [train_acc:  0.2231 ] [val_acc:  0.2500 ] val_loss: [val_loss  2.3042 ]\n",
      "[epoch: 3] [loss:  2.2188 ] [train_acc:  0.3384 ] [val_acc:  0.4385 ] val_loss: [val_loss  1.8179 ]\n",
      "[epoch: 4] [loss:  1.8351 ] [train_acc:  0.4238 ] [val_acc:  0.4766 ] val_loss: [val_loss  1.5098 ]\n",
      "[epoch: 5] [loss:  1.4781 ] [train_acc:  0.4872 ] [val_acc:  0.5146 ] val_loss: [val_loss  1.2641 ]\n",
      "[epoch: 6] [loss:  1.3190 ] [train_acc:  0.5062 ] [val_acc:  0.5322 ] val_loss: [val_loss  1.2125 ]\n",
      "[epoch: 7] [loss:  1.2634 ] [train_acc:  0.5249 ] [val_acc:  0.5586 ] val_loss: [val_loss  1.1691 ]\n",
      "[epoch: 8] [loss:  1.2171 ] [train_acc:  0.5419 ] [val_acc:  0.5752 ] val_loss: [val_loss  1.1267 ]\n",
      "[epoch: 9] [loss:  1.1763 ] [train_acc:  0.5660 ] [val_acc:  0.6113 ] val_loss: [val_loss  1.0979 ]\n",
      "[epoch: 10] [loss:  1.1517 ] [train_acc:  0.5727 ] [val_acc:  0.6123 ] val_loss: [val_loss  1.0769 ]\n",
      "[epoch: 11] [loss:  1.1352 ] [train_acc:  0.5786 ] [val_acc:  0.6260 ] val_loss: [val_loss  1.0569 ]\n",
      "[epoch: 12] [loss:  1.1049 ] [train_acc:  0.5909 ] [val_acc:  0.6221 ] val_loss: [val_loss  1.0249 ]\n",
      "[epoch: 13] [loss:  1.0765 ] [train_acc:  0.5939 ] [val_acc:  0.6377 ] val_loss: [val_loss  1.0007 ]\n",
      "[epoch: 14] [loss:  1.0543 ] [train_acc:  0.5961 ] [val_acc:  0.6357 ] val_loss: [val_loss  0.9726 ]\n",
      "[epoch: 15] [loss:  1.0322 ] [train_acc:  0.6029 ] [val_acc:  0.6240 ] val_loss: [val_loss  0.9582 ]\n",
      "[epoch: 16] [loss:  1.0078 ] [train_acc:  0.6077 ] [val_acc:  0.6475 ] val_loss: [val_loss  0.9308 ]\n",
      "[epoch: 17] [loss:  0.9812 ] [train_acc:  0.6217 ] [val_acc:  0.6631 ] val_loss: [val_loss  0.9066 ]\n",
      "[epoch: 18] [loss:  0.9569 ] [train_acc:  0.6257 ] [val_acc:  0.6582 ] val_loss: [val_loss  0.8845 ]\n",
      "[epoch: 19] [loss:  0.9278 ] [train_acc:  0.6344 ] [val_acc:  0.6709 ] val_loss: [val_loss  0.8599 ]\n",
      "[epoch: 20] [loss:  0.9149 ] [train_acc:  0.6395 ] [val_acc:  0.6484 ] val_loss: [val_loss  0.8782 ]\n",
      "[epoch: 21] [loss:  0.9038 ] [train_acc:  0.6421 ] [val_acc:  0.6855 ] val_loss: [val_loss  0.8238 ]\n",
      "[epoch: 22] [loss:  0.8848 ] [train_acc:  0.6508 ] [val_acc:  0.6758 ] val_loss: [val_loss  0.8487 ]\n",
      "[epoch: 23] [loss:  0.8621 ] [train_acc:  0.6587 ] [val_acc:  0.6836 ] val_loss: [val_loss  0.7986 ]\n",
      "[epoch: 24] [loss:  0.8527 ] [train_acc:  0.6611 ] [val_acc:  0.6631 ] val_loss: [val_loss  0.8219 ]\n",
      "[epoch: 25] [loss:  0.8509 ] [train_acc:  0.6580 ] [val_acc:  0.6729 ] val_loss: [val_loss  0.7949 ]\n",
      "[epoch: 26] [loss:  0.8387 ] [train_acc:  0.6653 ] [val_acc:  0.6738 ] val_loss: [val_loss  0.8059 ]\n",
      "[epoch: 27] [loss:  0.8416 ] [train_acc:  0.6685 ] [val_acc:  0.6846 ] val_loss: [val_loss  0.7800 ]\n",
      "[epoch: 28] [loss:  0.8292 ] [train_acc:  0.6719 ] [val_acc:  0.6973 ] val_loss: [val_loss  0.7628 ]\n",
      "[epoch: 29] [loss:  0.8126 ] [train_acc:  0.6808 ] [val_acc:  0.6797 ] val_loss: [val_loss  0.7842 ]\n",
      "[epoch: 30] [loss:  0.7996 ] [train_acc:  0.6861 ] [val_acc:  0.6973 ] val_loss: [val_loss  0.7532 ]\n",
      "[epoch: 31] [loss:  0.7988 ] [train_acc:  0.6855 ] [val_acc:  0.6982 ] val_loss: [val_loss  0.7371 ]\n",
      "[epoch: 32] [loss:  0.8033 ] [train_acc:  0.6813 ] [val_acc:  0.7080 ] val_loss: [val_loss  0.7460 ]\n",
      "[epoch: 33] [loss:  0.7964 ] [train_acc:  0.6854 ] [val_acc:  0.7012 ] val_loss: [val_loss  0.7529 ]\n",
      "[epoch: 34] [loss:  0.7855 ] [train_acc:  0.6908 ] [val_acc:  0.6943 ] val_loss: [val_loss  0.7669 ]\n",
      "[epoch: 35] [loss:  0.7865 ] [train_acc:  0.6878 ] [val_acc:  0.6777 ] val_loss: [val_loss  0.7905 ]\n",
      "[epoch: 36] [loss:  0.7801 ] [train_acc:  0.6922 ] [val_acc:  0.6904 ] val_loss: [val_loss  0.7806 ]\n",
      "[epoch: 37] [loss:  0.7711 ] [train_acc:  0.6977 ] [val_acc:  0.6895 ] val_loss: [val_loss  0.7777 ]\n",
      "[epoch: 38] [loss:  0.7626 ] [train_acc:  0.7031 ] [val_acc:  0.6914 ] val_loss: [val_loss  0.7540 ]\n",
      "[epoch: 39] [loss:  0.7575 ] [train_acc:  0.7036 ] [val_acc:  0.6934 ] val_loss: [val_loss  0.7554 ]\n",
      "[epoch: 40] [loss:  0.7536 ] [train_acc:  0.7064 ] [val_acc:  0.7070 ] val_loss: [val_loss  0.7328 ]\n",
      "[epoch: 41] [loss:  0.7464 ] [train_acc:  0.7091 ] [val_acc:  0.7148 ] val_loss: [val_loss  0.7234 ]\n",
      "[epoch: 42] [loss:  0.7439 ] [train_acc:  0.7087 ] [val_acc:  0.7080 ] val_loss: [val_loss  0.7417 ]\n",
      "[epoch: 43] [loss:  0.7350 ] [train_acc:  0.7139 ] [val_acc:  0.7285 ] val_loss: [val_loss  0.7090 ]\n",
      "[epoch: 44] [loss:  0.7383 ] [train_acc:  0.7098 ] [val_acc:  0.7129 ] val_loss: [val_loss  0.7337 ]\n",
      "[epoch: 45] [loss:  0.7355 ] [train_acc:  0.7114 ] [val_acc:  0.7109 ] val_loss: [val_loss  0.7296 ]\n",
      "[epoch: 46] [loss:  0.7314 ] [train_acc:  0.7152 ] [val_acc:  0.7100 ] val_loss: [val_loss  0.7254 ]\n",
      "[epoch: 47] [loss:  0.7277 ] [train_acc:  0.7196 ] [val_acc:  0.7188 ] val_loss: [val_loss  0.7170 ]\n",
      "[epoch: 48] [loss:  0.7232 ] [train_acc:  0.7197 ] [val_acc:  0.7129 ] val_loss: [val_loss  0.7200 ]\n",
      "[epoch: 49] [loss:  0.7220 ] [train_acc:  0.7165 ] [val_acc:  0.7178 ] val_loss: [val_loss  0.7199 ]\n",
      "[epoch: 50] [loss:  0.7152 ] [train_acc:  0.7227 ] [val_acc:  0.7344 ] val_loss: [val_loss  0.6960 ]\n",
      "[epoch: 51] [loss:  0.7108 ] [train_acc:  0.7242 ] [val_acc:  0.7119 ] val_loss: [val_loss  0.7246 ]\n",
      "[epoch: 52] [loss:  0.7160 ] [train_acc:  0.7180 ] [val_acc:  0.7285 ] val_loss: [val_loss  0.6905 ]\n",
      "[epoch: 53] [loss:  0.7098 ] [train_acc:  0.7224 ] [val_acc:  0.7246 ] val_loss: [val_loss  0.7106 ]\n",
      "[epoch: 54] [loss:  0.7049 ] [train_acc:  0.7281 ] [val_acc:  0.7295 ] val_loss: [val_loss  0.6911 ]\n",
      "[epoch: 55] [loss:  0.7030 ] [train_acc:  0.7260 ] [val_acc:  0.7422 ] val_loss: [val_loss  0.6766 ]\n",
      "[epoch: 56] [loss:  0.7020 ] [train_acc:  0.7277 ] [val_acc:  0.7305 ] val_loss: [val_loss  0.6873 ]\n",
      "[epoch: 57] [loss:  0.6941 ] [train_acc:  0.7325 ] [val_acc:  0.7363 ] val_loss: [val_loss  0.6903 ]\n",
      "[epoch: 58] [loss:  0.7054 ] [train_acc:  0.7259 ] [val_acc:  0.7402 ] val_loss: [val_loss  0.6689 ]\n",
      "[epoch: 59] [loss:  0.7004 ] [train_acc:  0.7303 ] [val_acc:  0.7285 ] val_loss: [val_loss  0.6829 ]\n",
      "[epoch: 60] [loss:  0.7091 ] [train_acc:  0.7268 ] [val_acc:  0.7314 ] val_loss: [val_loss  0.6835 ]\n",
      "[epoch: 61] [loss:  0.6991 ] [train_acc:  0.7273 ] [val_acc:  0.7383 ] val_loss: [val_loss  0.6719 ]\n",
      "[epoch: 62] [loss:  0.6925 ] [train_acc:  0.7302 ] [val_acc:  0.7207 ] val_loss: [val_loss  0.6833 ]\n",
      "[epoch: 63] [loss:  0.6870 ] [train_acc:  0.7342 ] [val_acc:  0.7168 ] val_loss: [val_loss  0.7078 ]\n",
      "[epoch: 64] [loss:  0.6917 ] [train_acc:  0.7339 ] [val_acc:  0.7354 ] val_loss: [val_loss  0.6815 ]\n",
      "[epoch: 65] [loss:  0.6827 ] [train_acc:  0.7355 ] [val_acc:  0.7256 ] val_loss: [val_loss  0.6906 ]\n",
      "[epoch: 66] [loss:  0.6856 ] [train_acc:  0.7363 ] [val_acc:  0.7266 ] val_loss: [val_loss  0.6868 ]\n",
      "[epoch: 67] [loss:  0.6877 ] [train_acc:  0.7326 ] [val_acc:  0.7305 ] val_loss: [val_loss  0.6727 ]\n",
      "[epoch: 68] [loss:  0.6758 ] [train_acc:  0.7384 ] [val_acc:  0.7334 ] val_loss: [val_loss  0.6744 ]\n",
      "[epoch: 69] [loss:  0.6775 ] [train_acc:  0.7391 ] [val_acc:  0.7285 ] val_loss: [val_loss  0.6943 ]\n",
      "[epoch: 70] [loss:  0.6807 ] [train_acc:  0.7400 ] [val_acc:  0.7305 ] val_loss: [val_loss  0.6925 ]\n",
      "[epoch: 71] [loss:  0.6796 ] [train_acc:  0.7379 ] [val_acc:  0.7158 ] val_loss: [val_loss  0.7143 ]\n",
      "[epoch: 72] [loss:  0.6828 ] [train_acc:  0.7361 ] [val_acc:  0.7324 ] val_loss: [val_loss  0.6863 ]\n",
      "[epoch: 73] [loss:  0.6806 ] [train_acc:  0.7371 ] [val_acc:  0.7305 ] val_loss: [val_loss  0.6863 ]\n",
      "[epoch: 74] [loss:  0.6761 ] [train_acc:  0.7389 ] [val_acc:  0.7236 ] val_loss: [val_loss  0.6823 ]\n",
      "[epoch: 75] [loss:  0.6743 ] [train_acc:  0.7400 ] [val_acc:  0.7236 ] val_loss: [val_loss  0.7205 ]\n",
      "[epoch: 76] [loss:  0.6869 ] [train_acc:  0.7347 ] [val_acc:  0.7031 ] val_loss: [val_loss  0.7555 ]\n",
      "[epoch: 77] [loss:  0.6955 ] [train_acc:  0.7312 ] [val_acc:  0.7197 ] val_loss: [val_loss  0.7076 ]\n",
      "[epoch: 78] [loss:  0.6875 ] [train_acc:  0.7336 ] [val_acc:  0.7422 ] val_loss: [val_loss  0.6646 ]\n",
      "[epoch: 79] [loss:  0.6809 ] [train_acc:  0.7367 ] [val_acc:  0.7490 ] val_loss: [val_loss  0.6441 ]\n",
      "[epoch: 80] [loss:  0.6691 ] [train_acc:  0.7428 ] [val_acc:  0.7480 ] val_loss: [val_loss  0.6458 ]\n",
      "[epoch: 81] [loss:  0.6621 ] [train_acc:  0.7455 ] [val_acc:  0.7539 ] val_loss: [val_loss  0.6432 ]\n",
      "[epoch: 82] [loss:  0.6619 ] [train_acc:  0.7463 ] [val_acc:  0.7510 ] val_loss: [val_loss  0.6560 ]\n",
      "[epoch: 83] [loss:  0.6635 ] [train_acc:  0.7452 ] [val_acc:  0.7461 ] val_loss: [val_loss  0.6476 ]\n",
      "[epoch: 84] [loss:  0.6693 ] [train_acc:  0.7423 ] [val_acc:  0.7510 ] val_loss: [val_loss  0.6498 ]\n",
      "[epoch: 85] [loss:  0.6624 ] [train_acc:  0.7471 ] [val_acc:  0.7354 ] val_loss: [val_loss  0.6682 ]\n",
      "[epoch: 86] [loss:  0.6630 ] [train_acc:  0.7456 ] [val_acc:  0.7500 ] val_loss: [val_loss  0.6485 ]\n",
      "[epoch: 87] [loss:  0.6577 ] [train_acc:  0.7477 ] [val_acc:  0.7529 ] val_loss: [val_loss  0.6452 ]\n",
      "[epoch: 88] [loss:  0.6547 ] [train_acc:  0.7480 ] [val_acc:  0.7461 ] val_loss: [val_loss  0.6550 ]\n",
      "[epoch: 89] [loss:  0.6679 ] [train_acc:  0.7440 ] [val_acc:  0.7393 ] val_loss: [val_loss  0.6698 ]\n",
      "[epoch: 90] [loss:  0.6895 ] [train_acc:  0.7326 ] [val_acc:  0.7451 ] val_loss: [val_loss  0.6587 ]\n",
      "[epoch: 91] [loss:  0.6892 ] [train_acc:  0.7315 ] [val_acc:  0.7012 ] val_loss: [val_loss  0.7639 ]\n",
      "[epoch: 92] [loss:  0.6866 ] [train_acc:  0.7336 ] [val_acc:  0.7461 ] val_loss: [val_loss  0.6518 ]\n",
      "[epoch: 93] [loss:  0.6495 ] [train_acc:  0.7535 ] [val_acc:  0.7520 ] val_loss: [val_loss  0.6245 ]\n",
      "[epoch: 94] [loss:  0.6448 ] [train_acc:  0.7561 ] [val_acc:  0.7480 ] val_loss: [val_loss  0.6433 ]\n",
      "[epoch: 95] [loss:  0.6473 ] [train_acc:  0.7520 ] [val_acc:  0.7529 ] val_loss: [val_loss  0.6462 ]\n",
      "[epoch: 96] [loss:  0.6432 ] [train_acc:  0.7527 ] [val_acc:  0.7637 ] val_loss: [val_loss  0.6116 ]\n",
      "[epoch: 97] [loss:  0.6406 ] [train_acc:  0.7555 ] [val_acc:  0.7549 ] val_loss: [val_loss  0.6347 ]\n",
      "[epoch: 98] [loss:  0.6404 ] [train_acc:  0.7542 ] [val_acc:  0.7422 ] val_loss: [val_loss  0.6705 ]\n",
      "[epoch: 99] [loss:  0.6478 ] [train_acc:  0.7532 ] [val_acc:  0.7432 ] val_loss: [val_loss  0.6469 ]\n",
      "[epoch: 100] [loss:  0.6391 ] [train_acc:  0.7551 ] [val_acc:  0.7490 ] val_loss: [val_loss  0.6382 ]\n",
      "[epoch: 101] [loss:  0.6314 ] [train_acc:  0.7574 ] [val_acc:  0.7471 ] val_loss: [val_loss  0.6226 ]\n",
      "[epoch: 102] [loss:  0.6400 ] [train_acc:  0.7538 ] [val_acc:  0.7559 ] val_loss: [val_loss  0.6225 ]\n",
      "[epoch: 103] [loss:  0.6318 ] [train_acc:  0.7585 ] [val_acc:  0.7402 ] val_loss: [val_loss  0.6634 ]\n",
      "[epoch: 104] [loss:  0.6383 ] [train_acc:  0.7521 ] [val_acc:  0.7607 ] val_loss: [val_loss  0.6103 ]\n",
      "[epoch: 105] [loss:  0.6330 ] [train_acc:  0.7570 ] [val_acc:  0.7549 ] val_loss: [val_loss  0.6338 ]\n",
      "[epoch: 106] [loss:  0.6319 ] [train_acc:  0.7560 ] [val_acc:  0.7432 ] val_loss: [val_loss  0.6507 ]\n",
      "[epoch: 107] [loss:  0.6349 ] [train_acc:  0.7553 ] [val_acc:  0.7373 ] val_loss: [val_loss  0.6682 ]\n",
      "[epoch: 108] [loss:  0.6343 ] [train_acc:  0.7571 ] [val_acc:  0.7256 ] val_loss: [val_loss  0.6888 ]\n",
      "[epoch: 109] [loss:  0.6368 ] [train_acc:  0.7565 ] [val_acc:  0.7383 ] val_loss: [val_loss  0.6507 ]\n",
      "[epoch: 110] [loss:  0.6334 ] [train_acc:  0.7583 ] [val_acc:  0.7520 ] val_loss: [val_loss  0.6329 ]\n",
      "[epoch: 111] [loss:  0.6360 ] [train_acc:  0.7558 ] [val_acc:  0.7510 ] val_loss: [val_loss  0.6181 ]\n",
      "[epoch: 112] [loss:  0.6321 ] [train_acc:  0.7590 ] [val_acc:  0.7441 ] val_loss: [val_loss  0.6502 ]\n",
      "[epoch: 113] [loss:  0.6365 ] [train_acc:  0.7563 ] [val_acc:  0.7520 ] val_loss: [val_loss  0.6235 ]\n",
      "[epoch: 114] [loss:  0.6233 ] [train_acc:  0.7625 ] [val_acc:  0.7578 ] val_loss: [val_loss  0.6096 ]\n",
      "[epoch: 115] [loss:  0.6318 ] [train_acc:  0.7583 ] [val_acc:  0.7500 ] val_loss: [val_loss  0.6108 ]\n",
      "[epoch: 116] [loss:  0.6212 ] [train_acc:  0.7598 ] [val_acc:  0.7559 ] val_loss: [val_loss  0.6071 ]\n",
      "[epoch: 117] [loss:  0.6158 ] [train_acc:  0.7645 ] [val_acc:  0.7500 ] val_loss: [val_loss  0.6108 ]\n",
      "[epoch: 118] [loss:  0.6162 ] [train_acc:  0.7641 ] [val_acc:  0.7666 ] val_loss: [val_loss  0.5802 ]\n",
      "[epoch: 119] [loss:  0.6153 ] [train_acc:  0.7642 ] [val_acc:  0.7607 ] val_loss: [val_loss  0.5911 ]\n",
      "[epoch: 120] [loss:  0.6165 ] [train_acc:  0.7634 ] [val_acc:  0.7666 ] val_loss: [val_loss  0.5876 ]\n",
      "[epoch: 121] [loss:  0.6208 ] [train_acc:  0.7640 ] [val_acc:  0.7627 ] val_loss: [val_loss  0.5950 ]\n",
      "[epoch: 122] [loss:  0.6173 ] [train_acc:  0.7645 ] [val_acc:  0.7617 ] val_loss: [val_loss  0.5994 ]\n",
      "[epoch: 123] [loss:  0.6191 ] [train_acc:  0.7636 ] [val_acc:  0.7617 ] val_loss: [val_loss  0.5929 ]\n",
      "[epoch: 124] [loss:  0.6315 ] [train_acc:  0.7616 ] [val_acc:  0.7617 ] val_loss: [val_loss  0.6035 ]\n",
      "[epoch: 125] [loss:  0.6127 ] [train_acc:  0.7663 ] [val_acc:  0.7705 ] val_loss: [val_loss  0.5791 ]\n",
      "[epoch: 126] [loss:  0.6148 ] [train_acc:  0.7637 ] [val_acc:  0.7656 ] val_loss: [val_loss  0.5781 ]\n",
      "[epoch: 127] [loss:  0.6146 ] [train_acc:  0.7631 ] [val_acc:  0.7676 ] val_loss: [val_loss  0.5851 ]\n",
      "[epoch: 128] [loss:  0.6117 ] [train_acc:  0.7681 ] [val_acc:  0.7676 ] val_loss: [val_loss  0.5856 ]\n",
      "[epoch: 129] [loss:  0.6215 ] [train_acc:  0.7634 ] [val_acc:  0.7529 ] val_loss: [val_loss  0.6121 ]\n",
      "[epoch: 130] [loss:  0.6157 ] [train_acc:  0.7622 ] [val_acc:  0.7637 ] val_loss: [val_loss  0.5854 ]\n",
      "[epoch: 131] [loss:  0.6099 ] [train_acc:  0.7658 ] [val_acc:  0.7607 ] val_loss: [val_loss  0.6020 ]\n",
      "[epoch: 132] [loss:  0.6072 ] [train_acc:  0.7671 ] [val_acc:  0.7617 ] val_loss: [val_loss  0.5914 ]\n",
      "[epoch: 133] [loss:  0.6041 ] [train_acc:  0.7672 ] [val_acc:  0.7588 ] val_loss: [val_loss  0.6254 ]\n",
      "[epoch: 134] [loss:  0.6131 ] [train_acc:  0.7637 ] [val_acc:  0.7812 ] val_loss: [val_loss  0.5587 ]\n",
      "[epoch: 135] [loss:  0.6169 ] [train_acc:  0.7623 ] [val_acc:  0.7656 ] val_loss: [val_loss  0.5827 ]\n",
      "[epoch: 136] [loss:  0.6047 ] [train_acc:  0.7661 ] [val_acc:  0.7510 ] val_loss: [val_loss  0.6528 ]\n",
      "[epoch: 137] [loss:  0.6101 ] [train_acc:  0.7645 ] [val_acc:  0.7285 ] val_loss: [val_loss  0.6603 ]\n",
      "[epoch: 138] [loss:  0.6420 ] [train_acc:  0.7626 ] [val_acc:  0.7441 ] val_loss: [val_loss  0.6818 ]\n",
      "[epoch: 139] [loss:  0.6711 ] [train_acc:  0.7442 ] [val_acc:  0.7568 ] val_loss: [val_loss  0.6304 ]\n",
      "[epoch: 140] [loss:  0.6348 ] [train_acc:  0.7579 ] [val_acc:  0.7656 ] val_loss: [val_loss  0.6107 ]\n",
      "[epoch: 141] [loss:  0.6176 ] [train_acc:  0.7643 ] [val_acc:  0.7500 ] val_loss: [val_loss  0.6120 ]\n",
      "[epoch: 142] [loss:  0.6135 ] [train_acc:  0.7636 ] [val_acc:  0.7549 ] val_loss: [val_loss  0.6081 ]\n",
      "[epoch: 143] [loss:  0.6195 ] [train_acc:  0.7634 ] [val_acc:  0.7695 ] val_loss: [val_loss  0.5769 ]\n",
      "[epoch: 144] [loss:  0.6231 ] [train_acc:  0.7604 ] [val_acc:  0.7686 ] val_loss: [val_loss  0.5665 ]\n",
      "[epoch: 145] [loss:  0.6001 ] [train_acc:  0.7686 ] [val_acc:  0.7734 ] val_loss: [val_loss  0.5536 ]\n",
      "[epoch: 146] [loss:  0.5912 ] [train_acc:  0.7723 ] [val_acc:  0.7695 ] val_loss: [val_loss  0.5560 ]\n",
      "[epoch: 147] [loss:  0.5896 ] [train_acc:  0.7740 ] [val_acc:  0.7725 ] val_loss: [val_loss  0.5535 ]\n",
      "[epoch: 148] [loss:  0.5884 ] [train_acc:  0.7716 ] [val_acc:  0.7695 ] val_loss: [val_loss  0.5588 ]\n",
      "[epoch: 149] [loss:  0.5982 ] [train_acc:  0.7711 ] [val_acc:  0.7754 ] val_loss: [val_loss  0.5567 ]\n",
      "[epoch: 150] [loss:  0.5869 ] [train_acc:  0.7747 ] [val_acc:  0.7764 ] val_loss: [val_loss  0.5483 ]\n",
      "[epoch: 151] [loss:  0.5909 ] [train_acc:  0.7721 ] [val_acc:  0.7666 ] val_loss: [val_loss  0.5729 ]\n",
      "[epoch: 152] [loss:  0.5863 ] [train_acc:  0.7718 ] [val_acc:  0.7695 ] val_loss: [val_loss  0.5657 ]\n",
      "[epoch: 153] [loss:  0.5890 ] [train_acc:  0.7718 ] [val_acc:  0.7686 ] val_loss: [val_loss  0.5588 ]\n",
      "[epoch: 154] [loss:  0.5836 ] [train_acc:  0.7743 ] [val_acc:  0.7725 ] val_loss: [val_loss  0.5668 ]\n",
      "[epoch: 155] [loss:  0.5830 ] [train_acc:  0.7726 ] [val_acc:  0.7617 ] val_loss: [val_loss  0.5865 ]\n",
      "[epoch: 156] [loss:  0.5793 ] [train_acc:  0.7762 ] [val_acc:  0.7676 ] val_loss: [val_loss  0.5639 ]\n",
      "[epoch: 157] [loss:  0.5774 ] [train_acc:  0.7761 ] [val_acc:  0.7773 ] val_loss: [val_loss  0.5546 ]\n",
      "[epoch: 158] [loss:  0.5811 ] [train_acc:  0.7779 ] [val_acc:  0.7764 ] val_loss: [val_loss  0.5379 ]\n",
      "[epoch: 159] [loss:  0.5733 ] [train_acc:  0.7761 ] [val_acc:  0.7656 ] val_loss: [val_loss  0.5620 ]\n",
      "[epoch: 160] [loss:  0.5721 ] [train_acc:  0.7739 ] [val_acc:  0.7891 ] val_loss: [val_loss  0.5250 ]\n",
      "[epoch: 161] [loss:  0.5757 ] [train_acc:  0.7749 ] [val_acc:  0.7686 ] val_loss: [val_loss  0.5523 ]\n",
      "[epoch: 162] [loss:  0.5772 ] [train_acc:  0.7745 ] [val_acc:  0.7705 ] val_loss: [val_loss  0.5535 ]\n",
      "[epoch: 163] [loss:  0.5814 ] [train_acc:  0.7740 ] [val_acc:  0.7803 ] val_loss: [val_loss  0.5305 ]\n",
      "[epoch: 164] [loss:  0.5707 ] [train_acc:  0.7782 ] [val_acc:  0.7744 ] val_loss: [val_loss  0.5486 ]\n",
      "[epoch: 165] [loss:  0.5663 ] [train_acc:  0.7771 ] [val_acc:  0.7822 ] val_loss: [val_loss  0.5210 ]\n",
      "[epoch: 166] [loss:  0.5669 ] [train_acc:  0.7788 ] [val_acc:  0.7764 ] val_loss: [val_loss  0.5335 ]\n",
      "[epoch: 167] [loss:  0.5681 ] [train_acc:  0.7797 ] [val_acc:  0.7793 ] val_loss: [val_loss  0.5316 ]\n",
      "[epoch: 168] [loss:  0.5588 ] [train_acc:  0.7809 ] [val_acc:  0.7842 ] val_loss: [val_loss  0.5208 ]\n",
      "[epoch: 169] [loss:  0.5771 ] [train_acc:  0.7742 ] [val_acc:  0.7754 ] val_loss: [val_loss  0.5594 ]\n",
      "[epoch: 170] [loss:  0.5738 ] [train_acc:  0.7746 ] [val_acc:  0.7754 ] val_loss: [val_loss  0.5383 ]\n",
      "[epoch: 171] [loss:  0.5683 ] [train_acc:  0.7796 ] [val_acc:  0.7646 ] val_loss: [val_loss  0.5615 ]\n",
      "[epoch: 172] [loss:  0.5663 ] [train_acc:  0.7783 ] [val_acc:  0.7832 ] val_loss: [val_loss  0.5330 ]\n",
      "[epoch: 173] [loss:  0.5604 ] [train_acc:  0.7789 ] [val_acc:  0.7969 ] val_loss: [val_loss  0.5191 ]\n",
      "[epoch: 174] [loss:  0.5618 ] [train_acc:  0.7775 ] [val_acc:  0.7725 ] val_loss: [val_loss  0.5362 ]\n",
      "[epoch: 175] [loss:  0.5711 ] [train_acc:  0.7754 ] [val_acc:  0.7803 ] val_loss: [val_loss  0.5464 ]\n",
      "[epoch: 176] [loss:  0.5784 ] [train_acc:  0.7731 ] [val_acc:  0.7949 ] val_loss: [val_loss  0.5184 ]\n",
      "[epoch: 177] [loss:  0.5679 ] [train_acc:  0.7751 ] [val_acc:  0.7773 ] val_loss: [val_loss  0.5449 ]\n",
      "[epoch: 178] [loss:  0.5704 ] [train_acc:  0.7740 ] [val_acc:  0.7480 ] val_loss: [val_loss  0.5958 ]\n",
      "[epoch: 179] [loss:  0.5778 ] [train_acc:  0.7758 ] [val_acc:  0.7676 ] val_loss: [val_loss  0.5670 ]\n",
      "[epoch: 180] [loss:  0.5736 ] [train_acc:  0.7722 ] [val_acc:  0.7686 ] val_loss: [val_loss  0.5377 ]\n",
      "[epoch: 181] [loss:  0.5951 ] [train_acc:  0.7765 ] [val_acc:  0.7754 ] val_loss: [val_loss  0.5491 ]\n",
      "[epoch: 182] [loss:  0.5817 ] [train_acc:  0.7774 ] [val_acc:  0.7881 ] val_loss: [val_loss  0.5083 ]\n",
      "[epoch: 183] [loss:  0.5589 ] [train_acc:  0.7828 ] [val_acc:  0.7793 ] val_loss: [val_loss  0.5351 ]\n",
      "[epoch: 184] [loss:  0.5530 ] [train_acc:  0.7813 ] [val_acc:  0.7764 ] val_loss: [val_loss  0.5336 ]\n",
      "[epoch: 185] [loss:  0.5538 ] [train_acc:  0.7826 ] [val_acc:  0.7725 ] val_loss: [val_loss  0.5379 ]\n",
      "[epoch: 186] [loss:  0.5603 ] [train_acc:  0.7776 ] [val_acc:  0.7861 ] val_loss: [val_loss  0.5022 ]\n",
      "[epoch: 187] [loss:  0.5547 ] [train_acc:  0.7786 ] [val_acc:  0.7627 ] val_loss: [val_loss  0.5678 ]\n",
      "[epoch: 188] [loss:  0.5555 ] [train_acc:  0.7823 ] [val_acc:  0.7861 ] val_loss: [val_loss  0.5084 ]\n",
      "[epoch: 189] [loss:  0.5522 ] [train_acc:  0.7811 ] [val_acc:  0.7891 ] val_loss: [val_loss  0.5226 ]\n",
      "[epoch: 190] [loss:  0.5540 ] [train_acc:  0.7755 ] [val_acc:  0.7695 ] val_loss: [val_loss  0.5526 ]\n",
      "[epoch: 191] [loss:  0.5547 ] [train_acc:  0.7795 ] [val_acc:  0.7881 ] val_loss: [val_loss  0.5032 ]\n",
      "[epoch: 192] [loss:  0.5458 ] [train_acc:  0.7837 ] [val_acc:  0.7822 ] val_loss: [val_loss  0.5071 ]\n",
      "[epoch: 193] [loss:  0.5576 ] [train_acc:  0.7832 ] [val_acc:  0.7832 ] val_loss: [val_loss  0.5391 ]\n",
      "[epoch: 194] [loss:  0.5448 ] [train_acc:  0.7848 ] [val_acc:  0.7881 ] val_loss: [val_loss  0.4947 ]\n",
      "[epoch: 195] [loss:  0.5470 ] [train_acc:  0.7829 ] [val_acc:  0.7656 ] val_loss: [val_loss  0.5572 ]\n",
      "[epoch: 196] [loss:  0.5411 ] [train_acc:  0.7835 ] [val_acc:  0.7822 ] val_loss: [val_loss  0.5269 ]\n",
      "[epoch: 197] [loss:  0.5390 ] [train_acc:  0.7827 ] [val_acc:  0.7852 ] val_loss: [val_loss  0.5172 ]\n",
      "[epoch: 198] [loss:  0.5550 ] [train_acc:  0.7788 ] [val_acc:  0.7764 ] val_loss: [val_loss  0.5443 ]\n",
      "[epoch: 199] [loss:  0.5565 ] [train_acc:  0.7806 ] [val_acc:  0.7715 ] val_loss: [val_loss  0.5565 ]\n",
      "[epoch: 200] [loss:  0.5760 ] [train_acc:  0.7758 ] [val_acc:  0.7549 ] val_loss: [val_loss  0.5889 ]\n",
      "[epoch: 201] [loss:  0.5851 ] [train_acc:  0.7697 ] [val_acc:  0.7559 ] val_loss: [val_loss  0.6072 ]\n",
      "[epoch: 202] [loss:  0.5671 ] [train_acc:  0.7802 ] [val_acc:  0.7734 ] val_loss: [val_loss  0.5476 ]\n",
      "[epoch: 203] [loss:  0.5622 ] [train_acc:  0.7783 ] [val_acc:  0.7725 ] val_loss: [val_loss  0.5570 ]\n",
      "[epoch: 204] [loss:  0.5624 ] [train_acc:  0.7781 ] [val_acc:  0.7764 ] val_loss: [val_loss  0.5334 ]\n",
      "[epoch: 205] [loss:  0.5478 ] [train_acc:  0.7826 ] [val_acc:  0.7861 ] val_loss: [val_loss  0.5086 ]\n",
      "[epoch: 206] [loss:  0.5441 ] [train_acc:  0.7842 ] [val_acc:  0.7852 ] val_loss: [val_loss  0.5171 ]\n",
      "[epoch: 207] [loss:  0.5366 ] [train_acc:  0.7882 ] [val_acc:  0.7900 ] val_loss: [val_loss  0.4986 ]\n",
      "[epoch: 208] [loss:  0.5294 ] [train_acc:  0.7900 ] [val_acc:  0.7822 ] val_loss: [val_loss  0.4989 ]\n",
      "[epoch: 209] [loss:  0.5313 ] [train_acc:  0.7900 ] [val_acc:  0.7764 ] val_loss: [val_loss  0.5256 ]\n",
      "[epoch: 210] [loss:  0.5388 ] [train_acc:  0.7859 ] [val_acc:  0.7891 ] val_loss: [val_loss  0.5142 ]\n",
      "[epoch: 211] [loss:  0.5445 ] [train_acc:  0.7837 ] [val_acc:  0.7627 ] val_loss: [val_loss  0.5741 ]\n",
      "[epoch: 212] [loss:  0.5394 ] [train_acc:  0.7861 ] [val_acc:  0.7842 ] val_loss: [val_loss  0.5119 ]\n",
      "[epoch: 213] [loss:  0.5314 ] [train_acc:  0.7876 ] [val_acc:  0.7803 ] val_loss: [val_loss  0.5225 ]\n",
      "[epoch: 214] [loss:  0.5318 ] [train_acc:  0.7878 ] [val_acc:  0.7822 ] val_loss: [val_loss  0.5149 ]\n",
      "[epoch: 215] [loss:  0.5327 ] [train_acc:  0.7871 ] [val_acc:  0.7998 ] val_loss: [val_loss  0.4806 ]\n",
      "[epoch: 216] [loss:  0.5297 ] [train_acc:  0.7887 ] [val_acc:  0.7988 ] val_loss: [val_loss  0.4858 ]\n",
      "[epoch: 217] [loss:  0.5424 ] [train_acc:  0.7843 ] [val_acc:  0.7988 ] val_loss: [val_loss  0.4967 ]\n",
      "[epoch: 218] [loss:  0.5585 ] [train_acc:  0.7775 ] [val_acc:  0.7676 ] val_loss: [val_loss  0.5486 ]\n",
      "[epoch: 219] [loss:  0.5475 ] [train_acc:  0.7816 ] [val_acc:  0.7920 ] val_loss: [val_loss  0.5158 ]\n",
      "[epoch: 220] [loss:  0.5328 ] [train_acc:  0.7905 ] [val_acc:  0.7803 ] val_loss: [val_loss  0.5106 ]\n",
      "[epoch: 221] [loss:  0.5295 ] [train_acc:  0.7893 ] [val_acc:  0.7705 ] val_loss: [val_loss  0.5190 ]\n",
      "[epoch: 222] [loss:  0.5320 ] [train_acc:  0.7841 ] [val_acc:  0.7803 ] val_loss: [val_loss  0.5274 ]\n",
      "[epoch: 223] [loss:  0.5313 ] [train_acc:  0.7878 ] [val_acc:  0.7812 ] val_loss: [val_loss  0.5057 ]\n",
      "[epoch: 224] [loss:  0.5228 ] [train_acc:  0.7908 ] [val_acc:  0.7812 ] val_loss: [val_loss  0.5099 ]\n",
      "[epoch: 225] [loss:  0.5280 ] [train_acc:  0.7869 ] [val_acc:  0.7773 ] val_loss: [val_loss  0.5276 ]\n",
      "[epoch: 226] [loss:  0.5395 ] [train_acc:  0.7840 ] [val_acc:  0.7803 ] val_loss: [val_loss  0.5169 ]\n",
      "[epoch: 227] [loss:  0.5296 ] [train_acc:  0.7890 ] [val_acc:  0.7812 ] val_loss: [val_loss  0.5173 ]\n",
      "[epoch: 228] [loss:  0.5313 ] [train_acc:  0.7873 ] [val_acc:  0.7725 ] val_loss: [val_loss  0.5276 ]\n",
      "[epoch: 229] [loss:  0.5362 ] [train_acc:  0.7875 ] [val_acc:  0.7822 ] val_loss: [val_loss  0.5336 ]\n",
      "[epoch: 230] [loss:  0.5362 ] [train_acc:  0.7856 ] [val_acc:  0.7754 ] val_loss: [val_loss  0.5222 ]\n",
      "[epoch: 231] [loss:  0.5276 ] [train_acc:  0.7896 ] [val_acc:  0.7881 ] val_loss: [val_loss  0.4973 ]\n",
      "[epoch: 232] [loss:  0.5288 ] [train_acc:  0.7901 ] [val_acc:  0.7754 ] val_loss: [val_loss  0.5116 ]\n",
      "[epoch: 233] [loss:  0.5306 ] [train_acc:  0.7857 ] [val_acc:  0.7773 ] val_loss: [val_loss  0.5138 ]\n",
      "[epoch: 234] [loss:  0.5212 ] [train_acc:  0.7904 ] [val_acc:  0.7783 ] val_loss: [val_loss  0.5062 ]\n",
      "[epoch: 235] [loss:  0.5252 ] [train_acc:  0.7905 ] [val_acc:  0.7832 ] val_loss: [val_loss  0.5129 ]\n",
      "[epoch: 236] [loss:  0.5238 ] [train_acc:  0.7880 ] [val_acc:  0.7852 ] val_loss: [val_loss  0.5143 ]\n",
      "[epoch: 237] [loss:  0.5306 ] [train_acc:  0.7871 ] [val_acc:  0.7666 ] val_loss: [val_loss  0.5617 ]\n",
      "[epoch: 238] [loss:  0.5314 ] [train_acc:  0.7868 ] [val_acc:  0.7832 ] val_loss: [val_loss  0.5049 ]\n",
      "[epoch: 239] [loss:  0.5247 ] [train_acc:  0.7924 ] [val_acc:  0.7793 ] val_loss: [val_loss  0.5158 ]\n",
      "[epoch: 240] [loss:  0.5224 ] [train_acc:  0.7902 ] [val_acc:  0.7686 ] val_loss: [val_loss  0.5465 ]\n",
      "[epoch: 241] [loss:  0.5244 ] [train_acc:  0.7917 ] [val_acc:  0.7734 ] val_loss: [val_loss  0.5314 ]\n",
      "[epoch: 242] [loss:  0.5307 ] [train_acc:  0.7876 ] [val_acc:  0.7900 ] val_loss: [val_loss  0.5149 ]\n",
      "[epoch: 243] [loss:  0.5284 ] [train_acc:  0.7880 ] [val_acc:  0.7852 ] val_loss: [val_loss  0.4992 ]\n",
      "[epoch: 244] [loss:  0.5251 ] [train_acc:  0.7889 ] [val_acc:  0.8027 ] val_loss: [val_loss  0.4686 ]\n",
      "[epoch: 245] [loss:  0.5304 ] [train_acc:  0.7883 ] [val_acc:  0.7861 ] val_loss: [val_loss  0.4936 ]\n",
      "[epoch: 246] [loss:  0.5391 ] [train_acc:  0.7826 ] [val_acc:  0.7969 ] val_loss: [val_loss  0.4825 ]\n",
      "[epoch: 247] [loss:  0.5258 ] [train_acc:  0.7898 ] [val_acc:  0.8096 ] val_loss: [val_loss  0.4699 ]\n",
      "[epoch: 248] [loss:  0.5221 ] [train_acc:  0.7924 ] [val_acc:  0.8008 ] val_loss: [val_loss  0.4646 ]\n",
      "[epoch: 249] [loss:  0.5253 ] [train_acc:  0.7907 ] [val_acc:  0.7988 ] val_loss: [val_loss  0.4916 ]\n",
      "[epoch: 250] [loss:  0.5410 ] [train_acc:  0.7859 ] [val_acc:  0.8047 ] val_loss: [val_loss  0.4725 ]\n",
      "[epoch: 251] [loss:  0.5401 ] [train_acc:  0.7848 ] [val_acc:  0.7832 ] val_loss: [val_loss  0.5138 ]\n",
      "[epoch: 252] [loss:  0.5345 ] [train_acc:  0.7877 ] [val_acc:  0.7998 ] val_loss: [val_loss  0.5037 ]\n",
      "[epoch: 253] [loss:  0.5556 ] [train_acc:  0.7780 ] [val_acc:  0.7939 ] val_loss: [val_loss  0.4930 ]\n",
      "[epoch: 254] [loss:  0.5438 ] [train_acc:  0.7846 ] [val_acc:  0.7959 ] val_loss: [val_loss  0.4920 ]\n",
      "[epoch: 255] [loss:  0.5239 ] [train_acc:  0.7923 ] [val_acc:  0.7842 ] val_loss: [val_loss  0.5101 ]\n",
      "[epoch: 256] [loss:  0.5118 ] [train_acc:  0.7928 ] [val_acc:  0.7920 ] val_loss: [val_loss  0.4924 ]\n",
      "[epoch: 257] [loss:  0.5141 ] [train_acc:  0.7931 ] [val_acc:  0.7832 ] val_loss: [val_loss  0.4904 ]\n",
      "[epoch: 258] [loss:  0.5063 ] [train_acc:  0.7956 ] [val_acc:  0.7773 ] val_loss: [val_loss  0.5039 ]\n",
      "[epoch: 259] [loss:  0.5182 ] [train_acc:  0.7901 ] [val_acc:  0.8018 ] val_loss: [val_loss  0.4823 ]\n",
      "[epoch: 260] [loss:  0.5170 ] [train_acc:  0.7946 ] [val_acc:  0.7900 ] val_loss: [val_loss  0.4771 ]\n",
      "[epoch: 261] [loss:  0.5122 ] [train_acc:  0.7947 ] [val_acc:  0.8096 ] val_loss: [val_loss  0.4536 ]\n",
      "[epoch: 262] [loss:  0.5035 ] [train_acc:  0.7944 ] [val_acc:  0.7949 ] val_loss: [val_loss  0.4919 ]\n",
      "[epoch: 263] [loss:  0.5116 ] [train_acc:  0.7952 ] [val_acc:  0.7871 ] val_loss: [val_loss  0.5007 ]\n",
      "[epoch: 264] [loss:  0.5126 ] [train_acc:  0.7932 ] [val_acc:  0.7842 ] val_loss: [val_loss  0.4836 ]\n",
      "[epoch: 265] [loss:  0.5103 ] [train_acc:  0.7929 ] [val_acc:  0.7900 ] val_loss: [val_loss  0.4903 ]\n",
      "[epoch: 266] [loss:  0.5120 ] [train_acc:  0.7928 ] [val_acc:  0.7891 ] val_loss: [val_loss  0.4934 ]\n",
      "[epoch: 267] [loss:  0.5113 ] [train_acc:  0.7921 ] [val_acc:  0.8047 ] val_loss: [val_loss  0.4615 ]\n",
      "[epoch: 268] [loss:  0.5144 ] [train_acc:  0.7921 ] [val_acc:  0.7930 ] val_loss: [val_loss  0.4793 ]\n",
      "[epoch: 269] [loss:  0.5186 ] [train_acc:  0.7885 ] [val_acc:  0.7812 ] val_loss: [val_loss  0.4858 ]\n",
      "[epoch: 270] [loss:  0.4991 ] [train_acc:  0.7982 ] [val_acc:  0.8154 ] val_loss: [val_loss  0.4517 ]\n",
      "[epoch: 271] [loss:  0.5106 ] [train_acc:  0.7947 ] [val_acc:  0.7939 ] val_loss: [val_loss  0.4684 ]\n",
      "[epoch: 272] [loss:  0.5077 ] [train_acc:  0.7940 ] [val_acc:  0.7861 ] val_loss: [val_loss  0.5244 ]\n",
      "[epoch: 273] [loss:  0.5124 ] [train_acc:  0.7915 ] [val_acc:  0.8018 ] val_loss: [val_loss  0.4607 ]\n",
      "[epoch: 274] [loss:  0.4986 ] [train_acc:  0.7979 ] [val_acc:  0.7969 ] val_loss: [val_loss  0.4588 ]\n",
      "[epoch: 275] [loss:  0.5106 ] [train_acc:  0.7941 ] [val_acc:  0.7930 ] val_loss: [val_loss  0.5270 ]\n",
      "[epoch: 276] [loss:  0.5238 ] [train_acc:  0.7881 ] [val_acc:  0.7861 ] val_loss: [val_loss  0.5089 ]\n",
      "[epoch: 277] [loss:  0.5234 ] [train_acc:  0.7898 ] [val_acc:  0.7861 ] val_loss: [val_loss  0.5050 ]\n",
      "[epoch: 278] [loss:  0.5185 ] [train_acc:  0.7945 ] [val_acc:  0.7949 ] val_loss: [val_loss  0.4805 ]\n",
      "[epoch: 279] [loss:  0.5271 ] [train_acc:  0.7911 ] [val_acc:  0.8037 ] val_loss: [val_loss  0.4777 ]\n",
      "[epoch: 280] [loss:  0.5184 ] [train_acc:  0.7921 ] [val_acc:  0.8018 ] val_loss: [val_loss  0.4651 ]\n",
      "[epoch: 281] [loss:  0.5099 ] [train_acc:  0.7956 ] [val_acc:  0.8096 ] val_loss: [val_loss  0.4487 ]\n",
      "[epoch: 282] [loss:  0.5026 ] [train_acc:  0.7948 ] [val_acc:  0.7891 ] val_loss: [val_loss  0.4905 ]\n",
      "[epoch: 283] [loss:  0.4940 ] [train_acc:  0.8010 ] [val_acc:  0.8076 ] val_loss: [val_loss  0.4463 ]\n",
      "[epoch: 284] [loss:  0.4884 ] [train_acc:  0.8000 ] [val_acc:  0.8115 ] val_loss: [val_loss  0.4459 ]\n",
      "[epoch: 285] [loss:  0.4940 ] [train_acc:  0.7962 ] [val_acc:  0.8037 ] val_loss: [val_loss  0.4567 ]\n",
      "[epoch: 286] [loss:  0.4933 ] [train_acc:  0.7987 ] [val_acc:  0.7803 ] val_loss: [val_loss  0.4893 ]\n",
      "[epoch: 287] [loss:  0.5048 ] [train_acc:  0.7973 ] [val_acc:  0.7969 ] val_loss: [val_loss  0.4844 ]\n",
      "[epoch: 288] [loss:  0.4936 ] [train_acc:  0.7980 ] [val_acc:  0.8135 ] val_loss: [val_loss  0.4506 ]\n",
      "[epoch: 289] [loss:  0.4917 ] [train_acc:  0.7977 ] [val_acc:  0.8076 ] val_loss: [val_loss  0.4458 ]\n",
      "[epoch: 290] [loss:  0.4991 ] [train_acc:  0.7975 ] [val_acc:  0.7832 ] val_loss: [val_loss  0.5121 ]\n",
      "[epoch: 291] [loss:  0.5110 ] [train_acc:  0.7921 ] [val_acc:  0.7842 ] val_loss: [val_loss  0.4903 ]\n",
      "[epoch: 292] [loss:  0.5015 ] [train_acc:  0.7948 ] [val_acc:  0.7881 ] val_loss: [val_loss  0.4780 ]\n",
      "[epoch: 293] [loss:  0.4967 ] [train_acc:  0.7988 ] [val_acc:  0.7871 ] val_loss: [val_loss  0.5031 ]\n",
      "[epoch: 294] [loss:  0.4941 ] [train_acc:  0.7972 ] [val_acc:  0.7979 ] val_loss: [val_loss  0.4979 ]\n",
      "[epoch: 295] [loss:  0.5100 ] [train_acc:  0.7910 ] [val_acc:  0.7979 ] val_loss: [val_loss  0.4794 ]\n",
      "[epoch: 296] [loss:  0.5045 ] [train_acc:  0.7952 ] [val_acc:  0.8096 ] val_loss: [val_loss  0.4600 ]\n",
      "[epoch: 297] [loss:  0.4956 ] [train_acc:  0.8012 ] [val_acc:  0.8145 ] val_loss: [val_loss  0.4338 ]\n",
      "[epoch: 298] [loss:  0.4908 ] [train_acc:  0.8024 ] [val_acc:  0.8262 ] val_loss: [val_loss  0.4303 ]\n",
      "[epoch: 299] [loss:  0.5035 ] [train_acc:  0.7978 ] [val_acc:  0.8145 ] val_loss: [val_loss  0.4388 ]\n",
      "[epoch: 300] [loss:  0.5042 ] [train_acc:  0.7944 ] [val_acc:  0.8193 ] val_loss: [val_loss  0.4510 ]\n",
      "[epoch: 301] [loss:  0.5132 ] [train_acc:  0.7920 ] [val_acc:  0.8076 ] val_loss: [val_loss  0.4826 ]\n",
      "[epoch: 302] [loss:  0.5204 ] [train_acc:  0.7903 ] [val_acc:  0.7969 ] val_loss: [val_loss  0.4944 ]\n",
      "[epoch: 303] [loss:  0.5246 ] [train_acc:  0.7890 ] [val_acc:  0.8125 ] val_loss: [val_loss  0.4455 ]\n",
      "[epoch: 304] [loss:  0.4949 ] [train_acc:  0.7973 ] [val_acc:  0.8193 ] val_loss: [val_loss  0.4235 ]\n",
      "[epoch: 305] [loss:  0.4871 ] [train_acc:  0.8001 ] [val_acc:  0.8086 ] val_loss: [val_loss  0.4450 ]\n",
      "[epoch: 306] [loss:  0.4943 ] [train_acc:  0.7968 ] [val_acc:  0.7979 ] val_loss: [val_loss  0.4583 ]\n",
      "[epoch: 307] [loss:  0.4880 ] [train_acc:  0.7988 ] [val_acc:  0.7988 ] val_loss: [val_loss  0.4476 ]\n",
      "[epoch: 308] [loss:  0.4835 ] [train_acc:  0.8029 ] [val_acc:  0.7998 ] val_loss: [val_loss  0.4747 ]\n",
      "[epoch: 309] [loss:  0.4875 ] [train_acc:  0.8032 ] [val_acc:  0.8057 ] val_loss: [val_loss  0.4554 ]\n",
      "[epoch: 310] [loss:  0.4847 ] [train_acc:  0.8007 ] [val_acc:  0.8125 ] val_loss: [val_loss  0.4410 ]\n",
      "[epoch: 311] [loss:  0.4795 ] [train_acc:  0.8028 ] [val_acc:  0.8008 ] val_loss: [val_loss  0.4549 ]\n",
      "[epoch: 312] [loss:  0.4848 ] [train_acc:  0.8023 ] [val_acc:  0.8115 ] val_loss: [val_loss  0.4497 ]\n",
      "[epoch: 313] [loss:  0.4780 ] [train_acc:  0.8055 ] [val_acc:  0.8135 ] val_loss: [val_loss  0.4302 ]\n",
      "[epoch: 314] [loss:  0.4757 ] [train_acc:  0.8063 ] [val_acc:  0.8066 ] val_loss: [val_loss  0.4372 ]\n",
      "[epoch: 315] [loss:  0.4690 ] [train_acc:  0.8077 ] [val_acc:  0.8096 ] val_loss: [val_loss  0.4225 ]\n",
      "[epoch: 316] [loss:  0.4790 ] [train_acc:  0.8004 ] [val_acc:  0.7920 ] val_loss: [val_loss  0.4779 ]\n",
      "[epoch: 317] [loss:  0.4833 ] [train_acc:  0.8046 ] [val_acc:  0.8145 ] val_loss: [val_loss  0.4183 ]\n",
      "[epoch: 318] [loss:  0.4901 ] [train_acc:  0.8003 ] [val_acc:  0.8193 ] val_loss: [val_loss  0.4405 ]\n",
      "[epoch: 319] [loss:  0.4778 ] [train_acc:  0.8023 ] [val_acc:  0.8037 ] val_loss: [val_loss  0.4876 ]\n",
      "[epoch: 320] [loss:  0.4790 ] [train_acc:  0.7994 ] [val_acc:  0.8203 ] val_loss: [val_loss  0.4245 ]\n",
      "[epoch: 321] [loss:  0.4745 ] [train_acc:  0.8015 ] [val_acc:  0.8086 ] val_loss: [val_loss  0.4337 ]\n",
      "[epoch: 322] [loss:  0.4887 ] [train_acc:  0.7988 ] [val_acc:  0.8232 ] val_loss: [val_loss  0.4242 ]\n",
      "[epoch: 323] [loss:  0.4902 ] [train_acc:  0.8014 ] [val_acc:  0.8066 ] val_loss: [val_loss  0.4310 ]\n",
      "[epoch: 324] [loss:  0.4807 ] [train_acc:  0.8012 ] [val_acc:  0.8135 ] val_loss: [val_loss  0.4217 ]\n",
      "[epoch: 325] [loss:  0.4722 ] [train_acc:  0.8055 ] [val_acc:  0.8145 ] val_loss: [val_loss  0.4209 ]\n",
      "[epoch: 326] [loss:  0.4713 ] [train_acc:  0.8058 ] [val_acc:  0.8076 ] val_loss: [val_loss  0.4126 ]\n",
      "[epoch: 327] [loss:  0.4689 ] [train_acc:  0.8065 ] [val_acc:  0.8252 ] val_loss: [val_loss  0.4135 ]\n",
      "[epoch: 328] [loss:  0.4723 ] [train_acc:  0.8031 ] [val_acc:  0.8232 ] val_loss: [val_loss  0.4172 ]\n",
      "[epoch: 329] [loss:  0.4676 ] [train_acc:  0.8076 ] [val_acc:  0.8115 ] val_loss: [val_loss  0.4169 ]\n",
      "[epoch: 330] [loss:  0.4733 ] [train_acc:  0.8020 ] [val_acc:  0.8125 ] val_loss: [val_loss  0.4312 ]\n",
      "[epoch: 331] [loss:  0.4772 ] [train_acc:  0.8016 ] [val_acc:  0.8154 ] val_loss: [val_loss  0.4313 ]\n",
      "[epoch: 332] [loss:  0.4819 ] [train_acc:  0.8036 ] [val_acc:  0.8047 ] val_loss: [val_loss  0.4289 ]\n",
      "[epoch: 333] [loss:  0.4951 ] [train_acc:  0.7987 ] [val_acc:  0.8047 ] val_loss: [val_loss  0.4541 ]\n",
      "[epoch: 334] [loss:  0.4784 ] [train_acc:  0.8004 ] [val_acc:  0.8154 ] val_loss: [val_loss  0.4118 ]\n",
      "[epoch: 335] [loss:  0.4660 ] [train_acc:  0.8023 ] [val_acc:  0.8291 ] val_loss: [val_loss  0.3979 ]\n",
      "[epoch: 336] [loss:  0.4656 ] [train_acc:  0.8082 ] [val_acc:  0.8125 ] val_loss: [val_loss  0.4109 ]\n",
      "[epoch: 337] [loss:  0.4675 ] [train_acc:  0.8057 ] [val_acc:  0.8281 ] val_loss: [val_loss  0.4069 ]\n",
      "[epoch: 338] [loss:  0.4782 ] [train_acc:  0.8027 ] [val_acc:  0.8076 ] val_loss: [val_loss  0.4382 ]\n",
      "[epoch: 339] [loss:  0.4724 ] [train_acc:  0.8029 ] [val_acc:  0.8047 ] val_loss: [val_loss  0.4375 ]\n",
      "[epoch: 340] [loss:  0.4628 ] [train_acc:  0.8069 ] [val_acc:  0.8018 ] val_loss: [val_loss  0.4341 ]\n",
      "[epoch: 341] [loss:  0.4773 ] [train_acc:  0.8061 ] [val_acc:  0.8174 ] val_loss: [val_loss  0.4276 ]\n",
      "[epoch: 342] [loss:  0.4852 ] [train_acc:  0.8025 ] [val_acc:  0.8174 ] val_loss: [val_loss  0.4281 ]\n",
      "[epoch: 343] [loss:  0.4878 ] [train_acc:  0.8010 ] [val_acc:  0.8193 ] val_loss: [val_loss  0.4167 ]\n",
      "[epoch: 344] [loss:  0.4849 ] [train_acc:  0.8001 ] [val_acc:  0.8145 ] val_loss: [val_loss  0.4210 ]\n",
      "[epoch: 345] [loss:  0.4676 ] [train_acc:  0.8059 ] [val_acc:  0.8184 ] val_loss: [val_loss  0.4108 ]\n",
      "[epoch: 346] [loss:  0.4621 ] [train_acc:  0.8100 ] [val_acc:  0.8301 ] val_loss: [val_loss  0.3909 ]\n",
      "[epoch: 347] [loss:  0.4672 ] [train_acc:  0.8064 ] [val_acc:  0.8135 ] val_loss: [val_loss  0.4184 ]\n",
      "[epoch: 348] [loss:  0.4621 ] [train_acc:  0.8066 ] [val_acc:  0.8135 ] val_loss: [val_loss  0.4462 ]\n",
      "[epoch: 349] [loss:  0.4655 ] [train_acc:  0.8065 ] [val_acc:  0.8213 ] val_loss: [val_loss  0.4110 ]\n",
      "[epoch: 350] [loss:  0.4578 ] [train_acc:  0.8078 ] [val_acc:  0.8271 ] val_loss: [val_loss  0.4038 ]\n",
      "[epoch: 351] [loss:  0.4709 ] [train_acc:  0.8046 ] [val_acc:  0.8223 ] val_loss: [val_loss  0.4186 ]\n",
      "[epoch: 352] [loss:  0.4623 ] [train_acc:  0.8115 ] [val_acc:  0.8271 ] val_loss: [val_loss  0.4160 ]\n",
      "[epoch: 353] [loss:  0.4730 ] [train_acc:  0.8035 ] [val_acc:  0.8242 ] val_loss: [val_loss  0.4111 ]\n",
      "[epoch: 354] [loss:  0.4628 ] [train_acc:  0.8069 ] [val_acc:  0.8408 ] val_loss: [val_loss  0.3861 ]\n",
      "[epoch: 355] [loss:  0.4725 ] [train_acc:  0.8038 ] [val_acc:  0.8105 ] val_loss: [val_loss  0.4212 ]\n",
      "[epoch: 356] [loss:  0.4628 ] [train_acc:  0.8065 ] [val_acc:  0.8262 ] val_loss: [val_loss  0.4045 ]\n",
      "[epoch: 357] [loss:  0.4613 ] [train_acc:  0.8067 ] [val_acc:  0.8203 ] val_loss: [val_loss  0.4054 ]\n",
      "[epoch: 358] [loss:  0.4504 ] [train_acc:  0.8135 ] [val_acc:  0.8145 ] val_loss: [val_loss  0.3872 ]\n",
      "[epoch: 359] [loss:  0.4588 ] [train_acc:  0.8094 ] [val_acc:  0.8066 ] val_loss: [val_loss  0.4258 ]\n",
      "[epoch: 360] [loss:  0.4614 ] [train_acc:  0.8079 ] [val_acc:  0.8213 ] val_loss: [val_loss  0.4013 ]\n",
      "[epoch: 361] [loss:  0.4574 ] [train_acc:  0.8099 ] [val_acc:  0.8447 ] val_loss: [val_loss  0.4017 ]\n",
      "[epoch: 362] [loss:  0.4609 ] [train_acc:  0.8088 ] [val_acc:  0.8096 ] val_loss: [val_loss  0.4252 ]\n",
      "[epoch: 363] [loss:  0.4648 ] [train_acc:  0.8063 ] [val_acc:  0.8389 ] val_loss: [val_loss  0.3995 ]\n",
      "[epoch: 364] [loss:  0.4565 ] [train_acc:  0.8088 ] [val_acc:  0.8281 ] val_loss: [val_loss  0.3923 ]\n",
      "[epoch: 365] [loss:  0.4617 ] [train_acc:  0.8096 ] [val_acc:  0.8203 ] val_loss: [val_loss  0.4114 ]\n",
      "[epoch: 366] [loss:  0.4619 ] [train_acc:  0.8069 ] [val_acc:  0.8359 ] val_loss: [val_loss  0.3977 ]\n",
      "[epoch: 367] [loss:  0.4586 ] [train_acc:  0.8088 ] [val_acc:  0.8066 ] val_loss: [val_loss  0.4189 ]\n",
      "[epoch: 368] [loss:  0.4633 ] [train_acc:  0.8090 ] [val_acc:  0.8223 ] val_loss: [val_loss  0.4157 ]\n",
      "[epoch: 369] [loss:  0.5083 ] [train_acc:  0.7959 ] [val_acc:  0.8037 ] val_loss: [val_loss  0.4517 ]\n",
      "[epoch: 370] [loss:  0.4932 ] [train_acc:  0.7977 ] [val_acc:  0.8242 ] val_loss: [val_loss  0.4214 ]\n",
      "[epoch: 371] [loss:  0.4804 ] [train_acc:  0.8005 ] [val_acc:  0.8164 ] val_loss: [val_loss  0.4244 ]\n",
      "[epoch: 372] [loss:  0.4622 ] [train_acc:  0.8085 ] [val_acc:  0.8281 ] val_loss: [val_loss  0.4095 ]\n",
      "[epoch: 373] [loss:  0.4673 ] [train_acc:  0.8057 ] [val_acc:  0.8232 ] val_loss: [val_loss  0.3951 ]\n",
      "[epoch: 374] [loss:  0.4560 ] [train_acc:  0.8021 ] [val_acc:  0.8350 ] val_loss: [val_loss  0.3961 ]\n",
      "[epoch: 375] [loss:  0.4545 ] [train_acc:  0.8106 ] [val_acc:  0.8398 ] val_loss: [val_loss  0.3797 ]\n",
      "[epoch: 376] [loss:  0.4581 ] [train_acc:  0.8067 ] [val_acc:  0.8145 ] val_loss: [val_loss  0.4228 ]\n",
      "[epoch: 377] [loss:  0.4680 ] [train_acc:  0.8042 ] [val_acc:  0.8047 ] val_loss: [val_loss  0.4269 ]\n",
      "[epoch: 378] [loss:  0.4643 ] [train_acc:  0.8059 ] [val_acc:  0.8320 ] val_loss: [val_loss  0.4203 ]\n",
      "[epoch: 379] [loss:  0.4625 ] [train_acc:  0.8064 ] [val_acc:  0.8223 ] val_loss: [val_loss  0.4085 ]\n",
      "[epoch: 380] [loss:  0.4569 ] [train_acc:  0.8096 ] [val_acc:  0.8066 ] val_loss: [val_loss  0.4272 ]\n",
      "[epoch: 381] [loss:  0.4632 ] [train_acc:  0.8048 ] [val_acc:  0.8301 ] val_loss: [val_loss  0.3996 ]\n",
      "[epoch: 382] [loss:  0.4478 ] [train_acc:  0.8103 ] [val_acc:  0.8350 ] val_loss: [val_loss  0.3738 ]\n",
      "[epoch: 383] [loss:  0.4557 ] [train_acc:  0.8091 ] [val_acc:  0.8320 ] val_loss: [val_loss  0.4009 ]\n",
      "[epoch: 384] [loss:  0.4643 ] [train_acc:  0.8066 ] [val_acc:  0.8086 ] val_loss: [val_loss  0.4227 ]\n",
      "[epoch: 385] [loss:  0.4604 ] [train_acc:  0.8079 ] [val_acc:  0.8262 ] val_loss: [val_loss  0.3967 ]\n",
      "[epoch: 386] [loss:  0.4537 ] [train_acc:  0.8066 ] [val_acc:  0.8223 ] val_loss: [val_loss  0.3986 ]\n",
      "[epoch: 387] [loss:  0.4590 ] [train_acc:  0.8108 ] [val_acc:  0.8232 ] val_loss: [val_loss  0.4156 ]\n",
      "[epoch: 388] [loss:  0.4773 ] [train_acc:  0.8035 ] [val_acc:  0.8242 ] val_loss: [val_loss  0.4133 ]\n",
      "[epoch: 389] [loss:  0.4789 ] [train_acc:  0.8006 ] [val_acc:  0.7920 ] val_loss: [val_loss  0.4451 ]\n",
      "[epoch: 390] [loss:  0.4932 ] [train_acc:  0.7952 ] [val_acc:  0.8105 ] val_loss: [val_loss  0.4303 ]\n",
      "[epoch: 391] [loss:  0.4647 ] [train_acc:  0.8077 ] [val_acc:  0.8213 ] val_loss: [val_loss  0.4073 ]\n",
      "[epoch: 392] [loss:  0.4485 ] [train_acc:  0.8121 ] [val_acc:  0.8213 ] val_loss: [val_loss  0.4032 ]\n",
      "[epoch: 393] [loss:  0.4533 ] [train_acc:  0.8105 ] [val_acc:  0.8242 ] val_loss: [val_loss  0.4057 ]\n",
      "[epoch: 394] [loss:  0.4482 ] [train_acc:  0.8115 ] [val_acc:  0.8438 ] val_loss: [val_loss  0.3864 ]\n",
      "[epoch: 395] [loss:  0.4567 ] [train_acc:  0.8079 ] [val_acc:  0.8320 ] val_loss: [val_loss  0.3876 ]\n",
      "[epoch: 396] [loss:  0.4548 ] [train_acc:  0.8118 ] [val_acc:  0.8232 ] val_loss: [val_loss  0.3967 ]\n",
      "[epoch: 397] [loss:  0.4443 ] [train_acc:  0.8137 ] [val_acc:  0.8330 ] val_loss: [val_loss  0.3814 ]\n",
      "[epoch: 398] [loss:  0.4455 ] [train_acc:  0.8130 ] [val_acc:  0.8369 ] val_loss: [val_loss  0.3881 ]\n",
      "[epoch: 399] [loss:  0.4614 ] [train_acc:  0.8076 ] [val_acc:  0.8379 ] val_loss: [val_loss  0.3867 ]\n",
      "[epoch: 400] [loss:  0.4528 ] [train_acc:  0.8115 ] [val_acc:  0.8379 ] val_loss: [val_loss  0.3901 ]\n",
      "[epoch: 401] [loss:  0.4481 ] [train_acc:  0.8135 ] [val_acc:  0.8164 ] val_loss: [val_loss  0.4171 ]\n",
      "[epoch: 402] [loss:  0.4470 ] [train_acc:  0.8106 ] [val_acc:  0.8271 ] val_loss: [val_loss  0.3945 ]\n",
      "[epoch: 403] [loss:  0.4534 ] [train_acc:  0.8119 ] [val_acc:  0.8096 ] val_loss: [val_loss  0.4174 ]\n",
      "[epoch: 404] [loss:  0.4615 ] [train_acc:  0.8099 ] [val_acc:  0.8066 ] val_loss: [val_loss  0.4507 ]\n",
      "[epoch: 405] [loss:  0.4520 ] [train_acc:  0.8105 ] [val_acc:  0.8291 ] val_loss: [val_loss  0.3944 ]\n",
      "[epoch: 406] [loss:  0.4504 ] [train_acc:  0.8122 ] [val_acc:  0.8057 ] val_loss: [val_loss  0.4286 ]\n",
      "[epoch: 407] [loss:  0.4536 ] [train_acc:  0.8094 ] [val_acc:  0.8574 ] val_loss: [val_loss  0.3627 ]\n",
      "[epoch: 408] [loss:  0.4487 ] [train_acc:  0.8135 ] [val_acc:  0.8174 ] val_loss: [val_loss  0.3909 ]\n",
      "[epoch: 409] [loss:  0.4415 ] [train_acc:  0.8140 ] [val_acc:  0.8174 ] val_loss: [val_loss  0.4063 ]\n",
      "[epoch: 410] [loss:  0.4539 ] [train_acc:  0.8088 ] [val_acc:  0.8447 ] val_loss: [val_loss  0.3698 ]\n",
      "[epoch: 411] [loss:  0.4357 ] [train_acc:  0.8173 ] [val_acc:  0.8496 ] val_loss: [val_loss  0.3666 ]\n",
      "[epoch: 412] [loss:  0.4572 ] [train_acc:  0.8107 ] [val_acc:  0.8369 ] val_loss: [val_loss  0.3835 ]\n",
      "[epoch: 413] [loss:  0.4358 ] [train_acc:  0.8176 ] [val_acc:  0.8350 ] val_loss: [val_loss  0.3768 ]\n",
      "[epoch: 414] [loss:  0.4345 ] [train_acc:  0.8189 ] [val_acc:  0.8350 ] val_loss: [val_loss  0.3798 ]\n",
      "[epoch: 415] [loss:  0.4455 ] [train_acc:  0.8121 ] [val_acc:  0.8232 ] val_loss: [val_loss  0.3857 ]\n",
      "[epoch: 416] [loss:  0.4429 ] [train_acc:  0.8137 ] [val_acc:  0.8350 ] val_loss: [val_loss  0.3817 ]\n",
      "[epoch: 417] [loss:  0.4443 ] [train_acc:  0.8133 ] [val_acc:  0.8379 ] val_loss: [val_loss  0.3722 ]\n",
      "[epoch: 418] [loss:  0.4331 ] [train_acc:  0.8160 ] [val_acc:  0.8291 ] val_loss: [val_loss  0.3863 ]\n",
      "[epoch: 419] [loss:  0.4519 ] [train_acc:  0.8130 ] [val_acc:  0.8477 ] val_loss: [val_loss  0.3680 ]\n",
      "[epoch: 420] [loss:  0.4470 ] [train_acc:  0.8122 ] [val_acc:  0.8301 ] val_loss: [val_loss  0.3900 ]\n",
      "[epoch: 421] [loss:  0.4375 ] [train_acc:  0.8145 ] [val_acc:  0.8320 ] val_loss: [val_loss  0.3725 ]\n",
      "[epoch: 422] [loss:  0.4343 ] [train_acc:  0.8193 ] [val_acc:  0.8408 ] val_loss: [val_loss  0.3699 ]\n",
      "[epoch: 423] [loss:  0.4332 ] [train_acc:  0.8179 ] [val_acc:  0.8271 ] val_loss: [val_loss  0.3864 ]\n",
      "[epoch: 424] [loss:  0.4486 ] [train_acc:  0.8155 ] [val_acc:  0.8271 ] val_loss: [val_loss  0.3964 ]\n",
      "[epoch: 425] [loss:  0.4373 ] [train_acc:  0.8184 ] [val_acc:  0.8496 ] val_loss: [val_loss  0.3636 ]\n",
      "[epoch: 426] [loss:  0.4377 ] [train_acc:  0.8170 ] [val_acc:  0.8486 ] val_loss: [val_loss  0.3684 ]\n",
      "[epoch: 427] [loss:  0.4523 ] [train_acc:  0.8139 ] [val_acc:  0.8223 ] val_loss: [val_loss  0.4042 ]\n",
      "[epoch: 428] [loss:  0.4399 ] [train_acc:  0.8158 ] [val_acc:  0.8389 ] val_loss: [val_loss  0.3767 ]\n",
      "[epoch: 429] [loss:  0.4362 ] [train_acc:  0.8163 ] [val_acc:  0.8291 ] val_loss: [val_loss  0.3804 ]\n",
      "[epoch: 430] [loss:  0.4369 ] [train_acc:  0.8182 ] [val_acc:  0.8369 ] val_loss: [val_loss  0.3775 ]\n",
      "[epoch: 431] [loss:  0.4342 ] [train_acc:  0.8163 ] [val_acc:  0.8145 ] val_loss: [val_loss  0.4146 ]\n",
      "[epoch: 432] [loss:  0.4402 ] [train_acc:  0.8152 ] [val_acc:  0.8389 ] val_loss: [val_loss  0.3664 ]\n",
      "[epoch: 433] [loss:  0.4313 ] [train_acc:  0.8163 ] [val_acc:  0.8320 ] val_loss: [val_loss  0.3891 ]\n",
      "[epoch: 434] [loss:  0.4344 ] [train_acc:  0.8183 ] [val_acc:  0.8447 ] val_loss: [val_loss  0.3621 ]\n",
      "[epoch: 435] [loss:  0.4394 ] [train_acc:  0.8151 ] [val_acc:  0.8213 ] val_loss: [val_loss  0.3967 ]\n",
      "[epoch: 436] [loss:  0.4470 ] [train_acc:  0.8125 ] [val_acc:  0.7979 ] val_loss: [val_loss  0.4577 ]\n",
      "[epoch: 437] [loss:  0.4526 ] [train_acc:  0.8099 ] [val_acc:  0.8525 ] val_loss: [val_loss  0.3613 ]\n",
      "[epoch: 438] [loss:  0.4282 ] [train_acc:  0.8198 ] [val_acc:  0.8486 ] val_loss: [val_loss  0.3497 ]\n",
      "[epoch: 439] [loss:  0.4297 ] [train_acc:  0.8191 ] [val_acc:  0.8193 ] val_loss: [val_loss  0.3940 ]\n",
      "[epoch: 440] [loss:  0.4333 ] [train_acc:  0.8135 ] [val_acc:  0.8418 ] val_loss: [val_loss  0.3560 ]\n",
      "[epoch: 441] [loss:  0.4246 ] [train_acc:  0.8225 ] [val_acc:  0.8477 ] val_loss: [val_loss  0.3553 ]\n",
      "[epoch: 442] [loss:  0.4292 ] [train_acc:  0.8167 ] [val_acc:  0.8447 ] val_loss: [val_loss  0.3687 ]\n",
      "[epoch: 443] [loss:  0.4350 ] [train_acc:  0.8157 ] [val_acc:  0.8281 ] val_loss: [val_loss  0.3854 ]\n",
      "[epoch: 444] [loss:  0.4390 ] [train_acc:  0.8148 ] [val_acc:  0.8262 ] val_loss: [val_loss  0.3830 ]\n",
      "[epoch: 445] [loss:  0.4355 ] [train_acc:  0.8165 ] [val_acc:  0.8477 ] val_loss: [val_loss  0.3722 ]\n",
      "[epoch: 446] [loss:  0.4282 ] [train_acc:  0.8209 ] [val_acc:  0.8428 ] val_loss: [val_loss  0.3765 ]\n",
      "[epoch: 447] [loss:  0.4508 ] [train_acc:  0.8110 ] [val_acc:  0.8203 ] val_loss: [val_loss  0.4144 ]\n",
      "[epoch: 448] [loss:  0.4474 ] [train_acc:  0.8127 ] [val_acc:  0.8564 ] val_loss: [val_loss  0.3701 ]\n",
      "[epoch: 449] [loss:  0.4336 ] [train_acc:  0.8201 ] [val_acc:  0.8467 ] val_loss: [val_loss  0.3631 ]\n",
      "[epoch: 450] [loss:  0.4256 ] [train_acc:  0.8200 ] [val_acc:  0.8486 ] val_loss: [val_loss  0.3544 ]\n",
      "[epoch: 451] [loss:  0.4281 ] [train_acc:  0.8181 ] [val_acc:  0.8418 ] val_loss: [val_loss  0.3610 ]\n",
      "[epoch: 452] [loss:  0.4280 ] [train_acc:  0.8185 ] [val_acc:  0.8564 ] val_loss: [val_loss  0.3637 ]\n",
      "[epoch: 453] [loss:  0.4338 ] [train_acc:  0.8169 ] [val_acc:  0.8311 ] val_loss: [val_loss  0.3832 ]\n",
      "[epoch: 454] [loss:  0.4256 ] [train_acc:  0.8186 ] [val_acc:  0.8438 ] val_loss: [val_loss  0.3597 ]\n",
      "[epoch: 455] [loss:  0.4287 ] [train_acc:  0.8211 ] [val_acc:  0.8369 ] val_loss: [val_loss  0.3532 ]\n",
      "[epoch: 456] [loss:  0.4238 ] [train_acc:  0.8203 ] [val_acc:  0.8320 ] val_loss: [val_loss  0.3832 ]\n",
      "[epoch: 457] [loss:  0.4392 ] [train_acc:  0.8187 ] [val_acc:  0.8398 ] val_loss: [val_loss  0.3707 ]\n",
      "[epoch: 458] [loss:  0.4403 ] [train_acc:  0.8159 ] [val_acc:  0.8457 ] val_loss: [val_loss  0.3793 ]\n",
      "[epoch: 459] [loss:  0.4311 ] [train_acc:  0.8174 ] [val_acc:  0.8477 ] val_loss: [val_loss  0.3641 ]\n",
      "[epoch: 460] [loss:  0.4337 ] [train_acc:  0.8188 ] [val_acc:  0.8252 ] val_loss: [val_loss  0.3757 ]\n",
      "[epoch: 461] [loss:  0.4259 ] [train_acc:  0.8207 ] [val_acc:  0.8330 ] val_loss: [val_loss  0.3708 ]\n",
      "[epoch: 462] [loss:  0.4269 ] [train_acc:  0.8210 ] [val_acc:  0.8584 ] val_loss: [val_loss  0.3502 ]\n",
      "[epoch: 463] [loss:  0.4275 ] [train_acc:  0.8160 ] [val_acc:  0.8291 ] val_loss: [val_loss  0.3794 ]\n",
      "[epoch: 464] [loss:  0.4269 ] [train_acc:  0.8207 ] [val_acc:  0.8545 ] val_loss: [val_loss  0.3519 ]\n",
      "[epoch: 465] [loss:  0.4253 ] [train_acc:  0.8227 ] [val_acc:  0.8350 ] val_loss: [val_loss  0.3674 ]\n",
      "[epoch: 466] [loss:  0.4291 ] [train_acc:  0.8178 ] [val_acc:  0.8467 ] val_loss: [val_loss  0.3597 ]\n",
      "[epoch: 467] [loss:  0.4232 ] [train_acc:  0.8164 ] [val_acc:  0.8486 ] val_loss: [val_loss  0.3637 ]\n",
      "[epoch: 468] [loss:  0.4241 ] [train_acc:  0.8202 ] [val_acc:  0.8398 ] val_loss: [val_loss  0.3667 ]\n",
      "[epoch: 469] [loss:  0.4252 ] [train_acc:  0.8199 ] [val_acc:  0.8301 ] val_loss: [val_loss  0.3918 ]\n",
      "[epoch: 470] [loss:  0.4378 ] [train_acc:  0.8157 ] [val_acc:  0.8369 ] val_loss: [val_loss  0.3895 ]\n",
      "[epoch: 471] [loss:  0.4343 ] [train_acc:  0.8157 ] [val_acc:  0.8398 ] val_loss: [val_loss  0.3678 ]\n",
      "[epoch: 472] [loss:  0.4265 ] [train_acc:  0.8219 ] [val_acc:  0.8477 ] val_loss: [val_loss  0.3512 ]\n",
      "[epoch: 473] [loss:  0.4150 ] [train_acc:  0.8234 ] [val_acc:  0.8408 ] val_loss: [val_loss  0.3669 ]\n",
      "[epoch: 474] [loss:  0.4329 ] [train_acc:  0.8174 ] [val_acc:  0.8076 ] val_loss: [val_loss  0.4098 ]\n",
      "[epoch: 475] [loss:  0.4365 ] [train_acc:  0.8155 ] [val_acc:  0.8320 ] val_loss: [val_loss  0.3835 ]\n",
      "[epoch: 476] [loss:  0.4437 ] [train_acc:  0.8112 ] [val_acc:  0.8271 ] val_loss: [val_loss  0.4018 ]\n",
      "[epoch: 477] [loss:  0.4303 ] [train_acc:  0.8188 ] [val_acc:  0.8447 ] val_loss: [val_loss  0.3567 ]\n",
      "[epoch: 478] [loss:  0.4362 ] [train_acc:  0.8152 ] [val_acc:  0.8408 ] val_loss: [val_loss  0.3664 ]\n",
      "[epoch: 479] [loss:  0.4347 ] [train_acc:  0.8145 ] [val_acc:  0.8467 ] val_loss: [val_loss  0.3586 ]\n",
      "[epoch: 480] [loss:  0.4326 ] [train_acc:  0.8163 ] [val_acc:  0.8398 ] val_loss: [val_loss  0.3718 ]\n",
      "[epoch: 481] [loss:  0.4310 ] [train_acc:  0.8203 ] [val_acc:  0.8457 ] val_loss: [val_loss  0.3682 ]\n",
      "[epoch: 482] [loss:  0.4272 ] [train_acc:  0.8213 ] [val_acc:  0.8516 ] val_loss: [val_loss  0.3541 ]\n",
      "[epoch: 483] [loss:  0.4242 ] [train_acc:  0.8180 ] [val_acc:  0.8467 ] val_loss: [val_loss  0.3522 ]\n",
      "[epoch: 484] [loss:  0.4308 ] [train_acc:  0.8196 ] [val_acc:  0.8379 ] val_loss: [val_loss  0.3920 ]\n",
      "[epoch: 485] [loss:  0.4293 ] [train_acc:  0.8192 ] [val_acc:  0.8467 ] val_loss: [val_loss  0.3618 ]\n",
      "[epoch: 486] [loss:  0.4166 ] [train_acc:  0.8207 ] [val_acc:  0.8203 ] val_loss: [val_loss  0.3901 ]\n",
      "[epoch: 487] [loss:  0.4197 ] [train_acc:  0.8232 ] [val_acc:  0.8213 ] val_loss: [val_loss  0.3904 ]\n",
      "[epoch: 488] [loss:  0.4352 ] [train_acc:  0.8164 ] [val_acc:  0.8467 ] val_loss: [val_loss  0.3543 ]\n",
      "[epoch: 489] [loss:  0.4270 ] [train_acc:  0.8219 ] [val_acc:  0.8457 ] val_loss: [val_loss  0.3515 ]\n",
      "[epoch: 490] [loss:  0.4215 ] [train_acc:  0.8229 ] [val_acc:  0.8447 ] val_loss: [val_loss  0.3580 ]\n",
      "[epoch: 491] [loss:  0.4210 ] [train_acc:  0.8215 ] [val_acc:  0.8555 ] val_loss: [val_loss  0.3524 ]\n",
      "[epoch: 492] [loss:  0.4218 ] [train_acc:  0.8224 ] [val_acc:  0.8350 ] val_loss: [val_loss  0.3615 ]\n",
      "[epoch: 493] [loss:  0.4134 ] [train_acc:  0.8236 ] [val_acc:  0.8535 ] val_loss: [val_loss  0.3410 ]\n",
      "[epoch: 494] [loss:  0.4113 ] [train_acc:  0.8238 ] [val_acc:  0.8438 ] val_loss: [val_loss  0.3536 ]\n",
      "[epoch: 495] [loss:  0.4248 ] [train_acc:  0.8184 ] [val_acc:  0.8379 ] val_loss: [val_loss  0.3663 ]\n",
      "[epoch: 496] [loss:  0.4202 ] [train_acc:  0.8191 ] [val_acc:  0.8496 ] val_loss: [val_loss  0.3616 ]\n",
      "[epoch: 497] [loss:  0.4218 ] [train_acc:  0.8207 ] [val_acc:  0.8525 ] val_loss: [val_loss  0.3489 ]\n",
      "[epoch: 498] [loss:  0.4300 ] [train_acc:  0.8148 ] [val_acc:  0.8457 ] val_loss: [val_loss  0.3726 ]\n",
      "[epoch: 499] [loss:  0.4370 ] [train_acc:  0.8162 ] [val_acc:  0.8457 ] val_loss: [val_loss  0.3653 ]\n",
      "[epoch: 500] [loss:  0.4242 ] [train_acc:  0.8197 ] [val_acc:  0.8457 ] val_loss: [val_loss  0.3647 ]\n",
      "[epoch: 501] [loss:  0.4348 ] [train_acc:  0.8141 ] [val_acc:  0.8496 ] val_loss: [val_loss  0.3652 ]\n",
      "[epoch: 502] [loss:  0.4193 ] [train_acc:  0.8220 ] [val_acc:  0.8467 ] val_loss: [val_loss  0.3463 ]\n",
      "[epoch: 503] [loss:  0.4164 ] [train_acc:  0.8225 ] [val_acc:  0.8652 ] val_loss: [val_loss  0.3369 ]\n",
      "[epoch: 504] [loss:  0.4191 ] [train_acc:  0.8199 ] [val_acc:  0.8584 ] val_loss: [val_loss  0.3617 ]\n",
      "[epoch: 505] [loss:  0.4132 ] [train_acc:  0.8273 ] [val_acc:  0.8477 ] val_loss: [val_loss  0.3502 ]\n",
      "[epoch: 506] [loss:  0.4220 ] [train_acc:  0.8216 ] [val_acc:  0.8604 ] val_loss: [val_loss  0.3503 ]\n",
      "[epoch: 507] [loss:  0.4282 ] [train_acc:  0.8184 ] [val_acc:  0.8486 ] val_loss: [val_loss  0.3576 ]\n",
      "[epoch: 508] [loss:  0.4202 ] [train_acc:  0.8217 ] [val_acc:  0.8271 ] val_loss: [val_loss  0.3792 ]\n",
      "[epoch: 509] [loss:  0.4298 ] [train_acc:  0.8193 ] [val_acc:  0.8330 ] val_loss: [val_loss  0.3779 ]\n",
      "[epoch: 510] [loss:  0.4281 ] [train_acc:  0.8176 ] [val_acc:  0.8418 ] val_loss: [val_loss  0.3718 ]\n",
      "[epoch: 511] [loss:  0.4170 ] [train_acc:  0.8235 ] [val_acc:  0.8564 ] val_loss: [val_loss  0.3406 ]\n",
      "[epoch: 512] [loss:  0.4134 ] [train_acc:  0.8196 ] [val_acc:  0.8584 ] val_loss: [val_loss  0.3402 ]\n",
      "[epoch: 513] [loss:  0.4229 ] [train_acc:  0.8202 ] [val_acc:  0.8574 ] val_loss: [val_loss  0.3543 ]\n",
      "[epoch: 514] [loss:  0.4101 ] [train_acc:  0.8274 ] [val_acc:  0.8584 ] val_loss: [val_loss  0.3445 ]\n",
      "[epoch: 515] [loss:  0.4068 ] [train_acc:  0.8275 ] [val_acc:  0.8633 ] val_loss: [val_loss  0.3288 ]\n",
      "[epoch: 516] [loss:  0.4102 ] [train_acc:  0.8266 ] [val_acc:  0.8535 ] val_loss: [val_loss  0.3412 ]\n",
      "[epoch: 517] [loss:  0.4233 ] [train_acc:  0.8213 ] [val_acc:  0.8467 ] val_loss: [val_loss  0.3546 ]\n",
      "[epoch: 518] [loss:  0.4168 ] [train_acc:  0.8238 ] [val_acc:  0.8496 ] val_loss: [val_loss  0.3652 ]\n",
      "[epoch: 519] [loss:  0.4175 ] [train_acc:  0.8229 ] [val_acc:  0.8545 ] val_loss: [val_loss  0.3374 ]\n",
      "[epoch: 520] [loss:  0.4106 ] [train_acc:  0.8249 ] [val_acc:  0.8555 ] val_loss: [val_loss  0.3441 ]\n",
      "[epoch: 521] [loss:  0.4170 ] [train_acc:  0.8234 ] [val_acc:  0.8467 ] val_loss: [val_loss  0.3456 ]\n",
      "[epoch: 522] [loss:  0.4090 ] [train_acc:  0.8264 ] [val_acc:  0.8594 ] val_loss: [val_loss  0.3364 ]\n",
      "[epoch: 523] [loss:  0.4271 ] [train_acc:  0.8215 ] [val_acc:  0.8291 ] val_loss: [val_loss  0.3727 ]\n",
      "[epoch: 524] [loss:  0.4290 ] [train_acc:  0.8206 ] [val_acc:  0.8408 ] val_loss: [val_loss  0.3784 ]\n",
      "[epoch: 525] [loss:  0.4130 ] [train_acc:  0.8238 ] [val_acc:  0.8350 ] val_loss: [val_loss  0.3728 ]\n",
      "[epoch: 526] [loss:  0.4250 ] [train_acc:  0.8204 ] [val_acc:  0.8594 ] val_loss: [val_loss  0.3437 ]\n",
      "[epoch: 527] [loss:  0.4215 ] [train_acc:  0.8184 ] [val_acc:  0.8613 ] val_loss: [val_loss  0.3316 ]\n",
      "[epoch: 528] [loss:  0.4139 ] [train_acc:  0.8245 ] [val_acc:  0.8613 ] val_loss: [val_loss  0.3582 ]\n",
      "[epoch: 529] [loss:  0.4139 ] [train_acc:  0.8227 ] [val_acc:  0.8447 ] val_loss: [val_loss  0.3719 ]\n",
      "[epoch: 530] [loss:  0.4348 ] [train_acc:  0.8179 ] [val_acc:  0.8389 ] val_loss: [val_loss  0.3686 ]\n",
      "[epoch: 531] [loss:  0.4089 ] [train_acc:  0.8263 ] [val_acc:  0.8467 ] val_loss: [val_loss  0.3412 ]\n",
      "[epoch: 532] [loss:  0.4159 ] [train_acc:  0.8237 ] [val_acc:  0.8486 ] val_loss: [val_loss  0.3472 ]\n",
      "[epoch: 533] [loss:  0.4090 ] [train_acc:  0.8247 ] [val_acc:  0.8506 ] val_loss: [val_loss  0.3431 ]\n",
      "[epoch: 534] [loss:  0.4153 ] [train_acc:  0.8257 ] [val_acc:  0.8311 ] val_loss: [val_loss  0.3663 ]\n",
      "[epoch: 535] [loss:  0.4166 ] [train_acc:  0.8197 ] [val_acc:  0.8516 ] val_loss: [val_loss  0.3446 ]\n",
      "[epoch: 536] [loss:  0.4033 ] [train_acc:  0.8279 ] [val_acc:  0.8477 ] val_loss: [val_loss  0.3500 ]\n",
      "[epoch: 537] [loss:  0.4013 ] [train_acc:  0.8290 ] [val_acc:  0.8613 ] val_loss: [val_loss  0.3347 ]\n",
      "[epoch: 538] [loss:  0.4202 ] [train_acc:  0.8248 ] [val_acc:  0.8428 ] val_loss: [val_loss  0.3573 ]\n",
      "[epoch: 539] [loss:  0.4105 ] [train_acc:  0.8234 ] [val_acc:  0.8555 ] val_loss: [val_loss  0.3509 ]\n",
      "[epoch: 540] [loss:  0.4173 ] [train_acc:  0.8223 ] [val_acc:  0.8477 ] val_loss: [val_loss  0.3386 ]\n",
      "[epoch: 541] [loss:  0.4085 ] [train_acc:  0.8241 ] [val_acc:  0.8486 ] val_loss: [val_loss  0.3486 ]\n",
      "[epoch: 542] [loss:  0.4110 ] [train_acc:  0.8214 ] [val_acc:  0.8398 ] val_loss: [val_loss  0.3622 ]\n",
      "[epoch: 543] [loss:  0.4086 ] [train_acc:  0.8242 ] [val_acc:  0.8623 ] val_loss: [val_loss  0.3319 ]\n",
      "[epoch: 544] [loss:  0.4041 ] [train_acc:  0.8259 ] [val_acc:  0.8496 ] val_loss: [val_loss  0.3482 ]\n",
      "[epoch: 545] [loss:  0.4085 ] [train_acc:  0.8307 ] [val_acc:  0.8564 ] val_loss: [val_loss  0.3466 ]\n",
      "[epoch: 546] [loss:  0.4050 ] [train_acc:  0.8267 ] [val_acc:  0.8604 ] val_loss: [val_loss  0.3310 ]\n",
      "[epoch: 547] [loss:  0.4197 ] [train_acc:  0.8247 ] [val_acc:  0.8262 ] val_loss: [val_loss  0.4075 ]\n",
      "[epoch: 548] [loss:  0.4221 ] [train_acc:  0.8197 ] [val_acc:  0.8555 ] val_loss: [val_loss  0.3584 ]\n",
      "[epoch: 549] [loss:  0.4245 ] [train_acc:  0.8208 ] [val_acc:  0.8457 ] val_loss: [val_loss  0.3514 ]\n",
      "[epoch: 550] [loss:  0.4160 ] [train_acc:  0.8231 ] [val_acc:  0.8535 ] val_loss: [val_loss  0.3443 ]\n",
      "[epoch: 551] [loss:  0.3992 ] [train_acc:  0.8279 ] [val_acc:  0.8340 ] val_loss: [val_loss  0.3601 ]\n",
      "[epoch: 552] [loss:  0.4033 ] [train_acc:  0.8279 ] [val_acc:  0.8545 ] val_loss: [val_loss  0.3520 ]\n",
      "[epoch: 553] [loss:  0.4207 ] [train_acc:  0.8188 ] [val_acc:  0.8584 ] val_loss: [val_loss  0.3417 ]\n",
      "[epoch: 554] [loss:  0.4086 ] [train_acc:  0.8247 ] [val_acc:  0.8623 ] val_loss: [val_loss  0.3338 ]\n",
      "[epoch: 555] [loss:  0.4030 ] [train_acc:  0.8270 ] [val_acc:  0.8477 ] val_loss: [val_loss  0.3433 ]\n",
      "[epoch: 556] [loss:  0.3991 ] [train_acc:  0.8316 ] [val_acc:  0.8506 ] val_loss: [val_loss  0.3500 ]\n",
      "[epoch: 557] [loss:  0.4033 ] [train_acc:  0.8257 ] [val_acc:  0.8213 ] val_loss: [val_loss  0.3947 ]\n",
      "[epoch: 558] [loss:  0.4222 ] [train_acc:  0.8223 ] [val_acc:  0.8545 ] val_loss: [val_loss  0.3479 ]\n",
      "[epoch: 559] [loss:  0.4130 ] [train_acc:  0.8237 ] [val_acc:  0.8545 ] val_loss: [val_loss  0.3690 ]\n",
      "[epoch: 560] [loss:  0.4238 ] [train_acc:  0.8242 ] [val_acc:  0.8184 ] val_loss: [val_loss  0.3706 ]\n",
      "[epoch: 561] [loss:  0.4235 ] [train_acc:  0.8241 ] [val_acc:  0.8408 ] val_loss: [val_loss  0.3729 ]\n",
      "[epoch: 562] [loss:  0.4202 ] [train_acc:  0.8197 ] [val_acc:  0.8281 ] val_loss: [val_loss  0.3762 ]\n",
      "[epoch: 563] [loss:  0.4258 ] [train_acc:  0.8195 ] [val_acc:  0.8320 ] val_loss: [val_loss  0.3721 ]\n",
      "[epoch: 564] [loss:  0.4152 ] [train_acc:  0.8232 ] [val_acc:  0.8672 ] val_loss: [val_loss  0.3342 ]\n",
      "[epoch: 565] [loss:  0.4014 ] [train_acc:  0.8288 ] [val_acc:  0.8584 ] val_loss: [val_loss  0.3344 ]\n",
      "[epoch: 566] [loss:  0.4100 ] [train_acc:  0.8254 ] [val_acc:  0.8477 ] val_loss: [val_loss  0.3426 ]\n",
      "[epoch: 567] [loss:  0.4166 ] [train_acc:  0.8253 ] [val_acc:  0.8535 ] val_loss: [val_loss  0.3478 ]\n",
      "[epoch: 568] [loss:  0.3999 ] [train_acc:  0.8317 ] [val_acc:  0.8506 ] val_loss: [val_loss  0.3409 ]\n",
      "[epoch: 569] [loss:  0.4090 ] [train_acc:  0.8228 ] [val_acc:  0.8545 ] val_loss: [val_loss  0.3483 ]\n",
      "[epoch: 570] [loss:  0.3975 ] [train_acc:  0.8280 ] [val_acc:  0.8496 ] val_loss: [val_loss  0.3503 ]\n",
      "[epoch: 571] [loss:  0.3983 ] [train_acc:  0.8299 ] [val_acc:  0.8633 ] val_loss: [val_loss  0.3329 ]\n",
      "[epoch: 572] [loss:  0.4024 ] [train_acc:  0.8292 ] [val_acc:  0.8418 ] val_loss: [val_loss  0.3548 ]\n",
      "[epoch: 573] [loss:  0.4057 ] [train_acc:  0.8253 ] [val_acc:  0.8506 ] val_loss: [val_loss  0.3458 ]\n",
      "[epoch: 574] [loss:  0.4078 ] [train_acc:  0.8271 ] [val_acc:  0.8428 ] val_loss: [val_loss  0.3432 ]\n",
      "[epoch: 575] [loss:  0.4032 ] [train_acc:  0.8276 ] [val_acc:  0.8584 ] val_loss: [val_loss  0.3376 ]\n",
      "[epoch: 576] [loss:  0.4049 ] [train_acc:  0.8258 ] [val_acc:  0.8701 ] val_loss: [val_loss  0.3296 ]\n",
      "[epoch: 577] [loss:  0.4046 ] [train_acc:  0.8305 ] [val_acc:  0.8408 ] val_loss: [val_loss  0.3608 ]\n",
      "[epoch: 578] [loss:  0.4057 ] [train_acc:  0.8239 ] [val_acc:  0.8428 ] val_loss: [val_loss  0.3501 ]\n",
      "[epoch: 579] [loss:  0.4238 ] [train_acc:  0.8176 ] [val_acc:  0.8555 ] val_loss: [val_loss  0.3415 ]\n",
      "[epoch: 580] [loss:  0.4190 ] [train_acc:  0.8223 ] [val_acc:  0.8486 ] val_loss: [val_loss  0.3596 ]\n",
      "[epoch: 581] [loss:  0.4054 ] [train_acc:  0.8271 ] [val_acc:  0.8525 ] val_loss: [val_loss  0.3478 ]\n",
      "[epoch: 582] [loss:  0.4078 ] [train_acc:  0.8257 ] [val_acc:  0.8398 ] val_loss: [val_loss  0.3662 ]\n",
      "[epoch: 583] [loss:  0.4113 ] [train_acc:  0.8278 ] [val_acc:  0.8535 ] val_loss: [val_loss  0.3450 ]\n",
      "[epoch: 584] [loss:  0.4036 ] [train_acc:  0.8275 ] [val_acc:  0.8447 ] val_loss: [val_loss  0.3543 ]\n",
      "[epoch: 585] [loss:  0.4007 ] [train_acc:  0.8268 ] [val_acc:  0.8623 ] val_loss: [val_loss  0.3292 ]\n",
      "[epoch: 586] [loss:  0.4052 ] [train_acc:  0.8279 ] [val_acc:  0.8525 ] val_loss: [val_loss  0.3418 ]\n",
      "[epoch: 587] [loss:  0.4030 ] [train_acc:  0.8285 ] [val_acc:  0.8633 ] val_loss: [val_loss  0.3355 ]\n",
      "[epoch: 588] [loss:  0.4051 ] [train_acc:  0.8285 ] [val_acc:  0.8516 ] val_loss: [val_loss  0.3354 ]\n",
      "[epoch: 589] [loss:  0.4036 ] [train_acc:  0.8295 ] [val_acc:  0.8467 ] val_loss: [val_loss  0.3497 ]\n",
      "[epoch: 590] [loss:  0.4081 ] [train_acc:  0.8298 ] [val_acc:  0.8496 ] val_loss: [val_loss  0.3467 ]\n",
      "[epoch: 591] [loss:  0.3982 ] [train_acc:  0.8290 ] [val_acc:  0.8525 ] val_loss: [val_loss  0.3476 ]\n",
      "[epoch: 592] [loss:  0.4018 ] [train_acc:  0.8277 ] [val_acc:  0.8398 ] val_loss: [val_loss  0.3426 ]\n",
      "[epoch: 593] [loss:  0.4003 ] [train_acc:  0.8291 ] [val_acc:  0.8555 ] val_loss: [val_loss  0.3462 ]\n",
      "[epoch: 594] [loss:  0.4074 ] [train_acc:  0.8247 ] [val_acc:  0.8467 ] val_loss: [val_loss  0.3542 ]\n",
      "[epoch: 595] [loss:  0.3997 ] [train_acc:  0.8248 ] [val_acc:  0.8457 ] val_loss: [val_loss  0.3523 ]\n",
      "[epoch: 596] [loss:  0.4033 ] [train_acc:  0.8276 ] [val_acc:  0.8496 ] val_loss: [val_loss  0.3403 ]\n",
      "[epoch: 597] [loss:  0.3978 ] [train_acc:  0.8274 ] [val_acc:  0.8613 ] val_loss: [val_loss  0.3365 ]\n",
      "[epoch: 598] [loss:  0.4019 ] [train_acc:  0.8284 ] [val_acc:  0.8457 ] val_loss: [val_loss  0.3521 ]\n",
      "[epoch: 599] [loss:  0.4134 ] [train_acc:  0.8266 ] [val_acc:  0.8467 ] val_loss: [val_loss  0.3657 ]\n",
      "[epoch: 600] [loss:  0.4056 ] [train_acc:  0.8250 ] [val_acc:  0.8408 ] val_loss: [val_loss  0.3543 ]\n"
     ]
    }
   ],
   "source": [
    "# model.load_state_dict(torch.load()))\n",
    "# model.to(DEVICE)\n",
    "trained_model = train(\n",
    "    model,\n",
    "    train_loader,\n",
    "    valid_loader,\n",
    "    loss_func,\n",
    "    num_epochs,\n",
    "    lr = lr,\n",
    "    batch_size=BATCH_SIZE,\n",
    "    warmup_interval=warmup_interval,\n",
    "    device=DEVICE\n",
    ")\n",
    "weights_path = os.path.join('/kaggle/working/', \"transformer.pt\")\n",
    "torch.save(trained_model.state_dict(), weights_path)"
   ]
  },
  {
   "cell_type": "code",
   "execution_count": 35,
   "id": "7db504d4",
   "metadata": {
    "execution": {
     "iopub.execute_input": "2024-05-10T16:16:09.560702Z",
     "iopub.status.busy": "2024-05-10T16:16:09.560196Z",
     "iopub.status.idle": "2024-05-10T16:16:09.776704Z",
     "shell.execute_reply": "2024-05-10T16:16:09.775694Z"
    },
    "papermill": {
     "duration": 0.291737,
     "end_time": "2024-05-10T16:16:09.778604",
     "exception": false,
     "start_time": "2024-05-10T16:16:09.486867",
     "status": "completed"
    },
    "tags": []
   },
   "outputs": [
    {
     "name": "stdout",
     "output_type": "stream",
     "text": [
      "Final Model accuracy:  0.84\n"
     ]
    }
   ],
   "source": [
    "#Final test accuracy\n",
    "print(\n",
    "    \"Final Model accuracy: \",\n",
    "    \"{:.2f}\".format(\n",
    "        val(\n",
    "            trained_model, test_loader, CrossEntropyLoss, 4, device=DEVICE\n",
    "        )[1]\n",
    "    ),\n",
    ")\n",
    "\n",
    "# model.load_state_dict(torch.load(weights_path))\n",
    "# model.to(DEVICE)"
   ]
  },
  {
   "cell_type": "markdown",
   "id": "e2a6ee12",
   "metadata": {
    "papermill": {
     "duration": 0.071388,
     "end_time": "2024-05-10T16:16:09.922677",
     "exception": false,
     "start_time": "2024-05-10T16:16:09.851289",
     "status": "completed"
    },
    "tags": []
   },
   "source": [
    "请自行调节模型训练的超参数、优化器等，使得模型在测试集上的准确率尽可能高。\n",
    "\n",
    "分段给分（计分时准确率四舍五入保留到小数点后2位，例如0.623计为0.62）：\n",
    "\n",
    "| Baseline  | Accuracy        | Score  |\n",
    "| :---:     |    :----:       |  :---: |\n",
    "| Vallina   | \\[0.50, 0.63\\]  |   12   |\n",
    "| Simple    | [0.63, 0.70\\)   |   14   |\n",
    "| Medium    | [0.70, 0.74\\)   |   16   |\n",
    "| Hard      | [0.74, 0.80\\)   |   20   |\n",
    "| Strong    | [0.80, 1.00\\)   |   25   |"
   ]
  },
  {
   "cell_type": "markdown",
   "id": "e11aac12",
   "metadata": {
    "id": "c19615d0-9b82-42ac-ba28-e079ca96aed2",
    "papermill": {
     "duration": 0.072789,
     "end_time": "2024-05-10T16:16:10.066667",
     "exception": false,
     "start_time": "2024-05-10T16:16:09.993878",
     "status": "completed"
    },
    "tags": []
   },
   "source": [
    "## 可视化与推断：模型展示"
   ]
  },
  {
   "cell_type": "markdown",
   "id": "2ee892e1",
   "metadata": {
    "id": "3f413c17-ede5-4d4d-a1fa-54458ca948c5",
    "papermill": {
     "duration": 0.071823,
     "end_time": "2024-05-10T16:16:10.211287",
     "exception": false,
     "start_time": "2024-05-10T16:16:10.139464",
     "status": "completed"
    },
    "tags": []
   },
   "source": [
    "既然我们已经训练了一个模型，让我们来看看最终的结果。我们将首先查看来自验证数据的结果，并可视化注意力权重（记住self.weights_softmax吗？）。这些注意力权重应该让你对网络学习到了什么有一些直觉。我们已经为您实现了所有内容，意图是帮助您探索模型并了解网络学习到了什么。"
   ]
  },
  {
   "cell_type": "code",
   "execution_count": 36,
   "id": "da8d5fe1",
   "metadata": {
    "execution": {
     "iopub.execute_input": "2024-05-10T16:16:10.356589Z",
     "iopub.status.busy": "2024-05-10T16:16:10.356228Z",
     "iopub.status.idle": "2024-05-10T16:16:10.363985Z",
     "shell.execute_reply": "2024-05-10T16:16:10.363115Z"
    },
    "id": "c39117ef-da8b-4fb0-904b-c5c4c37fc800",
    "papermill": {
     "duration": 0.08265,
     "end_time": "2024-05-10T16:16:10.365860",
     "exception": false,
     "start_time": "2024-05-10T16:16:10.283210",
     "status": "completed"
    },
    "tags": []
   },
   "outputs": [],
   "source": [
    "def inference(model, inp_exp, inp_exp_pos, out_pos_exp, out_seq_len):\n",
    "    model.eval()\n",
    "    y_init = torch.LongTensor([14]).unsqueeze(0).cuda().view(1, 1)\n",
    "\n",
    "    ques_emb = model.emb_layer(inp_exp)\n",
    "    q_emb_inp = ques_emb + inp_exp_pos\n",
    "    enc_out = model.encoder(q_emb_inp)\n",
    "    for i in range(out_seq_len - 1):\n",
    "        ans_emb = model.emb_layer(y_init)\n",
    "        a_emb_inp = ans_emb + out_pos_exp[:, : y_init.shape[1], :]\n",
    "        dec_out = model.decoder(a_emb_inp, enc_out, None)\n",
    "        _, next_word = torch.max(\n",
    "            dec_out[0, y_init.shape[1] - 1 : y_init.shape[1]], dim=1\n",
    "        )\n",
    "\n",
    "        y_init = torch.cat([y_init, next_word.view(1, 1)], dim=1)\n",
    "    return y_init, model"
   ]
  },
  {
   "cell_type": "markdown",
   "id": "ce75c083",
   "metadata": {
    "id": "137296b8-8ab8-4f9d-bff5-e2584370a757",
    "papermill": {
     "duration": 0.071792,
     "end_time": "2024-05-10T16:16:10.510020",
     "exception": false,
     "start_time": "2024-05-10T16:16:10.438228",
     "status": "completed"
    },
    "tags": []
   },
   "source": [
    "### 验证数据的结果\n",
    "\n",
    "在下面的单元格中，我们选择验证数据中的第一个数据点，并找到其结果。"
   ]
  },
  {
   "cell_type": "code",
   "execution_count": 37,
   "id": "759ad89c",
   "metadata": {
    "execution": {
     "iopub.execute_input": "2024-05-10T16:16:10.655433Z",
     "iopub.status.busy": "2024-05-10T16:16:10.654737Z",
     "iopub.status.idle": "2024-05-10T16:16:10.779422Z",
     "shell.execute_reply": "2024-05-10T16:16:10.778419Z"
    },
    "id": "37c01cc4-96b0-4a4e-a820-64e5c2dd5549",
    "papermill": {
     "duration": 0.199542,
     "end_time": "2024-05-10T16:16:10.781344",
     "exception": false,
     "start_time": "2024-05-10T16:16:10.581802",
     "status": "completed"
    },
    "tags": []
   },
   "outputs": [
    {
     "name": "stdout",
     "output_type": "stream",
     "text": [
      "Input sequence: \n",
      " BOS POSITIVE 28 add POSITIVE 16 EOS\n"
     ]
    }
   ],
   "source": [
    "for it in valid_loader:\n",
    "    it\n",
    "    break\n",
    "inp, inp_pos, out, out_pos = it\n",
    "opposite_tokens_to_str = {v: k for k, v in convert_str_to_tokens.items()}\n",
    "device = torch.device(\"cuda\")\n",
    "model = model.to(device)\n",
    "inp_pos = inp_pos.to(device)\n",
    "out_pos = out_pos.to(device)\n",
    "out = out.to(device)\n",
    "inp = inp.to(device)\n",
    "\n",
    "inp_exp = inp[:1, :]\n",
    "inp_exp_pos = inp_pos[:1]\n",
    "out_pos_exp = out_pos[:1, :]\n",
    "inp_seq = [opposite_tokens_to_str[w.item()] for w in inp_exp[0]]\n",
    "print(\n",
    "    \"Input sequence: \\n\",\n",
    "    inp_seq[0]\n",
    "    + \" \"\n",
    "    + inp_seq[1]\n",
    "    + \" \"\n",
    "    + inp_seq[2]\n",
    "    + inp_seq[3]\n",
    "    + \" \"\n",
    "    + inp_seq[4]\n",
    "    + \" \"\n",
    "    + inp_seq[5]\n",
    "    + \" \"\n",
    "    + inp_seq[6]\n",
    "    + inp_seq[7]\n",
    "    + \" \"\n",
    "    + inp_seq[8],\n",
    ")"
   ]
  },
  {
   "cell_type": "code",
   "execution_count": 38,
   "id": "7f049604",
   "metadata": {
    "execution": {
     "iopub.execute_input": "2024-05-10T16:16:10.927513Z",
     "iopub.status.busy": "2024-05-10T16:16:10.926938Z",
     "iopub.status.idle": "2024-05-10T16:16:11.159204Z",
     "shell.execute_reply": "2024-05-10T16:16:11.158236Z"
    },
    "id": "ab535f1d-3be0-40ef-a0fd-8fca2fae2414",
    "papermill": {
     "duration": 0.30757,
     "end_time": "2024-05-10T16:16:11.161333",
     "exception": false,
     "start_time": "2024-05-10T16:16:10.853763",
     "status": "completed"
    },
    "tags": []
   },
   "outputs": [
    {
     "name": "stdout",
     "output_type": "stream",
     "text": [
      "Output Sequence:\tBOS POSITIVE 0 5 \n"
     ]
    }
   ],
   "source": [
    "out_seq_ans, _ = inference(\n",
    "    trained_model, inp_exp, inp_exp_pos, out_pos_exp, out_seq_len\n",
    ")\n",
    "\n",
    "trained_model.eval()\n",
    "\n",
    "print(\"Output Sequence:\", end=\"\\t\")\n",
    "res = \"BOS \"\n",
    "for i in range(1, out_seq_ans.size(1)):\n",
    "    sym = opposite_tokens_to_str[out_seq_ans[0, i].item()]\n",
    "    if sym == \"EOS\":\n",
    "        break\n",
    "    res += sym + \" \" \n",
    "print(res)"
   ]
  },
  {
   "cell_type": "markdown",
   "id": "dafefce5",
   "metadata": {
    "id": "3412c073-d239-450a-aa46-9ec3d61309a6",
    "papermill": {
     "duration": 0.07259,
     "end_time": "2024-05-10T16:16:11.313389",
     "exception": false,
     "start_time": "2024-05-10T16:16:11.240799",
     "status": "completed"
    },
    "tags": []
   },
   "source": [
    "### 选择您自己的探索示例\n",
    "\n",
    "在下面的单元格中，您可以输入一个示例到输入样式中，更改变量 `custom_seq`。我们已经为您填写了一个占位表达式，但随意更改它。"
   ]
  },
  {
   "cell_type": "code",
   "execution_count": 39,
   "id": "6561bf2b",
   "metadata": {
    "execution": {
     "iopub.execute_input": "2024-05-10T16:16:11.465754Z",
     "iopub.status.busy": "2024-05-10T16:16:11.465391Z",
     "iopub.status.idle": "2024-05-10T16:16:11.470588Z",
     "shell.execute_reply": "2024-05-10T16:16:11.469768Z"
    },
    "id": "d7d2f3b1-ba94-4ccf-84e3-f3238059f25d",
    "papermill": {
     "duration": 0.08212,
     "end_time": "2024-05-10T16:16:11.472557",
     "exception": false,
     "start_time": "2024-05-10T16:16:11.390437",
     "status": "completed"
    },
    "tags": []
   },
   "outputs": [],
   "source": [
    "custom_seq = \"BOS POSITIVE 02 subtract NEGATIVE 07 EOS\""
   ]
  },
  {
   "cell_type": "code",
   "execution_count": 40,
   "id": "86b748c1",
   "metadata": {
    "execution": {
     "iopub.execute_input": "2024-05-10T16:16:11.619602Z",
     "iopub.status.busy": "2024-05-10T16:16:11.618649Z",
     "iopub.status.idle": "2024-05-10T16:16:11.802894Z",
     "shell.execute_reply": "2024-05-10T16:16:11.801890Z"
    },
    "id": "3caa768d-f61f-4ee4-8e87-259043e93cdb",
    "papermill": {
     "duration": 0.260003,
     "end_time": "2024-05-10T16:16:11.804995",
     "exception": false,
     "start_time": "2024-05-10T16:16:11.544992",
     "status": "completed"
    },
    "tags": []
   },
   "outputs": [
    {
     "name": "stdout",
     "output_type": "stream",
     "text": [
      "Output Sequence:\tBOS POSITIVE 0 POSITIVE \n"
     ]
    }
   ],
   "source": [
    "out = prepocess_input_sequence(custom_seq, convert_str_to_tokens, SPECIAL_TOKENS)\n",
    "inp_exp = torch.tensor(out).to(DEVICE)\n",
    "\n",
    "out_seq_ans, model_for_visv = inference(\n",
    "    trained_model, inp_exp, inp_exp_pos, out_pos_exp, out_seq_len\n",
    ")\n",
    "\n",
    "trained_model.eval()\n",
    "\n",
    "print(\"Output Sequence:\", end=\"\\t\")\n",
    "res = \"BOS \"\n",
    "for i in range(1, out_seq_ans.size(1)):\n",
    "    sym = opposite_tokens_to_str[out_seq_ans[0, i].item()]\n",
    "    if sym == \"EOS\":\n",
    "        break\n",
    "    res += sym + \" \"\n",
    "print(res)"
   ]
  },
  {
   "cell_type": "markdown",
   "id": "28745d39",
   "metadata": {
    "id": "0b9ae8cd-2813-4845-a4df-d47ebdc60971",
    "papermill": {
     "duration": 0.073843,
     "end_time": "2024-05-10T16:16:11.951998",
     "exception": false,
     "start_time": "2024-05-10T16:16:11.878155",
     "status": "completed"
    },
    "tags": []
   },
   "source": [
    "### 可视化注意力权重\n",
    "\n",
    "在这部分中，我们将为您输入的特定自定义输入可视化注意力权重。编码器和解码器有单独的热图。颜色中的较浅值显示了该行和列中存在的令牌之间的较高关联，而较暗的颜色则显示它们之间的关系较弱。"
   ]
  },
  {
   "cell_type": "code",
   "execution_count": 41,
   "id": "8580b8b0",
   "metadata": {
    "execution": {
     "iopub.execute_input": "2024-05-10T16:16:12.099238Z",
     "iopub.status.busy": "2024-05-10T16:16:12.098554Z",
     "iopub.status.idle": "2024-05-10T16:16:12.103702Z",
     "shell.execute_reply": "2024-05-10T16:16:12.102825Z"
    },
    "id": "8e82ff56-d55b-45b7-8507-514ee5968ed5",
    "papermill": {
     "duration": 0.081006,
     "end_time": "2024-05-10T16:16:12.105540",
     "exception": false,
     "start_time": "2024-05-10T16:16:12.024534",
     "status": "completed"
    },
    "tags": []
   },
   "outputs": [],
   "source": [
    "def draw(data, x, y, ax):\n",
    "    seaborn.heatmap(\n",
    "        data,\n",
    "        xticklabels=x,\n",
    "        square=True,\n",
    "        yticklabels=y,\n",
    "        vmin=0.0,\n",
    "        vmax=1.0,\n",
    "        cbar=False,\n",
    "        ax=ax,\n",
    "    )"
   ]
  },
  {
   "cell_type": "code",
   "execution_count": 42,
   "id": "a929d92b",
   "metadata": {
    "execution": {
     "iopub.execute_input": "2024-05-10T16:16:12.252578Z",
     "iopub.status.busy": "2024-05-10T16:16:12.252254Z",
     "iopub.status.idle": "2024-05-10T16:16:12.256328Z",
     "shell.execute_reply": "2024-05-10T16:16:12.255468Z"
    },
    "id": "db22789f",
    "papermill": {
     "duration": 0.079713,
     "end_time": "2024-05-10T16:16:12.258160",
     "exception": false,
     "start_time": "2024-05-10T16:16:12.178447",
     "status": "completed"
    },
    "tags": []
   },
   "outputs": [],
   "source": [
    "target_exp = res.split()"
   ]
  },
  {
   "cell_type": "code",
   "execution_count": 43,
   "id": "4aecc604",
   "metadata": {
    "execution": {
     "iopub.execute_input": "2024-05-10T16:16:12.403250Z",
     "iopub.status.busy": "2024-05-10T16:16:12.402459Z",
     "iopub.status.idle": "2024-05-10T16:16:33.705846Z",
     "shell.execute_reply": "2024-05-10T16:16:33.704814Z"
    },
    "id": "9cae7e26-2587-4297-a44c-c59ab541dfc8",
    "papermill": {
     "duration": 21.377822,
     "end_time": "2024-05-10T16:16:33.707787",
     "exception": false,
     "start_time": "2024-05-10T16:16:12.329965",
     "status": "completed"
    },
    "tags": []
   },
   "outputs": [
    {
     "name": "stdout",
     "output_type": "stream",
     "text": [
      "Encoder Block Number 1\n"
     ]
    },
    {
     "data": {
      "image/png": "[encoded data removed]",
      "text/plain": [
       "<Figure size 2000x1000 with 16 Axes>"
      ]
     },
     "metadata": {},
     "output_type": "display_data"
    },
    {
     "name": "stdout",
     "output_type": "stream",
     "text": [
      "Encoder Block Number 2\n"
     ]
    },
    {
     "data": {
      "image/png": "[encoded data removed]",
      "text/plain": [
       "<Figure size 2000x1000 with 16 Axes>"
      ]
     },
     "metadata": {},
     "output_type": "display_data"
    },
    {
     "name": "stdout",
     "output_type": "stream",
     "text": [
      "Encoder Block Number 3\n"
     ]
    },
    {
     "data": {
      "image/png": "[encoded data removed]",
      "text/plain": [
       "<Figure size 2000x1000 with 16 Axes>"
      ]
     },
     "metadata": {},
     "output_type": "display_data"
    },
    {
     "name": "stdout",
     "output_type": "stream",
     "text": [
      "Encoder Block Number 4\n"
     ]
    },
    {
     "data": {
      "image/png": "[encoded data removed]",
      "text/plain": [
       "<Figure size 2000x1000 with 16 Axes>"
      ]
     },
     "metadata": {},
     "output_type": "display_data"
    }
   ],
   "source": [
    "for layer in range(num_enc_layers):\n",
    "    fig, axs = plt.subplots(1, num_heads, figsize=(20, 10))\n",
    "    print(\"Encoder Block Number\", layer + 1)\n",
    "    for h in range(num_heads):\n",
    "        draw(\n",
    "            trained_model.encoder.layers[layer]\n",
    "            .multihead_attention.heads[h]\n",
    "            .weights_softmax.data.cpu()\n",
    "            .numpy()[0],\n",
    "            inp_seq,\n",
    "            inp_seq if h == 0 else [],\n",
    "            ax=axs[h],\n",
    "        )\n",
    "    plt.show()\n",
    "plt.close()\n"
   ]
  },
  {
   "cell_type": "code",
   "execution_count": 44,
   "id": "9010334a",
   "metadata": {
    "execution": {
     "iopub.execute_input": "2024-05-10T16:16:33.859427Z",
     "iopub.status.busy": "2024-05-10T16:16:33.858844Z",
     "iopub.status.idle": "2024-05-10T16:17:11.248492Z",
     "shell.execute_reply": "2024-05-10T16:17:11.247603Z"
    },
    "id": "be6ba6cb",
    "papermill": {
     "duration": 37.467118,
     "end_time": "2024-05-10T16:17:11.250568",
     "exception": false,
     "start_time": "2024-05-10T16:16:33.783450",
     "status": "completed"
    },
    "tags": []
   },
   "outputs": [
    {
     "name": "stdout",
     "output_type": "stream",
     "text": [
      "Decoder Block number  1\n",
      "Decoder Self Attention 1\n"
     ]
    },
    {
     "data": {
      "image/png": "[encoded data removed]",
      "text/plain": [
       "<Figure size 2000x1000 with 16 Axes>"
      ]
     },
     "metadata": {},
     "output_type": "display_data"
    },
    {
     "name": "stdout",
     "output_type": "stream",
     "text": [
      "Decoder Cross attention 1\n"
     ]
    },
    {
     "data": {
      "image/png": "[encoded data removed]",
      "text/plain": [
       "<Figure size 2000x1000 with 16 Axes>"
      ]
     },
     "metadata": {},
     "output_type": "display_data"
    },
    {
     "name": "stdout",
     "output_type": "stream",
     "text": [
      "Decoder Block number  2\n",
      "Decoder Self Attention 2\n"
     ]
    },
    {
     "data": {
      "image/png": "[encoded data removed]",
      "text/plain": [
       "<Figure size 2000x1000 with 16 Axes>"
      ]
     },
     "metadata": {},
     "output_type": "display_data"
    },
    {
     "name": "stdout",
     "output_type": "stream",
     "text": [
      "Decoder Cross attention 2\n"
     ]
    },
    {
     "data": {
      "image/png": "[encoded data removed]",
      "text/plain": [
       "<Figure size 2000x1000 with 16 Axes>"
      ]
     },
     "metadata": {},
     "output_type": "display_data"
    },
    {
     "name": "stdout",
     "output_type": "stream",
     "text": [
      "Decoder Block number  3\n",
      "Decoder Self Attention 3\n"
     ]
    },
    {
     "data": {
      "image/png": "[encoded data removed]",
      "text/plain": [
       "<Figure size 2000x1000 with 16 Axes>"
      ]
     },
     "metadata": {},
     "output_type": "display_data"
    },
    {
     "name": "stdout",
     "output_type": "stream",
     "text": [
      "Decoder Cross attention 3\n"
     ]
    },
    {
     "data": {
      "image/png": "[encoded data removed]",
      "text/plain": [
       "<Figure size 2000x1000 with 16 Axes>"
      ]
     },
     "metadata": {},
     "output_type": "display_data"
    },
    {
     "name": "stdout",
     "output_type": "stream",
     "text": [
      "Decoder Block number  4\n",
      "Decoder Self Attention 4\n"
     ]
    },
    {
     "data": {
      "image/png": "[encoded data removed]",
      "text/plain": [
       "<Figure size 2000x1000 with 16 Axes>"
      ]
     },
     "metadata": {},
     "output_type": "display_data"
    },
    {
     "name": "stdout",
     "output_type": "stream",
     "text": [
      "Decoder Cross attention 4\n"
     ]
    },
    {
     "data": {
      "image/png": "[encoded data removed]",
      "text/plain": [
       "<Figure size 2000x1000 with 16 Axes>"
      ]
     },
     "metadata": {},
     "output_type": "display_data"
    }
   ],
   "source": [
    "for layer in range(num_dec_layers):\n",
    "    fig, axs = plt.subplots(1, num_heads, figsize=(20, 10))\n",
    "\n",
    "    print(\"Decoder Block number \", layer + 1)\n",
    "\n",
    "    print(\"Decoder Self Attention\", layer + 1)\n",
    "    for h in range(num_heads):\n",
    "        draw(\n",
    "            trained_model.decoder.layers[layer]\n",
    "            .attention_self.heads[h]\n",
    "            .weights_softmax.data.cpu()\n",
    "            .numpy()[0],\n",
    "            target_exp,\n",
    "            target_exp if h == 0 else [],\n",
    "            ax=axs[h],\n",
    "        )\n",
    "    plt.show()\n",
    "    print(\"Decoder Cross attention\", layer + 1)\n",
    "    fig, axs = plt.subplots(1, num_heads, figsize=(20, 10))\n",
    "    for h in range(num_heads):\n",
    "        draw(\n",
    "            trained_model.decoder.layers[layer]\n",
    "            .attention_cross.heads[h]\n",
    "            .weights_softmax.data.cpu()\n",
    "            .numpy()[0],\n",
    "            inp_seq,\n",
    "            target_exp if h == 0 else [],\n",
    "            ax=axs[h],\n",
    "        )\n",
    "    plt.show()"
   ]
  }
 ],
 "metadata": {
  "accelerator": "GPU",
  "colab": {
   "collapsed_sections": [
    "b43b5e66-7d96-49a7-8d73-649c1d8de2ef",
    "137296b8-8ab8-4f9d-bff5-e2584370a757",
    "3412c073-d239-450a-aa46-9ec3d61309a6",
    "0b9ae8cd-2813-4845-a4df-d47ebdc60971"
   ],
   "name": "Transformers.ipynb",
   "provenance": []
  },
  "interpreter": {
   "hash": "3e6a8e772529b48ea93620fbc55d49ea9e469a86dedbc53ac24607b5264d00e5"
  },
  "kaggle": {
   "accelerator": "nvidiaTeslaT4",
   "dataSources": [
    {
     "datasetId": 4867368,
     "sourceId": 8212761,
     "sourceType": "datasetVersion"
    }
   ],
   "dockerImageVersionId": 30699,
   "isGpuEnabled": true,
   "isInternetEnabled": true,
   "language": "python",
   "sourceType": "notebook"
  },
  "kernelspec": {
   "display_name": "Python 3",
   "language": "python",
   "name": "python3"
  },
  "language_info": {
   "codemirror_mode": {
    "name": "ipython",
    "version": 3
   },
   "file_extension": ".py",
   "mimetype": "text/x-python",
   "name": "python",
   "nbconvert_exporter": "python",
   "pygments_lexer": "ipython3",
   "version": "3.10.13"
  },
  "papermill": {
   "default_parameters": {},
   "duration": 3266.735198,
   "end_time": "2024-05-10T16:17:13.724131",
   "environment_variables": {},
   "exception": null,
   "input_path": "__notebook__.ipynb",
   "output_path": "__notebook__.ipynb",
   "parameters": {},
   "start_time": "2024-05-10T15:22:46.988933",
   "version": "2.5.0"
  }
 },
 "nbformat": 4,
 "nbformat_minor": 5
}
